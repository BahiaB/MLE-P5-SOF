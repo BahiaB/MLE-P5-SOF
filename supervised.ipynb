{
 "cells": [
  {
   "cell_type": "code",
   "execution_count": 158,
   "metadata": {},
   "outputs": [],
   "source": [
    "import numpy as np\n",
    "from sklearn.pipeline import Pipeline\n",
    "from sklearn.feature_extraction.text import TfidfVectorizer\n",
    "from sklearn.model_selection import train_test_split\n",
    "import pandas as pd \n",
    "from transformers import BertTokenizer, BertModel\n",
    "import torch\n",
    "\n",
    "\n",
    "import mlflow\n",
    "import matplotlib.pyplot as plt\n",
    "import gensim\n",
    "from gensim.models import Word2Vec\n",
    "\n",
    "from sklearn.base import BaseEstimator, TransformerMixin\n",
    "from sklearn.ensemble import RandomForestClassifier\n",
    "from sklearn.preprocessing import MultiLabelBinarizer\n",
    "from sklearn.manifold import TSNE\n",
    "import seaborn as sns\n",
    "from sentence_transformers import SentenceTransformer\n",
    "\n",
    "import time\n",
    "from sklearn.linear_model import LogisticRegression\n",
    "from sklearn.multiclass import OneVsRestClassifier\n",
    "from sklearn.metrics import accuracy_score, precision_score, recall_score, f1_score, classification_report, hamming_loss, jaccard_score\n",
    "\n"
   ]
  },
  {
   "cell_type": "markdown",
   "metadata": {},
   "source": [
    "## Fonctions"
   ]
  },
  {
   "cell_type": "code",
   "execution_count": 159,
   "metadata": {},
   "outputs": [],
   "source": [
    "def select_top_n_tags(probabilities, threshold, top_n=5):\n",
    "    \"\"\" Sélectionne les top N tags pour chaque échantillon en fonction d'un seuil de probabilité.\"\"\"\n",
    "\n",
    "    # Créer une matrice de zéros de la même forme que probabilities\n",
    "    final_tags = np.zeros(probabilities.shape)\n",
    "    \n",
    "    for i in range(probabilities.shape[0]):\n",
    "        # Trouver les indices qui satisfont le seuil\n",
    "        eligible_indices = np.where(probabilities[i] >= threshold)[0]\n",
    "        \n",
    "        # Trier ces indices en fonction de leur probabilité\n",
    "        top_indices = eligible_indices[np.argsort(probabilities[i][eligible_indices])][::-1]\n",
    "        \n",
    "        # Sélectionner les top N indices\n",
    "        top_n_indices = top_indices[:top_n]\n",
    "        \n",
    "        # Mettre à 1 les positions correspondant aux tags sélectionnés\n",
    "        final_tags[i, top_n_indices] = 1\n",
    "    \n",
    "    return final_tags\n",
    "\n"
   ]
  },
  {
   "cell_type": "code",
   "execution_count": 160,
   "metadata": {},
   "outputs": [],
   "source": [
    "def plot_result(model_results):\n",
    "    \"\"\"Fonction pour afficher le graphiques des résultats des modèles\n",
    "        Log les graphiques dans mlflow\"\"\"\n",
    "    # Largeur des barres\n",
    "    barWidth = 0.2\n",
    "    title = str(model_results.iloc[0,0])\n",
    "    # Position des barres sur l'axe x\n",
    "    r1 = np.arange(len(model_results['Vectorizer']))\n",
    "    r2 = [x + barWidth for x in r1]\n",
    "\n",
    "    plt.figure(figsize=(6,5))\n",
    "\n",
    "    # Créer les barres\n",
    "    plt.bar(r1, model_results['precision Test'], width = barWidth, color = 'blue', edgecolor = 'grey', label='Precision Test')\n",
    "    plt.bar(r2, model_results['Jaccard Test'], width = barWidth, color = 'cyan', edgecolor = 'grey', label='Jaccard Test')\n",
    "\n",
    "    # Ajouter des xticks \n",
    "    plt.title(title, fontweight='bold', fontsize = 15)\n",
    "    plt.xlabel(title, fontweight='bold', fontsize = 15)\n",
    "    plt.ylabel('Score', fontweight='bold', fontsize = 15)\n",
    "    plt.xticks([r + barWidth for r in range(len(model_results['Vectorizer']))], model_results['Vectorizer'])\n",
    "\n",
    "    plt.legend()\n",
    "    plt.savefig(title+\".png\")\n",
    "    mlflow.log_artifact(title+\".png\")\n",
    "    plt.show()"
   ]
  },
  {
   "cell_type": "code",
   "execution_count": 161,
   "metadata": {},
   "outputs": [],
   "source": [
    "def stocker_results(name = str, precision_test=None, recall_test=None,f1_test=None,jaccard_test=None, fit_time=None, transform_time=None, predict_time=None, model=None, X_test=None, y_test=None):\n",
    "    \"\"\"Fonction pour stocker les résultats des modèles dans un DataFrame\n",
    "        Log les résultats dans mlflow\"\"\"\n",
    "    results = pd.DataFrame({'Vectorizer': [name], 'precision Test': [precision_test], 'recall_test':[recall_test],'f1_test':[f1_test],'Jaccard Test': [jaccard_test],'Fit Time': [fit_time], 'predict_time': [predict_time]})\n",
    "    display(results)\n",
    "    mlflow.log_metric(\"Jaccard Score\", jaccard_test)\n",
    "    mlflow.log_metric(\"Precision\", precision_test)\n",
    "    mlflow.log_metric(\"Recall\", recall_test)\n",
    "    mlflow.log_metric(\"F1 Score\", f1_test)\n",
    "    mlflow.log_metric(\"Fit_time\", fit_time)\n",
    "    mlflow.log_metric(\"prediction_time\", predict_time)\n",
    "    return results"
   ]
  },
  {
   "cell_type": "code",
   "execution_count": 162,
   "metadata": {},
   "outputs": [],
   "source": [
    "def tags_predicted_to_text(tags_predicted, mlb):\n",
    "    \"\"\"Fonction pour transformer les tags prédits en texte\n",
    "        Log les résultats dans mlflow\"\"\"\n",
    "    predictions_labels =mlb.inverse_transform(tags_predicted)\n",
    "    predictions_labels= pd.DataFrame(predictions_labels)\n",
    "    predictions_labels.to_csv(\"Data/predictions_labels.csv\", index=False)\n",
    "    mlflow.log_artifact(\"Data/predictions_labels.csv\")"
   ]
  },
  {
   "cell_type": "code",
   "execution_count": 163,
   "metadata": {},
   "outputs": [],
   "source": [
    "def words_tokenize(text):\n",
    "    text = text.split()\n",
    "    return text"
   ]
  },
  {
   "cell_type": "code",
   "execution_count": 164,
   "metadata": {},
   "outputs": [
    {
     "data": {
      "text/html": [
       "<div>\n",
       "<style scoped>\n",
       "    .dataframe tbody tr th:only-of-type {\n",
       "        vertical-align: middle;\n",
       "    }\n",
       "\n",
       "    .dataframe tbody tr th {\n",
       "        vertical-align: top;\n",
       "    }\n",
       "\n",
       "    .dataframe thead th {\n",
       "        text-align: right;\n",
       "    }\n",
       "</style>\n",
       "<table border=\"1\" class=\"dataframe\">\n",
       "  <thead>\n",
       "    <tr style=\"text-align: right;\">\n",
       "      <th></th>\n",
       "      <th>Title</th>\n",
       "      <th>Body</th>\n",
       "      <th>Tags</th>\n",
       "      <th>Body_word_count</th>\n",
       "      <th>combined</th>\n",
       "    </tr>\n",
       "  </thead>\n",
       "  <tbody>\n",
       "    <tr>\n",
       "      <th>0</th>\n",
       "      <td>android jetpack navigation bottomnavigationvie...</td>\n",
       "      <td>android jetpack navigation bottomnavigationvie...</td>\n",
       "      <td>android android-architecture-components bottom...</td>\n",
       "      <td>131</td>\n",
       "      <td>android jetpack navigation bottomnavigationvie...</td>\n",
       "    </tr>\n",
       "    <tr>\n",
       "      <th>1</th>\n",
       "      <td>jetpack compose button drawable</td>\n",
       "      <td>achieve jetpack compose something button eleva...</td>\n",
       "      <td>android android-jetpack-compose android-compos...</td>\n",
       "      <td>60</td>\n",
       "      <td>jetpack compose button drawable achieve jetpac...</td>\n",
       "    </tr>\n",
       "    <tr>\n",
       "      <th>2</th>\n",
       "      <td>topappbar flash navigate compose navigation</td>\n",
       "      <td>screen scaffold topappbar navigate jetpack nav...</td>\n",
       "      <td>android android-jetpack android-jetpack-compos...</td>\n",
       "      <td>198</td>\n",
       "      <td>topappbar flash navigate compose navigation sc...</td>\n",
       "    </tr>\n",
       "    <tr>\n",
       "      <th>3</th>\n",
       "      <td>how create recycler view compose jetpack</td>\n",
       "      <td>special way create recyclerview compose jetpac...</td>\n",
       "      <td>android android-recyclerview android-jetpack-c...</td>\n",
       "      <td>7</td>\n",
       "      <td>how create recycler view compose jetpack speci...</td>\n",
       "    </tr>\n",
       "    <tr>\n",
       "      <th>4</th>\n",
       "      <td>how navhostfragment</td>\n",
       "      <td>integrate android navigation architecture comp...</td>\n",
       "      <td>android android-fragments android-architecture...</td>\n",
       "      <td>48</td>\n",
       "      <td>how navhostfragment integrate android navigati...</td>\n",
       "    </tr>\n",
       "    <tr>\n",
       "      <th>...</th>\n",
       "      <td>...</td>\n",
       "      <td>...</td>\n",
       "      <td>...</td>\n",
       "      <td>...</td>\n",
       "      <td>...</td>\n",
       "    </tr>\n",
       "    <tr>\n",
       "      <th>33574</th>\n",
       "      <td>spring rest json can handle managedback refere...</td>\n",
       "      <td>post httplocalhosttranslators angularjs fronte...</td>\n",
       "      <td>java json hibernate jackson spring-boot</td>\n",
       "      <td>273</td>\n",
       "      <td>spring rest json can handle managedback refere...</td>\n",
       "    </tr>\n",
       "    <tr>\n",
       "      <th>33575</th>\n",
       "      <td>disableenable submit button form fill</td>\n",
       "      <td>form submit button disabledenabled depend form...</td>\n",
       "      <td>javascript forms submit disabled-control</td>\n",
       "      <td>56</td>\n",
       "      <td>disableenable submit button form fill form sub...</td>\n",
       "    </tr>\n",
       "    <tr>\n",
       "      <th>33576</th>\n",
       "      <td>how keep net console app run</td>\n",
       "      <td>consider console application start service sep...</td>\n",
       "      <td>c# multithreading sleep manualresetevent</td>\n",
       "      <td>53</td>\n",
       "      <td>how keep net console app run consider console ...</td>\n",
       "    </tr>\n",
       "    <tr>\n",
       "      <th>33577</th>\n",
       "      <td>how avoid javalangnoclassdeffounderror</td>\n",
       "      <td>code add text exist doc file itll save another...</td>\n",
       "      <td>java apache-poi noclassdeffounderror doc</td>\n",
       "      <td>165</td>\n",
       "      <td>how avoid javalangnoclassdeffounderror code ad...</td>\n",
       "    </tr>\n",
       "    <tr>\n",
       "      <th>33578</th>\n",
       "      <td>jetty throw noclassdeffounderror orgeclipsejet...</td>\n",
       "      <td>maven build throw end build shutdown jetty noc...</td>\n",
       "      <td>java jetty noclassdeffounderror shutdown</td>\n",
       "      <td>290</td>\n",
       "      <td>jetty throw noclassdeffounderror orgeclipsejet...</td>\n",
       "    </tr>\n",
       "  </tbody>\n",
       "</table>\n",
       "<p>33579 rows × 5 columns</p>\n",
       "</div>"
      ],
      "text/plain": [
       "                                                   Title  \\\n",
       "0      android jetpack navigation bottomnavigationvie...   \n",
       "1                        jetpack compose button drawable   \n",
       "2            topappbar flash navigate compose navigation   \n",
       "3               how create recycler view compose jetpack   \n",
       "4                                    how navhostfragment   \n",
       "...                                                  ...   \n",
       "33574  spring rest json can handle managedback refere...   \n",
       "33575              disableenable submit button form fill   \n",
       "33576                       how keep net console app run   \n",
       "33577             how avoid javalangnoclassdeffounderror   \n",
       "33578  jetty throw noclassdeffounderror orgeclipsejet...   \n",
       "\n",
       "                                                    Body  \\\n",
       "0      android jetpack navigation bottomnavigationvie...   \n",
       "1      achieve jetpack compose something button eleva...   \n",
       "2      screen scaffold topappbar navigate jetpack nav...   \n",
       "3      special way create recyclerview compose jetpac...   \n",
       "4      integrate android navigation architecture comp...   \n",
       "...                                                  ...   \n",
       "33574  post httplocalhosttranslators angularjs fronte...   \n",
       "33575  form submit button disabledenabled depend form...   \n",
       "33576  consider console application start service sep...   \n",
       "33577  code add text exist doc file itll save another...   \n",
       "33578  maven build throw end build shutdown jetty noc...   \n",
       "\n",
       "                                                    Tags  Body_word_count  \\\n",
       "0      android android-architecture-components bottom...              131   \n",
       "1      android android-jetpack-compose android-compos...               60   \n",
       "2      android android-jetpack android-jetpack-compos...              198   \n",
       "3      android android-recyclerview android-jetpack-c...                7   \n",
       "4      android android-fragments android-architecture...               48   \n",
       "...                                                  ...              ...   \n",
       "33574            java json hibernate jackson spring-boot              273   \n",
       "33575           javascript forms submit disabled-control               56   \n",
       "33576           c# multithreading sleep manualresetevent               53   \n",
       "33577           java apache-poi noclassdeffounderror doc              165   \n",
       "33578           java jetty noclassdeffounderror shutdown              290   \n",
       "\n",
       "                                                combined  \n",
       "0      android jetpack navigation bottomnavigationvie...  \n",
       "1      jetpack compose button drawable achieve jetpac...  \n",
       "2      topappbar flash navigate compose navigation sc...  \n",
       "3      how create recycler view compose jetpack speci...  \n",
       "4      how navhostfragment integrate android navigati...  \n",
       "...                                                  ...  \n",
       "33574  spring rest json can handle managedback refere...  \n",
       "33575  disableenable submit button form fill form sub...  \n",
       "33576  how keep net console app run consider console ...  \n",
       "33577  how avoid javalangnoclassdeffounderror code ad...  \n",
       "33578  jetty throw noclassdeffounderror orgeclipsejet...  \n",
       "\n",
       "[33579 rows x 5 columns]"
      ]
     },
     "metadata": {},
     "output_type": "display_data"
    }
   ],
   "source": [
    "data = pd.read_csv('Data/df_tags_filtered.csv')\n",
    "# Combinaison des colonnes Title et Body\n",
    "data['combined'] = data['Title'] + \" \" + data['Body']\n",
    "\n",
    "display(data)"
   ]
  },
  {
   "cell_type": "code",
   "execution_count": 165,
   "metadata": {},
   "outputs": [
    {
     "data": {
      "text/html": [
       "<div>\n",
       "<style scoped>\n",
       "    .dataframe tbody tr th:only-of-type {\n",
       "        vertical-align: middle;\n",
       "    }\n",
       "\n",
       "    .dataframe tbody tr th {\n",
       "        vertical-align: top;\n",
       "    }\n",
       "\n",
       "    .dataframe thead th {\n",
       "        text-align: right;\n",
       "    }\n",
       "</style>\n",
       "<table border=\"1\" class=\"dataframe\">\n",
       "  <thead>\n",
       "    <tr style=\"text-align: right;\">\n",
       "      <th></th>\n",
       "      <th>Title</th>\n",
       "      <th>Body</th>\n",
       "      <th>Tags</th>\n",
       "      <th>Body_word_count</th>\n",
       "      <th>combined</th>\n",
       "    </tr>\n",
       "  </thead>\n",
       "  <tbody>\n",
       "    <tr>\n",
       "      <th>0</th>\n",
       "      <td>[android, jetpack, navigation, bottomnavigatio...</td>\n",
       "      <td>[android, jetpack, navigation, bottomnavigatio...</td>\n",
       "      <td>[android, android-architecture-components, bot...</td>\n",
       "      <td>131</td>\n",
       "      <td>android jetpack navigation bottomnavigationvie...</td>\n",
       "    </tr>\n",
       "    <tr>\n",
       "      <th>1</th>\n",
       "      <td>[jetpack, compose, button, drawable]</td>\n",
       "      <td>[achieve, jetpack, compose, something, button,...</td>\n",
       "      <td>[android, android-jetpack-compose, android-com...</td>\n",
       "      <td>60</td>\n",
       "      <td>jetpack compose button drawable achieve jetpac...</td>\n",
       "    </tr>\n",
       "    <tr>\n",
       "      <th>2</th>\n",
       "      <td>[topappbar, flash, navigate, compose, navigation]</td>\n",
       "      <td>[screen, scaffold, topappbar, navigate, jetpac...</td>\n",
       "      <td>[android, android-jetpack, android-jetpack-com...</td>\n",
       "      <td>198</td>\n",
       "      <td>topappbar flash navigate compose navigation sc...</td>\n",
       "    </tr>\n",
       "    <tr>\n",
       "      <th>3</th>\n",
       "      <td>[how, create, recycler, view, compose, jetpack]</td>\n",
       "      <td>[special, way, create, recyclerview, compose, ...</td>\n",
       "      <td>[android, android-recyclerview, android-jetpac...</td>\n",
       "      <td>7</td>\n",
       "      <td>how create recycler view compose jetpack speci...</td>\n",
       "    </tr>\n",
       "    <tr>\n",
       "      <th>4</th>\n",
       "      <td>[how, navhostfragment]</td>\n",
       "      <td>[integrate, android, navigation, architecture,...</td>\n",
       "      <td>[android, android-fragments, android-architect...</td>\n",
       "      <td>48</td>\n",
       "      <td>how navhostfragment integrate android navigati...</td>\n",
       "    </tr>\n",
       "    <tr>\n",
       "      <th>...</th>\n",
       "      <td>...</td>\n",
       "      <td>...</td>\n",
       "      <td>...</td>\n",
       "      <td>...</td>\n",
       "      <td>...</td>\n",
       "    </tr>\n",
       "    <tr>\n",
       "      <th>33574</th>\n",
       "      <td>[spring, rest, json, can, handle, managedback,...</td>\n",
       "      <td>[post, httplocalhosttranslators, angularjs, fr...</td>\n",
       "      <td>[java, json, hibernate, jackson, spring-boot]</td>\n",
       "      <td>273</td>\n",
       "      <td>spring rest json can handle managedback refere...</td>\n",
       "    </tr>\n",
       "    <tr>\n",
       "      <th>33575</th>\n",
       "      <td>[disableenable, submit, button, form, fill]</td>\n",
       "      <td>[form, submit, button, disabledenabled, depend...</td>\n",
       "      <td>[javascript, forms, submit, disabled-control]</td>\n",
       "      <td>56</td>\n",
       "      <td>disableenable submit button form fill form sub...</td>\n",
       "    </tr>\n",
       "    <tr>\n",
       "      <th>33576</th>\n",
       "      <td>[how, keep, net, console, app, run]</td>\n",
       "      <td>[consider, console, application, start, servic...</td>\n",
       "      <td>[c#, multithreading, sleep, manualresetevent]</td>\n",
       "      <td>53</td>\n",
       "      <td>how keep net console app run consider console ...</td>\n",
       "    </tr>\n",
       "    <tr>\n",
       "      <th>33577</th>\n",
       "      <td>[how, avoid, javalangnoclassdeffounderror]</td>\n",
       "      <td>[code, add, text, exist, doc, file, itll, save...</td>\n",
       "      <td>[java, apache-poi, noclassdeffounderror, doc]</td>\n",
       "      <td>165</td>\n",
       "      <td>how avoid javalangnoclassdeffounderror code ad...</td>\n",
       "    </tr>\n",
       "    <tr>\n",
       "      <th>33578</th>\n",
       "      <td>[jetty, throw, noclassdeffounderror, orgeclips...</td>\n",
       "      <td>[maven, build, throw, end, build, shutdown, je...</td>\n",
       "      <td>[java, jetty, noclassdeffounderror, shutdown]</td>\n",
       "      <td>290</td>\n",
       "      <td>jetty throw noclassdeffounderror orgeclipsejet...</td>\n",
       "    </tr>\n",
       "  </tbody>\n",
       "</table>\n",
       "<p>33579 rows × 5 columns</p>\n",
       "</div>"
      ],
      "text/plain": [
       "                                                   Title  \\\n",
       "0      [android, jetpack, navigation, bottomnavigatio...   \n",
       "1                   [jetpack, compose, button, drawable]   \n",
       "2      [topappbar, flash, navigate, compose, navigation]   \n",
       "3        [how, create, recycler, view, compose, jetpack]   \n",
       "4                                 [how, navhostfragment]   \n",
       "...                                                  ...   \n",
       "33574  [spring, rest, json, can, handle, managedback,...   \n",
       "33575        [disableenable, submit, button, form, fill]   \n",
       "33576                [how, keep, net, console, app, run]   \n",
       "33577         [how, avoid, javalangnoclassdeffounderror]   \n",
       "33578  [jetty, throw, noclassdeffounderror, orgeclips...   \n",
       "\n",
       "                                                    Body  \\\n",
       "0      [android, jetpack, navigation, bottomnavigatio...   \n",
       "1      [achieve, jetpack, compose, something, button,...   \n",
       "2      [screen, scaffold, topappbar, navigate, jetpac...   \n",
       "3      [special, way, create, recyclerview, compose, ...   \n",
       "4      [integrate, android, navigation, architecture,...   \n",
       "...                                                  ...   \n",
       "33574  [post, httplocalhosttranslators, angularjs, fr...   \n",
       "33575  [form, submit, button, disabledenabled, depend...   \n",
       "33576  [consider, console, application, start, servic...   \n",
       "33577  [code, add, text, exist, doc, file, itll, save...   \n",
       "33578  [maven, build, throw, end, build, shutdown, je...   \n",
       "\n",
       "                                                    Tags  Body_word_count  \\\n",
       "0      [android, android-architecture-components, bot...              131   \n",
       "1      [android, android-jetpack-compose, android-com...               60   \n",
       "2      [android, android-jetpack, android-jetpack-com...              198   \n",
       "3      [android, android-recyclerview, android-jetpac...                7   \n",
       "4      [android, android-fragments, android-architect...               48   \n",
       "...                                                  ...              ...   \n",
       "33574      [java, json, hibernate, jackson, spring-boot]              273   \n",
       "33575      [javascript, forms, submit, disabled-control]               56   \n",
       "33576      [c#, multithreading, sleep, manualresetevent]               53   \n",
       "33577      [java, apache-poi, noclassdeffounderror, doc]              165   \n",
       "33578      [java, jetty, noclassdeffounderror, shutdown]              290   \n",
       "\n",
       "                                                combined  \n",
       "0      android jetpack navigation bottomnavigationvie...  \n",
       "1      jetpack compose button drawable achieve jetpac...  \n",
       "2      topappbar flash navigate compose navigation sc...  \n",
       "3      how create recycler view compose jetpack speci...  \n",
       "4      how navhostfragment integrate android navigati...  \n",
       "...                                                  ...  \n",
       "33574  spring rest json can handle managedback refere...  \n",
       "33575  disableenable submit button form fill form sub...  \n",
       "33576  how keep net console app run consider console ...  \n",
       "33577  how avoid javalangnoclassdeffounderror code ad...  \n",
       "33578  jetty throw noclassdeffounderror orgeclipsejet...  \n",
       "\n",
       "[33579 rows x 5 columns]"
      ]
     },
     "metadata": {},
     "output_type": "display_data"
    }
   ],
   "source": [
    "# tansformation en liste\n",
    "\n",
    "data['Body'] = data.Body.apply(lambda text: words_tokenize(text))\n",
    "data['Title'] = data.Title.apply(lambda text: words_tokenize(text))\n",
    "data['Tags'] = data.Tags.apply(lambda text: words_tokenize(text))\n",
    "display(data)"
   ]
  },
  {
   "cell_type": "code",
   "execution_count": 166,
   "metadata": {},
   "outputs": [],
   "source": [
    "X = data[['Title','Body']]  # features\n",
    "y = data['Tags']       # target\n",
    "\n",
    "\n",
    "df = pd.DataFrame(data)\n",
    "def merge_and_keep_first_occurrence(row):\n",
    "    merged = row['Title'] + row['Body']\n",
    "    return list(dict.fromkeys(merged))\n",
    "# Appliquer la fonction à chaque ligne du DataFrame\n",
    "df['Merged'] = data.apply(merge_and_keep_first_occurrence, axis=1)\n",
    "\n",
    "X = df['Merged']\n"
   ]
  },
  {
   "cell_type": "code",
   "execution_count": 167,
   "metadata": {},
   "outputs": [
    {
     "data": {
      "text/plain": [
       "(26863,)"
      ]
     },
     "metadata": {},
     "output_type": "display_data"
    },
    {
     "data": {
      "text/plain": [
       "(6716,)"
      ]
     },
     "metadata": {},
     "output_type": "display_data"
    }
   ],
   "source": [
    "# Séparation des données en train et test sets. \n",
    "# Sélection d'un sample pour accélérer le processus de test\n",
    "X_train, X_test, y_train, y_test = train_test_split(X,y,\n",
    "    test_size=0.2,\n",
    "    random_state=42\n",
    ")\n",
    "\n",
    "\n",
    "display(X_train.shape, X_test.shape)\n",
    "X_train_sample = X_train.sample(2600, random_state=42)\n",
    "y_train_sample = y_train.loc[X_train_sample.index]\n",
    "X_test_sample = X_test.sample(400, random_state=42)\n",
    "y_test_sample = y_test.loc[X_test_sample.index]"
   ]
  },
  {
   "cell_type": "code",
   "execution_count": 168,
   "metadata": {},
   "outputs": [
    {
     "name": "stdout",
     "output_type": "stream",
     "text": [
      "(2600,) (400,)\n",
      "(400,) (2600,)\n"
     ]
    }
   ],
   "source": [
    "print(X_train_sample.shape, X_test_sample.shape)\n",
    "print(y_test_sample.shape, y_train_sample.shape)"
   ]
  },
  {
   "cell_type": "markdown",
   "metadata": {},
   "source": [
    "## Pipeline vectorisation"
   ]
  },
  {
   "cell_type": "code",
   "execution_count": 169,
   "metadata": {},
   "outputs": [],
   "source": [
    "\n",
    "\n",
    "class CustomTfidfVectorizer(BaseEstimator, TransformerMixin):\n",
    "    def __init__(self, min_df=0.008, max_df=0.9, ngram_range=(1, 1), norm='l2', use_idf=True, stop_words='english'):\n",
    "        self.min_df = min_df\n",
    "        self.max_df = max_df\n",
    "        self.ngram_range = ngram_range\n",
    "        self.norm = norm\n",
    "        self.use_idf = use_idf\n",
    "        self.stop_words = stop_words\n",
    "        self.vectorizer = TfidfVectorizer(min_df=self.min_df, max_df=self.max_df,\n",
    "                                          ngram_range=self.ngram_range, norm=self.norm,\n",
    "                                          use_idf=self.use_idf, stop_words=self.stop_words)\n",
    "\n",
    "    def fit(self, X, y=None):\n",
    "        self.vectorizer.fit(X)\n",
    "        return self\n",
    "\n",
    "    def transform(self, X, y=None):\n",
    "        return self.vectorizer.transform(X)\n",
    "    \n",
    "\n",
    "\n",
    "class CustomWord2VecVectorizer(BaseEstimator, TransformerMixin):\n",
    "    def __init__(self, vector_size=400, window=8, min_count=6,alpha=0.025, epochs=5,workers=5, sg=0, max_vocab_size=None):\n",
    "        self.vector_size = vector_size\n",
    "        self.window = window\n",
    "        self.min_count = min_count\n",
    "        self.alpha = alpha\n",
    "        self.epochs = epochs\n",
    "        self.workers = workers\n",
    "        self.sg = sg\n",
    "        self.max_vocab_size = max_vocab_size\n",
    "        self.model = Word2Vec(\n",
    "            vector_size=self.vector_size, \n",
    "            window=self.window, \n",
    "            workers=self.workers, \n",
    "            sg=self.sg\n",
    "        )\n",
    "    def fit(self, X, y=None):\n",
    "        self.model = Word2Vec(\n",
    "            vector_size=self.vector_size, \n",
    "            window=self.window, \n",
    "            min_count=self.min_count,\n",
    "            alpha=self.alpha,\n",
    "            workers=self.workers,\n",
    "            sg=self.sg,\n",
    "            max_vocab_size=self.max_vocab_size\n",
    "        )\n",
    "        self.model.build_vocab(X)\n",
    "        return self\n",
    "\n",
    "    def transform(self, X, y=None):\n",
    "        # Moyenne des vecteurs de mots pour chaque document\n",
    "        return np.array([np.mean([self.model.wv[w] for w in words if w in self.model.wv]\n",
    "                                 or [np.zeros(self.model.vector_size)], axis=0)\n",
    "                         for words in X])\n",
    "\n",
    "\n",
    "\n",
    "\n",
    "class CustomBERTVectorizer(BaseEstimator, TransformerMixin):\n",
    "    def __init__(self, max_length=128):\n",
    "        self.tokenizer = BertTokenizer.from_pretrained('bert-base-uncased')\n",
    "        self.model = BertModel.from_pretrained('bert-base-uncased')\n",
    "        self.max_length = max_length\n",
    "\n",
    "    def fit(self, X, y=None):\n",
    "        return self\n",
    "\n",
    "    def transform(self, X, y=None):\n",
    "        # Tokenization\n",
    "        inputs = self.tokenizer(X, padding=True, truncation=True, max_length=self.max_length, return_tensors=\"pt\")\n",
    "        \n",
    "        # Passer les inputs à travers BERT\n",
    "        with torch.no_grad():\n",
    "            outputs = self.model(**inputs)\n",
    "        \n",
    "        # Récupérer la représentation des tokens CLS (premier token)\n",
    "        embeddings = outputs.last_hidden_state[:, 0, :].numpy()\n",
    "        \n",
    "        return embeddings\n",
    "\n",
    "\n",
    "\n",
    "class SentenceTransformerVectorizer(BaseEstimator, TransformerMixin):\n",
    "    def __init__(self, model_name='all-MiniLM-L6-v2'):\n",
    "        self.model = SentenceTransformer(model_name)\n",
    "\n",
    "    def fit(self, X, y=None):\n",
    "        return self\n",
    "\n",
    "    def transform(self, X):\n",
    "        return self.model.encode(X)\n",
    "    \n",
    "\n",
    "def create_tfidf_pipeline():\n",
    "    pipeline_tfidf = Pipeline([\n",
    "        \n",
    "        (\"tfidf\", TfidfVectorizer(min_df=0.007, max_df=0.9, ngram_range=(1, 1), stop_words='english')),\n",
    "        #('mlb', MultiLabelBinarizer()),\n",
    "        (\"clf\", OneVsRestClassifier(LogisticRegression())),\n",
    "    ])\n",
    "    return pipeline_tfidf\n",
    "\n",
    "def create_random_forest_pipeline():\n",
    "    pipeline_rf = Pipeline([\n",
    "        (\"tfidf\", CustomTfidfVectorizer()),\n",
    "        (\"RandomForest\", RandomForestClassifier(n_estimators=100, random_state=42))\n",
    "    ])\n",
    "    return pipeline_rf\n",
    "def create_word2vec_pipeline():\n",
    "    pipeline_word2vec = Pipeline([\n",
    "        (\"word2vec\", CustomWord2VecVectorizer()),\n",
    "        (\"clf_w2v\", OneVsRestClassifier(LogisticRegression())),\n",
    "\n",
    "    ])\n",
    "    return pipeline_word2vec\n",
    "\n",
    "def create_bert_pipeline():\n",
    "    pipeline_bert = Pipeline([\n",
    "        (\"bert_vectorizer\", CustomBERTVectorizer()),\n",
    "        (\"clf_bert\", OneVsRestClassifier(LogisticRegression(max_iter=1000)))\n",
    "    ])\n",
    "    return pipeline_bert\n",
    "\n",
    "def create_use_pipeline():\n",
    "    pipeline_use = Pipeline([\n",
    "        (\"use_vectorizer\", SentenceTransformerVectorizer()),\n",
    "        (\"clf_use\", OneVsRestClassifier(LogisticRegression(max_iter=1000, C=1)))\n",
    "    ])\n",
    "    return pipeline_use\n",
    "\n"
   ]
  },
  {
   "cell_type": "code",
   "execution_count": 170,
   "metadata": {},
   "outputs": [
    {
     "name": "stdout",
     "output_type": "stream",
     "text": [
      "342      [android, user-interface, android-support-libr...\n",
      "11837    [c#, asp.net-mvc, linq, entity-framework, asp....\n",
      "31584       [java, collections, null, java-8, java-stream]\n",
      "14632    [javascript, jquery, script-tag, javascript-in...\n",
      "24015    [css, svg, reactjs, material-design, material-ui]\n",
      "19968    [c#, asp.net, google-chrome, listbox, autopost...\n",
      "8458     [c#, visual-studio, visual-studio-2013, intell...\n",
      "20386    [ios, xcode, label, nsattributedstring, center...\n",
      "15009    [sql, sql-server, sql-server-2008, stored-proc...\n",
      "10601    [c#, winforms, datagridview, datatable, backgr...\n",
      "Name: Tags, dtype: object\n"
     ]
    }
   ],
   "source": [
    "print(y_train_sample[:10])"
   ]
  },
  {
   "cell_type": "code",
   "execution_count": 171,
   "metadata": {},
   "outputs": [
    {
     "name": "stderr",
     "output_type": "stream",
     "text": [
      "/opt/anaconda3/envs/supervisedP5/lib/python3.8/site-packages/sklearn/preprocessing/_label.py:900: UserWarning: unknown class(es) ['abstraction', 'all-files', 'android-5.1.1-lollipop', 'android-appwidget', 'android-button', 'android-cursor', 'android-framelayout', 'android-gradle-3.0', 'android-handler', 'android-implicit-intent', 'android-intentservice', 'android-lifecycle', 'android-location', 'android-multidex', 'android-network-security-config', 'android-viewpager2', 'angular2-routing', 'anonymous-function', 'apache-commons', 'apache-kafka', 'apache-zookeeper', 'apache2.4', 'application-pool', 'appsettings', 'arbitrary-precision', 'asp.net-core-3.0', 'assemblyversionattribute', 'auditing', 'automata', 'avcapturedevice', 'avcapturesession', 'aws-sdk', 'bigint', 'bluestacks', 'browserify', 'c#-2.0', 'c-strings', 'calayer', 'calendar', 'capitalization', 'case', 'cellular-automata', 'centos', 'change-password', 'character-replacement', 'circular-buffer', 'client-side-scripting', 'cobertura', 'code-reuse', 'combinatorics', 'compare-and-swap', 'completionhandler', 'concurrent-programming', 'concurrentdictionary', 'conditional-breakpoint', 'conflict', 'connection-timeout', 'container-data-type', 'content-type', 'continuous-integration', 'control-flow', 'conv-neural-network', 'convenience-methods', 'conways-game-of-life', 'copy-paste', 'cordova-plugins', 'covariant-return-types', 'curly-braces', 'custom-errors', 'dagger-hilt', 'data-access', 'data-integrity', 'dateformatter', 'ddl-trigger', 'design-principles', 'dir', 'disk-access', 'division', 'django-sessions', 'docker-compose', 'documentation', 'drawing', 'e2e-testing', 'eclipse-pde', 'embedded', 'emoji', 'facebook-audience-network', 'fallbackvalue', 'file-get-contents', 'filesystemobject', 'firebase-notifications', 'flutter-web', 'forgot-password', 'format', 'full-outer-join', 'fullcalendar-3', 'function-object', 'galaxy', 'gesture-recognition', 'google-api-objc-client', 'google-play-console', 'graph-visualization', 'graphviz', 'grid', 'group-concat', 'header', 'heap-corruption', 'heap-profiling', 'helper', 'heredoc', 'html-sanitizing', 'http-redirect', 'http-status-code-403', 'icloneable', 'icon-fonts', 'imageview', 'in-app-purchase', 'insertafter', 'instance-variables', 'intentservice', 'interactive', 'ionic3', 'jpa-2.0', 'jquery-traversing', 'jtextfield', 'jupyter-lab', 'kafka-consumer-api', 'kafka-python', 'knockout.js', 'language-comparisons', 'largenumber', 'latex', 'master-pages', 'mediawiki', 'mediawiki-api', 'memory-mapping', 'memory-profiling', 'messagebox', 'micrometer-tracing', 'mkannotation', 'mkpointannotation', 'moss', 'ms-office', 'multi-select', 'multiplatform', 'n-tier-architecture', 'namevaluecollection', 'navigationcontroller', 'nested-properties', 'netbeans', 'netcdf', 'ngx-datatable', 'nsjsonserialization', 'numberformatexception', 'office-interop', 'offline-caching', 'offline-mode', 'okhttp', 'on-screen-keyboard', 'open-closed-principle', 'openoffice.org', 'osx-mavericks', 'pandas-groupby', 'partial', 'password-protection', 'password-recovery', 'pdf-generation', 'pentaho', 'pentaho-cde', 'percentage', 'phone-number', 'phonegap-plugins', 'php-8', 'pimpl-idiom', 'playwright', 'popup', 'portability', 'postdelayed', 'postgresql-performance', 'pre', 'prettier-standard', 'prime-factoring', 'private-members', 'processing', 'project-server', 'protected', 'prototypal-inheritance', 'pygments', 'python-3.6', 'python-sphinx', 'quotes', 'r.java-file', 'range', 'rdbms', 'react-native-reanimated-v2', 'recaptcha', 'recaptcha-v3', 'reduce', 'reentrantlock', 'repository', 'resizable', 'resize', 'restructuredtext', 'reverse-iterator', 'roundedcorners-dropshadow', 'rpt', 'safari-web-inspector', 'scaffolding', 'scientific-notation', 'semantic-ui', 'server-side-scripting', 'session-cookies', 'sfsafariviewcontroller', 'shared-objects', 'sharepoint', 'shrinkresources', 'sieve-of-eratosthenes', 'software-design', 'solid-principles', 'sortedmap', 'spell-checking', 'spring-java-config', 'ssl-certificate', 'ssms', 'static-methods', 'stdthread', 'street-address', 'stretching', 'subpixel', 'svn', 'synchronize', 'system-shutdown', 'templating', 'tensor', 'testflight', 'thread-priority', 'tipfy', 'traversal', 'ubuntu-14.04', 'ubuntu-16.04', 'unicode', 'urlencode', 'urllib2', 'use-effect', 'user-agent', 'virtual-environment', 'visual-studio-2019', 'visual-studio-express', 'wamp', 'web', 'web-inspector', 'web-parts', 'webkit', 'webpack-2', 'window-object', 'wordpress-thesis-theme', 'xamarin.ios', 'xcode3.2', 'xib', 'xml-deserialization', 'xmlexception', 'youtube-api', 'youtube-javascript-api', 'zeroclipboard', 'zipkin'] will be ignored\n",
      "  warnings.warn(\n"
     ]
    }
   ],
   "source": [
    "# Instanciation de MLB et transformation des labels\n",
    "mlb = MultiLabelBinarizer()\n",
    "y_train_sample_trans = mlb.fit_transform(y_train_sample)\n",
    "y_test_sample_trans = mlb.transform(y_test_sample) \n"
   ]
  },
  {
   "cell_type": "markdown",
   "metadata": {},
   "source": [
    "## Vectorisation avec TF_IDF.\n",
    "  Régréssion logistique:  \n",
    "\n",
    "  RandomForest: \n",
    "\n",
    "  XGBoost: \n",
    "\n",
    "  Jaccard Score : C'est la taille de l'intersection des labels prédits et des vrais labels divisée par la taille de l'union des labels prédits et des vrais labels. C'est une bonne métrique pour la classification multilabels car elle prend en compte la présence et l'absence de chaque label.\n",
    "\n",
    "  Precision, Recall, F1 Score : Ces métriques peuvent également être utilisées dans le contexte multilabels, en calculant la métrique pour chaque label individuellement, puis en prenant la moyenne."
   ]
  },
  {
   "cell_type": "code",
   "execution_count": 172,
   "metadata": {},
   "outputs": [
    {
     "data": {
      "text/plain": [
       "'\\npipeline_tfidf_grid = create_tfidf_pipeline()\\nparam_grid_tfidf = {\\n    \\'tfidf__min_df\\': [1, 5, 10],\\n    \\'tfidf__max_df\\': [0.5, 0.75, 1.0],\\n    \\'tfidf__ngram_range\\': [(1, 1), (1, 2), (1, 3)],\\n    \\'tfidf__norm\\': [\\'l1\\', \\'l2\\'],\\n    \\'tfidf__use_idf\\': [True, False],\\n    \\n}\\n\\ngrid_search = GridSearchCV(\\n    pipeline_tfidf_grid, param_grid=param_grid_tfidf, \\n    cv=5,scoring=[\\'f1_weighted\\'] ,verbose=1, refit=\\'f1_weighted\\')\\n\\n# Convertir la matrice CSR en une liste de listes de mots\\n#X_train_sample_trans_list = [row.nonzero()[1].tolist() for row in X_train_sample]\\n\\n# Entraîner le modèle Word2Vec\\ngrid_search.fit(X_train_sample_str, y_train_sample_trans)\\n\\n#grid_search.fit(X_train_sample_trans, y_train_sample_trans)\\n\\nprint(\"Meilleurs hyperparamètres : \", grid_search.best_params_)'"
      ]
     },
     "execution_count": 172,
     "metadata": {},
     "output_type": "execute_result"
    }
   ],
   "source": [
    "from sklearn.model_selection import GridSearchCV\n",
    "\n",
    "'''\n",
    "pipeline_tfidf_grid = create_tfidf_pipeline()\n",
    "param_grid_tfidf = {\n",
    "    'tfidf__min_df': [1, 5, 10],\n",
    "    'tfidf__max_df': [0.5, 0.75, 1.0],\n",
    "    'tfidf__ngram_range': [(1, 1), (1, 2), (1, 3)],\n",
    "    'tfidf__norm': ['l1', 'l2'],\n",
    "    'tfidf__use_idf': [True, False],\n",
    "    \n",
    "}\n",
    "\n",
    "grid_search = GridSearchCV(\n",
    "    pipeline_tfidf_grid, param_grid=param_grid_tfidf, \n",
    "    cv=5,scoring=['f1_weighted'] ,verbose=1, refit='f1_weighted')\n",
    "\n",
    "# Convertir la matrice CSR en une liste de listes de mots\n",
    "#X_train_sample_trans_list = [row.nonzero()[1].tolist() for row in X_train_sample]\n",
    "\n",
    "# Entraîner le modèle Word2Vec\n",
    "grid_search.fit(X_train_sample_str, y_train_sample_trans)\n",
    "\n",
    "#grid_search.fit(X_train_sample_trans, y_train_sample_trans)\n",
    "\n",
    "print(\"Meilleurs hyperparamètres : \", grid_search.best_params_)'''"
   ]
  },
  {
   "cell_type": "code",
   "execution_count": 173,
   "metadata": {},
   "outputs": [],
   "source": [
    "pipeline_tfidf = create_tfidf_pipeline()\n",
    "\n",
    "# Convertir les listes en chaînes de caractères\n",
    "X_train_sample_str = [' '.join(text) for text in X_train_sample]\n",
    "X_test_sample_str = [' '.join(text) for text in X_test_sample]\n",
    "\n",
    "# Utiliser les chaînes de caractères pour l'ajustement et la transformation\n",
    "X_train_sample_trans = pipeline_tfidf[\"tfidf\"].fit_transform(X_train_sample_str)\n",
    "X_test_sample_trans = pipeline_tfidf[\"tfidf\"].transform(X_test_sample_str)\n"
   ]
  },
  {
   "cell_type": "markdown",
   "metadata": {},
   "source": [
    "### Regression logistique OneVsRestClassifier"
   ]
  },
  {
   "cell_type": "code",
   "execution_count": 174,
   "metadata": {},
   "outputs": [
    {
     "data": {
      "text/plain": [
       "<ActiveRun: >"
      ]
     },
     "execution_count": 174,
     "metadata": {},
     "output_type": "execute_result"
    }
   ],
   "source": [
    "mlflow.set_experiment(\"MLflow Quickstart\")\n",
    "mlflow.end_run()\n",
    "mlflow.start_run(run_name=\"TF-IDF-LogisticRegression\")"
   ]
  },
  {
   "cell_type": "code",
   "execution_count": 175,
   "metadata": {},
   "outputs": [
    {
     "name": "stdout",
     "output_type": "stream",
     "text": [
      "shape de prediction (400, 3052)\n",
      "shape de prediction (400, 958)\n"
     ]
    },
    {
     "name": "stderr",
     "output_type": "stream",
     "text": [
      "huggingface/tokenizers: The current process just got forked, after parallelism has already been used. Disabling parallelism to avoid deadlocks...\n",
      "To disable this warning, you can either:\n",
      "\t- Avoid using `tokenizers` before the fork if possible\n",
      "\t- Explicitly set the environment variable TOKENIZERS_PARALLELISM=(true | false)\n",
      "/opt/anaconda3/envs/supervisedP5/lib/python3.8/site-packages/_distutils_hack/__init__.py:11: UserWarning: Distutils was imported before Setuptools, but importing Setuptools also replaces the `distutils` module in `sys.modules`. This may lead to undesirable behaviors or errors. To avoid these issues, avoid using distutils directly, ensure that setuptools is installed in the traditional way (e.g. not an editable install), and/or make sure that setuptools is always imported before distutils.\n",
      "  warnings.warn(\n",
      "/opt/anaconda3/envs/supervisedP5/lib/python3.8/site-packages/_distutils_hack/__init__.py:26: UserWarning: Setuptools is replacing distutils.\n",
      "  warnings.warn(\"Setuptools is replacing distutils.\")\n"
     ]
    },
    {
     "data": {
      "text/plain": [
       "<mlflow.models.model.ModelInfo at 0x7fa8bd727e20>"
      ]
     },
     "execution_count": 175,
     "metadata": {},
     "output_type": "execute_result"
    }
   ],
   "source": [
    "fit_time =time.time()\n",
    "lr_tfidf = pipeline_tfidf.named_steps['clf'].fit(X_train_sample_trans, y_train_sample_trans)\n",
    "fit_time = time.time() - fit_time\n",
    "\n",
    "\n",
    "predict_time = time.time()\n",
    "predictions = lr_tfidf.predict_proba(X_test_sample_trans)\n",
    "predict_time = time.time() - predict_time\n",
    "\n",
    "print(\"shape de prediction\",predictions.shape)\n",
    "print(\"shape de prediction\",X_test_sample_trans.shape)\n",
    "\n",
    "mlflow.log_param(\"min_df\", pipeline_tfidf.named_steps['tfidf'].min_df)\n",
    "mlflow.log_param(\"max_df\", pipeline_tfidf.named_steps['tfidf'].max_df)\n",
    "mlflow.log_metric(\"fit_time\", fit_time)\n",
    "mlflow.sklearn.log_model(lr_tfidf, \"model\")\n"
   ]
  },
  {
   "cell_type": "code",
   "execution_count": 176,
   "metadata": {},
   "outputs": [],
   "source": [
    "probabilities = predictions\n",
    "# Utiliser la fonction pour selectionner les tags les plus probables\n",
    "binary_predictions = select_top_n_tags(probabilities, threshold=0.15, top_n=7)"
   ]
  },
  {
   "cell_type": "code",
   "execution_count": 177,
   "metadata": {},
   "outputs": [
    {
     "name": "stderr",
     "output_type": "stream",
     "text": [
      "/opt/anaconda3/envs/supervisedP5/lib/python3.8/site-packages/sklearn/metrics/_classification.py:1471: UndefinedMetricWarning: Precision is ill-defined and being set to 0.0 in samples with no predicted labels. Use `zero_division` parameter to control this behavior.\n",
      "  _warn_prf(average, modifier, msg_start, len(result))\n"
     ]
    },
    {
     "name": "stdout",
     "output_type": "stream",
     "text": [
      "Jaccard Score: 0.2656726190476191\n",
      "Precision: 0.6502499999999999\n",
      "Recall: 0.31183333333333335\n",
      "F1 Score: 0.39031619769119763\n"
     ]
    }
   ],
   "source": [
    "# Calcul des scores\n",
    "precision_test = precision_score(y_test_sample_trans, binary_predictions, average='samples')\n",
    "recall_test = recall_score(y_test_sample_trans, binary_predictions, average='samples')\n",
    "f1_test = f1_score(y_test_sample_trans, binary_predictions, average='samples')\n",
    "jaccardScore =jaccard_score(y_test_sample_trans, binary_predictions, average='samples')\n",
    "print(\"Jaccard Score:\" , jaccardScore)\n",
    "print(\"Precision:\", precision_test)\n",
    "print(\"Recall:\", recall_test)\n",
    "print(\"F1 Score:\", f1_test)\n",
    "\n"
   ]
  },
  {
   "cell_type": "code",
   "execution_count": 178,
   "metadata": {},
   "outputs": [],
   "source": [
    "# Transformation des tags prédits en texte\n",
    "tags_predicted_to_text(binary_predictions, mlb)"
   ]
  },
  {
   "cell_type": "code",
   "execution_count": 179,
   "metadata": {},
   "outputs": [
    {
     "name": "stdout",
     "output_type": "stream",
     "text": [
      "Taux de remplissage des tags : 0.06%\n"
     ]
    }
   ],
   "source": [
    "# Calculer le nombre total de tags prédits\n",
    "total_predicted_tags = binary_predictions.sum()\n",
    "\n",
    "# Calculer le nombre total de tags possibles\n",
    "total_possible_tags = y_test_sample_trans.size\n",
    "\n",
    "# Calculer le taux de remplissage\n",
    "fill_rate = total_predicted_tags / total_possible_tags\n",
    "\n",
    "print(f'Taux de remplissage des tags : {fill_rate * 100:.2f}%')"
   ]
  },
  {
   "cell_type": "code",
   "execution_count": 180,
   "metadata": {},
   "outputs": [
    {
     "name": "stderr",
     "output_type": "stream",
     "text": [
      "/opt/anaconda3/envs/supervisedP5/lib/python3.8/site-packages/sklearn/metrics/_classification.py:1471: UndefinedMetricWarning: Precision is ill-defined and being set to 0.0 in samples with no predicted labels. Use `zero_division` parameter to control this behavior.\n",
      "  _warn_prf(average, modifier, msg_start, len(result))\n"
     ]
    },
    {
     "data": {
      "text/html": [
       "<div>\n",
       "<style scoped>\n",
       "    .dataframe tbody tr th:only-of-type {\n",
       "        vertical-align: middle;\n",
       "    }\n",
       "\n",
       "    .dataframe tbody tr th {\n",
       "        vertical-align: top;\n",
       "    }\n",
       "\n",
       "    .dataframe thead th {\n",
       "        text-align: right;\n",
       "    }\n",
       "</style>\n",
       "<table border=\"1\" class=\"dataframe\">\n",
       "  <thead>\n",
       "    <tr style=\"text-align: right;\">\n",
       "      <th></th>\n",
       "      <th>Vectorizer</th>\n",
       "      <th>precision Test</th>\n",
       "      <th>recall_test</th>\n",
       "      <th>f1_test</th>\n",
       "      <th>Jaccard Test</th>\n",
       "      <th>Fit Time</th>\n",
       "      <th>predict_time</th>\n",
       "    </tr>\n",
       "  </thead>\n",
       "  <tbody>\n",
       "    <tr>\n",
       "      <th>0</th>\n",
       "      <td>lr_Tfidf</td>\n",
       "      <td>0.65025</td>\n",
       "      <td>0.311833</td>\n",
       "      <td>0.390316</td>\n",
       "      <td>0.265673</td>\n",
       "      <td>24.021199</td>\n",
       "      <td>0.309227</td>\n",
       "    </tr>\n",
       "  </tbody>\n",
       "</table>\n",
       "</div>"
      ],
      "text/plain": [
       "  Vectorizer  precision Test  recall_test   f1_test  Jaccard Test   Fit Time  \\\n",
       "0   lr_Tfidf         0.65025     0.311833  0.390316      0.265673  24.021199   \n",
       "\n",
       "   predict_time  \n",
       "0      0.309227  "
      ]
     },
     "metadata": {},
     "output_type": "display_data"
    }
   ],
   "source": [
    "# Afficher les metrics de classification\n",
    "result_lr_tfidf = stocker_results(name=\"lr_Tfidf\", \n",
    "                                precision_test=precision_score(y_test_sample_trans, binary_predictions, average='samples'),\n",
    "                                f1_test=f1_score(y_test_sample_trans, binary_predictions, average='samples'),\n",
    "                                recall_test = recall_score(y_test_sample_trans, binary_predictions, average='samples'),\n",
    "                                jaccard_test=jaccard_score(y_test_sample_trans, binary_predictions, average='samples'), \n",
    "                                fit_time=fit_time, predict_time = predict_time)"
   ]
  },
  {
   "cell_type": "code",
   "execution_count": 181,
   "metadata": {},
   "outputs": [
    {
     "data": {
      "image/png": "[encoded data removed]",
      "text/plain": [
       "<Figure size 600x500 with 1 Axes>"
      ]
     },
     "metadata": {},
     "output_type": "display_data"
    }
   ],
   "source": [
    "plot_result(result_lr_tfidf)"
   ]
  },
  {
   "cell_type": "code",
   "execution_count": 182,
   "metadata": {},
   "outputs": [],
   "source": [
    "mlflow.end_run()"
   ]
  },
  {
   "cell_type": "markdown",
   "metadata": {},
   "source": [
    "### Random Forest"
   ]
  },
  {
   "cell_type": "code",
   "execution_count": 183,
   "metadata": {},
   "outputs": [],
   "source": [
    "mlflow.start_run(run_name=\"tfidf_Random Forest\")\n",
    "rf_tfidf = create_random_forest_pipeline()\n",
    "# Utiliser les chaînes de caractères pour l'ajustement et la transformation\n",
    "X_train_sample_trans = rf_tfidf[\"tfidf\"].fit_transform(X_train_sample_str)\n",
    "X_test_sample_trans = rf_tfidf[\"tfidf\"].transform(X_test_sample_str)\n"
   ]
  },
  {
   "cell_type": "code",
   "execution_count": 184,
   "metadata": {},
   "outputs": [],
   "source": [
    "fit_time_rf =time.time()\n",
    "rf_tfidf.fit(X_train_sample_str, y_train_sample_trans)\n",
    "fit_time_rf = time.time() - fit_time_rf\n",
    "print(\"Fit time : \", fit_time)\n",
    "\n",
    "predict_time_rf = time.time()\n",
    "predictions_rf = rf_tfidf.predict(X_test_sample_str)\n",
    "predict_time_rf = time.time() - predict_time_rf\n",
    "\n",
    "mlflow.log_param(\"min_df\", pipeline_tfidf.named_steps['tfidf'].min_df)\n",
    "mlflow.log_param(\"max_df\", pipeline_tfidf.named_steps['tfidf'].max_df)\n",
    "mlflow.log_metric(\"fit_time\", fit_time)\n",
    "mlflow.sklearn.log_model(rf_tfidf, \"model\")"
   ]
  },
  {
   "cell_type": "code",
   "execution_count": null,
   "metadata": {},
   "outputs": [],
   "source": [
    "probabilities = predictions_rf\n",
    "\n",
    "# Utiliser la fonction pour obtenir les tags prédits\n",
    "rf_binary_predictions = select_top_n_tags(probabilities, threshold=0.15, top_n=5)"
   ]
  },
  {
   "cell_type": "code",
   "execution_count": null,
   "metadata": {},
   "outputs": [
    {
     "name": "stdout",
     "output_type": "stream",
     "text": [
      "Precision: 0.4610666666666667\n",
      "Recall: 0.17359999999999998\n",
      "F1 Score: 0.2396666666666667\n",
      "10229    [javascript, jquery, inheritance, prototypal-i...\n",
      "4932     [javascript, asp.net-mvc, json, asp.net-mvc-4,...\n",
      "6712     [python, django, google-app-engine, web-applic...\n",
      "29503      [javascript, html, angularjs, validation, grid]\n",
      "3643     [android, android-widget, android-5.0-lollipop...\n",
      "Name: Tags, dtype: object\n"
     ]
    },
    {
     "name": "stderr",
     "output_type": "stream",
     "text": [
      "/opt/anaconda3/envs/supervisedP5/lib/python3.8/site-packages/sklearn/metrics/_classification.py:1471: UndefinedMetricWarning: Precision is ill-defined and being set to 0.0 in samples with no predicted labels. Use `zero_division` parameter to control this behavior.\n",
      "  _warn_prf(average, modifier, msg_start, len(result))\n"
     ]
    }
   ],
   "source": [
    "print(\"Precision:\", precision_score(y_test_sample_trans, rf_binary_predictions, average='samples'))\n",
    "print(\"Recall:\", recall_score(y_test_sample_trans, rf_binary_predictions, average='samples'))\n",
    "print(\"F1 Score:\", f1_score(y_test_sample_trans, rf_binary_predictions, average='samples'))\n",
    "#rf_predictions_labels =mlb.inverse_transform(rf_binary_predictions)\n",
    "tags_predicted_to_text(rf_binary_predictions, mlb)\n",
    "print(y_test_sample[:5])\n",
    "\n"
   ]
  },
  {
   "cell_type": "code",
   "execution_count": null,
   "metadata": {},
   "outputs": [
    {
     "name": "stderr",
     "output_type": "stream",
     "text": [
      "/opt/anaconda3/envs/supervisedP5/lib/python3.8/site-packages/sklearn/metrics/_classification.py:1471: UndefinedMetricWarning: Precision is ill-defined and being set to 0.0 in samples with no predicted labels. Use `zero_division` parameter to control this behavior.\n",
      "  _warn_prf(average, modifier, msg_start, len(result))\n"
     ]
    },
    {
     "data": {
      "text/html": [
       "<div>\n",
       "<style scoped>\n",
       "    .dataframe tbody tr th:only-of-type {\n",
       "        vertical-align: middle;\n",
       "    }\n",
       "\n",
       "    .dataframe tbody tr th {\n",
       "        vertical-align: top;\n",
       "    }\n",
       "\n",
       "    .dataframe thead th {\n",
       "        text-align: right;\n",
       "    }\n",
       "</style>\n",
       "<table border=\"1\" class=\"dataframe\">\n",
       "  <thead>\n",
       "    <tr style=\"text-align: right;\">\n",
       "      <th></th>\n",
       "      <th>Vectorizer</th>\n",
       "      <th>precision Test</th>\n",
       "      <th>recall_test</th>\n",
       "      <th>f1_test</th>\n",
       "      <th>Jaccard Test</th>\n",
       "      <th>Fit Time</th>\n",
       "      <th>predict_time</th>\n",
       "    </tr>\n",
       "  </thead>\n",
       "  <tbody>\n",
       "    <tr>\n",
       "      <th>0</th>\n",
       "      <td>rf_Tfidf</td>\n",
       "      <td>0.461067</td>\n",
       "      <td>0.1736</td>\n",
       "      <td>0.239667</td>\n",
       "      <td>0.168714</td>\n",
       "      <td>77.302418</td>\n",
       "      <td>3.978478</td>\n",
       "    </tr>\n",
       "  </tbody>\n",
       "</table>\n",
       "</div>"
      ],
      "text/plain": [
       "  Vectorizer  precision Test  recall_test   f1_test  Jaccard Test   Fit Time  \\\n",
       "0   rf_Tfidf        0.461067       0.1736  0.239667      0.168714  77.302418   \n",
       "\n",
       "   predict_time  \n",
       "0      3.978478  "
      ]
     },
     "metadata": {},
     "output_type": "display_data"
    },
    {
     "data": {
      "image/png": "[encoded data removed]",
      "text/plain": [
       "<Figure size 600x500 with 1 Axes>"
      ]
     },
     "metadata": {},
     "output_type": "display_data"
    }
   ],
   "source": [
    "result_rf_tfidf = stocker_results(name=\"rf_Tfidf\",precision_test=precision_score(y_test_sample_trans, rf_binary_predictions,average='samples'),\n",
    "                                f1_test=f1_score(y_test_sample_trans, rf_binary_predictions, average='samples'),\n",
    "                                recall_test = recall_score(y_test_sample_trans, rf_binary_predictions, average='samples'),\n",
    "                                jaccard_test=jaccard_score(y_test_sample_trans, rf_binary_predictions, average='samples'),\n",
    "                                fit_time=fit_time_rf, predict_time = predict_time_rf)\n",
    "\n",
    "plot_result(result_rf_tfidf)\n"
   ]
  },
  {
   "cell_type": "code",
   "execution_count": null,
   "metadata": {},
   "outputs": [],
   "source": [
    "mlflow.end_run()"
   ]
  },
  {
   "cell_type": "markdown",
   "metadata": {},
   "source": [
    "## Embedding avec word2Vec"
   ]
  },
  {
   "cell_type": "code",
   "execution_count": null,
   "metadata": {},
   "outputs": [],
   "source": [
    "mlflow.start_run(run_name=\"Word2Vec\")\n",
    "pipeline_w2v = create_word2vec_pipeline()\n",
    "# Utiliser les chaînes de caractères pour l'ajustement et la transformation\n",
    "X_train_sample_trans_w2v = pipeline_w2v['word2vec'].fit_transform(X_train_sample_str)\n",
    "X_test_sample_trans_w2v = pipeline_w2v['word2vec'].transform(X_test_sample_str)\n",
    "\n",
    "mlb2 = MultiLabelBinarizer()\n",
    "y_train_sample_trans = mlb2.fit_transform(y_train_sample)"
   ]
  },
  {
   "cell_type": "code",
   "execution_count": null,
   "metadata": {},
   "outputs": [
    {
     "name": "stdout",
     "output_type": "stream",
     "text": [
      "(1250, 400)\n",
      "(250, 400)\n"
     ]
    }
   ],
   "source": [
    "print(X_train_sample_trans_w2v.shape)\n",
    "print(X_test_sample_trans_w2v.shape)"
   ]
  },
  {
   "cell_type": "code",
   "execution_count": null,
   "metadata": {},
   "outputs": [
    {
     "name": "stderr",
     "output_type": "stream",
     "text": [
      "huggingface/tokenizers: The current process just got forked, after parallelism has already been used. Disabling parallelism to avoid deadlocks...\n",
      "To disable this warning, you can either:\n",
      "\t- Avoid using `tokenizers` before the fork if possible\n",
      "\t- Explicitly set the environment variable TOKENIZERS_PARALLELISM=(true | false)\n",
      "/opt/anaconda3/envs/supervisedP5/lib/python3.8/site-packages/_distutils_hack/__init__.py:11: UserWarning: Distutils was imported before Setuptools, but importing Setuptools also replaces the `distutils` module in `sys.modules`. This may lead to undesirable behaviors or errors. To avoid these issues, avoid using distutils directly, ensure that setuptools is installed in the traditional way (e.g. not an editable install), and/or make sure that setuptools is always imported before distutils.\n",
      "  warnings.warn(\n",
      "/opt/anaconda3/envs/supervisedP5/lib/python3.8/site-packages/_distutils_hack/__init__.py:26: UserWarning: Setuptools is replacing distutils.\n",
      "  warnings.warn(\"Setuptools is replacing distutils.\")\n"
     ]
    },
    {
     "data": {
      "text/plain": [
       "<mlflow.models.model.ModelInfo at 0x7fa89d123eb0>"
      ]
     },
     "execution_count": 125,
     "metadata": {},
     "output_type": "execute_result"
    }
   ],
   "source": [
    "fit_time =time.time()\n",
    "lr_w2v = pipeline_w2v.named_steps['clf_w2v'].fit(X_train_sample_trans_w2v, y_train_sample_trans)\n",
    "fit_time = time.time() - fit_time\n",
    "\n",
    "\n",
    "predict_time = time.time()\n",
    "predictions_w2v = lr_w2v.predict_proba(X_test_sample_trans_w2v)\n",
    "predict_time = time.time() - predict_time\n",
    "\n",
    "mlflow.log_param(\"min_df\", pipeline_tfidf.named_steps['tfidf'].min_df)\n",
    "mlflow.log_param(\"max_df\", pipeline_tfidf.named_steps['tfidf'].max_df)\n",
    "mlflow.log_metric(\"fit_time\", fit_time)\n",
    "mlflow.sklearn.log_model(lr_tfidf, \"model\")\n",
    "\n"
   ]
  },
  {
   "cell_type": "code",
   "execution_count": null,
   "metadata": {},
   "outputs": [
    {
     "data": {
      "text/html": [
       "<div>\n",
       "<style scoped>\n",
       "    .dataframe tbody tr th:only-of-type {\n",
       "        vertical-align: middle;\n",
       "    }\n",
       "\n",
       "    .dataframe tbody tr th {\n",
       "        vertical-align: top;\n",
       "    }\n",
       "\n",
       "    .dataframe thead th {\n",
       "        text-align: right;\n",
       "    }\n",
       "</style>\n",
       "<table border=\"1\" class=\"dataframe\">\n",
       "  <thead>\n",
       "    <tr style=\"text-align: right;\">\n",
       "      <th></th>\n",
       "      <th>Vectorizer</th>\n",
       "      <th>precision Test</th>\n",
       "      <th>recall_test</th>\n",
       "      <th>f1_test</th>\n",
       "      <th>Jaccard Test</th>\n",
       "      <th>Fit Time</th>\n",
       "      <th>predict_time</th>\n",
       "    </tr>\n",
       "  </thead>\n",
       "  <tbody>\n",
       "    <tr>\n",
       "      <th>0</th>\n",
       "      <td>lr_w2v</td>\n",
       "      <td>0.1488</td>\n",
       "      <td>0.2492</td>\n",
       "      <td>0.178152</td>\n",
       "      <td>0.103143</td>\n",
       "      <td>10.58874</td>\n",
       "      <td>0.269127</td>\n",
       "    </tr>\n",
       "  </tbody>\n",
       "</table>\n",
       "</div>"
      ],
      "text/plain": [
       "  Vectorizer  precision Test  recall_test   f1_test  Jaccard Test  Fit Time  \\\n",
       "0     lr_w2v          0.1488       0.2492  0.178152      0.103143  10.58874   \n",
       "\n",
       "   predict_time  \n",
       "0      0.269127  "
      ]
     },
     "metadata": {},
     "output_type": "display_data"
    },
    {
     "data": {
      "image/png": "[encoded data removed]",
      "text/plain": [
       "<Figure size 600x500 with 1 Axes>"
      ]
     },
     "metadata": {},
     "output_type": "display_data"
    }
   ],
   "source": [
    "probabilities = predictions_w2v\n",
    "\n",
    "# Utiliser la fonction pour obtenir les tags prédits\n",
    "rf_w2v_binary_predictions = select_top_n_tags(probabilities, threshold=0.1, top_n=5)\n",
    "\n",
    "tags_predicted_to_text(rf_w2v_binary_predictions, mlb2)\n",
    "result_lr_w2f = stocker_results(name=\"lr_w2v\",precision_test=precision_score(y_test_sample_trans, rf_w2v_binary_predictions,average='samples'),\n",
    "                                f1_test=f1_score(y_test_sample_trans, rf_w2v_binary_predictions,average='samples'),\n",
    "                                recall_test = recall_score(y_test_sample_trans, rf_w2v_binary_predictions,average='samples'),\n",
    "                                jaccard_test=jaccard_score(y_test_sample_trans, rf_w2v_binary_predictions, average='samples'),\n",
    "                                fit_time=fit_time, predict_time = predict_time)\n",
    "\n",
    "plot_result(result_lr_w2f)"
   ]
  },
  {
   "cell_type": "code",
   "execution_count": null,
   "metadata": {},
   "outputs": [
    {
     "name": "stdout",
     "output_type": "stream",
     "text": [
      "Precision: 0.14880000000000002\n",
      "Recall: 0.24919999999999998\n",
      "F1 Score: 0.17815238095238095\n"
     ]
    }
   ],
   "source": [
    "print(\"Precision:\", precision_score(y_test_sample_trans, rf_w2v_binary_predictions, average='samples'))\n",
    "print(\"Recall:\", recall_score(y_test_sample_trans, rf_w2v_binary_predictions, average='samples'))\n",
    "print(\"F1 Score:\", f1_score(y_test_sample_trans, rf_w2v_binary_predictions, average='samples'))"
   ]
  },
  {
   "cell_type": "code",
   "execution_count": null,
   "metadata": {},
   "outputs": [],
   "source": [
    "mlflow.end_run()"
   ]
  },
  {
   "cell_type": "markdown",
   "metadata": {},
   "source": [
    "### BERT Embedding\n",
    "\n",
    "\"Bidirectional Encoder Representations from Transformers\":  \n",
    "\n",
    "BERT est un modèle de langage bidirectionnel basé sur des transformers, capable de capturer les relations complexes entre les mots en utilisant le contexte gauche-droite et droite-gauche pour générer des embeddings riches en informations pour chaque mot."
   ]
  },
  {
   "cell_type": "code",
   "execution_count": null,
   "metadata": {},
   "outputs": [
    {
     "name": "stderr",
     "output_type": "stream",
     "text": [
      "/opt/anaconda3/envs/supervisedP5/lib/python3.8/site-packages/huggingface_hub/file_download.py:1132: FutureWarning: `resume_download` is deprecated and will be removed in version 1.0.0. Downloads always resume when possible. If you want to force a new download, use `force_download=True`.\n",
      "  warnings.warn(\n"
     ]
    }
   ],
   "source": [
    "mlflow.start_run(run_name=\"BERT\")\n",
    "pipeline_bert = create_bert_pipeline()\n",
    "\n",
    "# Utiliser les chaînes de caractères pour l'ajustement et la transformation\n",
    "vec_time =time.time()\n",
    "X_train_sample_trans_bert = pipeline_bert['bert_vectorizer'].fit_transform(X_train_sample_str)\n",
    "X_test_sample_trans_bert = pipeline_bert['bert_vectorizer'].transform(X_test_sample_str)\n",
    "vec_time = time.time() - vec_time\n",
    "mlflow.log_metric(\"vec_time\", vec_time)\n",
    "mlb3 = MultiLabelBinarizer()\n",
    "y_train_sample_trans = mlb3.fit_transform(y_train_sample)"
   ]
  },
  {
   "cell_type": "code",
   "execution_count": null,
   "metadata": {},
   "outputs": [
    {
     "name": "stderr",
     "output_type": "stream",
     "text": [
      "/opt/anaconda3/envs/supervisedP5/lib/python3.8/site-packages/sklearn/metrics/_classification.py:1471: UndefinedMetricWarning: Precision is ill-defined and being set to 0.0 in samples with no predicted labels. Use `zero_division` parameter to control this behavior.\n",
      "  _warn_prf(average, modifier, msg_start, len(result))\n"
     ]
    },
    {
     "name": "stdout",
     "output_type": "stream",
     "text": [
      "Precision: 0.3855333333333333\n",
      "Recall: 0.24580000000000002\n",
      "F1 Score: 0.27337460317460316\n"
     ]
    }
   ],
   "source": [
    "fit_time =time.time()\n",
    "lr_bert = pipeline_bert.named_steps['clf_bert'].fit(X_train_sample_trans_bert, y_train_sample_trans)\n",
    "fit_time = time.time() - fit_time\n",
    "\n",
    "predict_time = time.time()\n",
    "predictions_bert = lr_bert.predict_proba(X_test_sample_trans_bert)\n",
    "predict_time = time.time() - predict_time\n",
    "\n",
    "binary_pred_bert =select_top_n_tags(predictions_bert, threshold=0.2, top_n=5)\n",
    "tags_predicted_to_text(binary_pred_bert, mlb3)\n",
    "print(\"Precision:\", precision_score(y_test_sample_trans, binary_pred_bert, average='samples'))\n",
    "print(\"Recall:\", recall_score(y_test_sample_trans, binary_pred_bert, average='samples'))\n",
    "print(\"F1 Score:\", f1_score(y_test_sample_trans, binary_pred_bert, average='samples'))\n",
    "\n"
   ]
  },
  {
   "cell_type": "code",
   "execution_count": null,
   "metadata": {},
   "outputs": [
    {
     "name": "stderr",
     "output_type": "stream",
     "text": [
      "/opt/anaconda3/envs/supervisedP5/lib/python3.8/site-packages/sklearn/metrics/_classification.py:1471: UndefinedMetricWarning: Precision is ill-defined and being set to 0.0 in samples with no predicted labels. Use `zero_division` parameter to control this behavior.\n",
      "  _warn_prf(average, modifier, msg_start, len(result))\n"
     ]
    },
    {
     "data": {
      "text/html": [
       "<div>\n",
       "<style scoped>\n",
       "    .dataframe tbody tr th:only-of-type {\n",
       "        vertical-align: middle;\n",
       "    }\n",
       "\n",
       "    .dataframe tbody tr th {\n",
       "        vertical-align: top;\n",
       "    }\n",
       "\n",
       "    .dataframe thead th {\n",
       "        text-align: right;\n",
       "    }\n",
       "</style>\n",
       "<table border=\"1\" class=\"dataframe\">\n",
       "  <thead>\n",
       "    <tr style=\"text-align: right;\">\n",
       "      <th></th>\n",
       "      <th>Vectorizer</th>\n",
       "      <th>precision Test</th>\n",
       "      <th>recall_test</th>\n",
       "      <th>f1_test</th>\n",
       "      <th>Jaccard Test</th>\n",
       "      <th>Fit Time</th>\n",
       "      <th>predict_time</th>\n",
       "    </tr>\n",
       "  </thead>\n",
       "  <tbody>\n",
       "    <tr>\n",
       "      <th>0</th>\n",
       "      <td>lr_bert</td>\n",
       "      <td>0.385533</td>\n",
       "      <td>0.2458</td>\n",
       "      <td>0.273375</td>\n",
       "      <td>0.182867</td>\n",
       "      <td>92.918992</td>\n",
       "      <td>1.137759</td>\n",
       "    </tr>\n",
       "  </tbody>\n",
       "</table>\n",
       "</div>"
      ],
      "text/plain": [
       "  Vectorizer  precision Test  recall_test   f1_test  Jaccard Test   Fit Time  \\\n",
       "0    lr_bert        0.385533       0.2458  0.273375      0.182867  92.918992   \n",
       "\n",
       "   predict_time  \n",
       "0      1.137759  "
      ]
     },
     "metadata": {},
     "output_type": "display_data"
    },
    {
     "data": {
      "image/png": "[encoded data removed]",
      "text/plain": [
       "<Figure size 600x500 with 1 Axes>"
      ]
     },
     "metadata": {},
     "output_type": "display_data"
    }
   ],
   "source": [
    "result_lr_bert = stocker_results(name=\"lr_bert\",precision_test=precision_score(y_test_sample_trans, binary_pred_bert,average='samples'),\n",
    "                                f1_test=f1_score(y_test_sample_trans, binary_pred_bert,average='samples'),\n",
    "                                recall_test = recall_score(y_test_sample_trans, binary_pred_bert,average='samples'),\n",
    "                                jaccard_test=jaccard_score(y_test_sample_trans, binary_pred_bert, average='samples'),\n",
    "                                fit_time=fit_time, predict_time = predict_time)\n",
    "\n",
    "plot_result(result_lr_bert)\n",
    "mlflow.end_run()"
   ]
  },
  {
   "cell_type": "markdown",
   "metadata": {},
   "source": [
    "## USE embbedding"
   ]
  },
  {
   "cell_type": "code",
   "execution_count": null,
   "metadata": {},
   "outputs": [
    {
     "name": "stderr",
     "output_type": "stream",
     "text": [
      "/opt/anaconda3/envs/supervisedP5/lib/python3.8/site-packages/huggingface_hub/file_download.py:1132: FutureWarning: `resume_download` is deprecated and will be removed in version 1.0.0. Downloads always resume when possible. If you want to force a new download, use `force_download=True`.\n",
      "  warnings.warn(\n"
     ]
    }
   ],
   "source": [
    "mlflow.start_run(run_name=\"USE\")\n",
    "pipeline_use = create_use_pipeline()\n",
    "\n",
    "# Utiliser les chaînes de caractères pour l'ajustement et la transformation\n",
    "vec_time =time.time()\n",
    "X_train_sample_trans_use = pipeline_use['use_vectorizer'].fit_transform(X_train_sample_str)\n",
    "X_test_sample_trans_use = pipeline_use['use_vectorizer'].transform(X_test_sample_str)\n",
    "vec_time = time.time() - vec_time\n",
    "mlflow.log_metric(\"vec_time\", vec_time)\n",
    "mlb4 = MultiLabelBinarizer()\n",
    "y_train_sample_trans = mlb4.fit_transform(y_train_sample)"
   ]
  },
  {
   "cell_type": "code",
   "execution_count": null,
   "metadata": {},
   "outputs": [
    {
     "name": "stdout",
     "output_type": "stream",
     "text": [
      "Precision: 0.7203999999999999\n",
      "Recall: 0.33873333333333333\n",
      "F1 Score: 0.43006666666666665\n"
     ]
    },
    {
     "name": "stderr",
     "output_type": "stream",
     "text": [
      "/opt/anaconda3/envs/supervisedP5/lib/python3.8/site-packages/sklearn/metrics/_classification.py:1471: UndefinedMetricWarning: Precision is ill-defined and being set to 0.0 in samples with no predicted labels. Use `zero_division` parameter to control this behavior.\n",
      "  _warn_prf(average, modifier, msg_start, len(result))\n"
     ]
    }
   ],
   "source": [
    "fit_time =time.time()\n",
    "lr_use = pipeline_use.named_steps['clf_use'].fit(X_train_sample_trans_use, y_train_sample_trans)\n",
    "fit_time = time.time() - fit_time\n",
    "\n",
    "predict_time = time.time()\n",
    "predictions_use = lr_use.predict_proba(X_test_sample_trans_use)\n",
    "predict_time = time.time() - predict_time\n",
    "\n",
    "\n",
    "binary_pred_use =select_top_n_tags(predictions_use, threshold=0.2, top_n=5)\n",
    "tags_predicted_to_text(binary_pred_use, mlb4)\n",
    "print(\"Precision:\", precision_score(y_test_sample_trans, binary_pred_use, average='samples'))\n",
    "print(\"Recall:\", recall_score(y_test_sample_trans, binary_pred_use, average='samples'))\n",
    "print(\"F1 Score:\", f1_score(y_test_sample_trans, binary_pred_use, average='samples'))"
   ]
  },
  {
   "cell_type": "code",
   "execution_count": null,
   "metadata": {},
   "outputs": [
    {
     "name": "stderr",
     "output_type": "stream",
     "text": [
      "/opt/anaconda3/envs/supervisedP5/lib/python3.8/site-packages/sklearn/metrics/_classification.py:1471: UndefinedMetricWarning: Precision is ill-defined and being set to 0.0 in samples with no predicted labels. Use `zero_division` parameter to control this behavior.\n",
      "  _warn_prf(average, modifier, msg_start, len(result))\n"
     ]
    },
    {
     "data": {
      "text/html": [
       "<div>\n",
       "<style scoped>\n",
       "    .dataframe tbody tr th:only-of-type {\n",
       "        vertical-align: middle;\n",
       "    }\n",
       "\n",
       "    .dataframe tbody tr th {\n",
       "        vertical-align: top;\n",
       "    }\n",
       "\n",
       "    .dataframe thead th {\n",
       "        text-align: right;\n",
       "    }\n",
       "</style>\n",
       "<table border=\"1\" class=\"dataframe\">\n",
       "  <thead>\n",
       "    <tr style=\"text-align: right;\">\n",
       "      <th></th>\n",
       "      <th>Vectorizer</th>\n",
       "      <th>precision Test</th>\n",
       "      <th>recall_test</th>\n",
       "      <th>f1_test</th>\n",
       "      <th>Jaccard Test</th>\n",
       "      <th>Fit Time</th>\n",
       "      <th>predict_time</th>\n",
       "    </tr>\n",
       "  </thead>\n",
       "  <tbody>\n",
       "    <tr>\n",
       "      <th>0</th>\n",
       "      <td>lr_use</td>\n",
       "      <td>0.7204</td>\n",
       "      <td>0.338733</td>\n",
       "      <td>0.430067</td>\n",
       "      <td>0.301662</td>\n",
       "      <td>23.69048</td>\n",
       "      <td>0.551285</td>\n",
       "    </tr>\n",
       "  </tbody>\n",
       "</table>\n",
       "</div>"
      ],
      "text/plain": [
       "  Vectorizer  precision Test  recall_test   f1_test  Jaccard Test  Fit Time  \\\n",
       "0     lr_use          0.7204     0.338733  0.430067      0.301662  23.69048   \n",
       "\n",
       "   predict_time  \n",
       "0      0.551285  "
      ]
     },
     "metadata": {},
     "output_type": "display_data"
    },
    {
     "data": {
      "image/png": "[encoded data removed]",
      "text/plain": [
       "<Figure size 600x500 with 1 Axes>"
      ]
     },
     "metadata": {},
     "output_type": "display_data"
    }
   ],
   "source": [
    "result_lr_use = stocker_results(name=\"lr_use\",precision_test=precision_score(y_test_sample_trans, binary_pred_use, average='samples'),\n",
    "                                f1_test=f1_score(y_test_sample_trans, binary_pred_use,average='samples'),\n",
    "                                recall_test = recall_score(y_test_sample_trans, binary_pred_use,average='samples'),\n",
    "                                jaccard_test=jaccard_score(y_test_sample_trans, binary_pred_use, average='samples'),\n",
    "                                fit_time=fit_time, predict_time = predict_time)\n",
    "\n",
    "plot_result(result_lr_use)\n",
    "mlflow.end_run()"
   ]
  },
  {
   "cell_type": "markdown",
   "metadata": {},
   "source": [
    "## Comparaison des différentes modélisation."
   ]
  },
  {
   "cell_type": "code",
   "execution_count": null,
   "metadata": {},
   "outputs": [
    {
     "data": {
      "text/html": [
       "<div>\n",
       "<style scoped>\n",
       "    .dataframe tbody tr th:only-of-type {\n",
       "        vertical-align: middle;\n",
       "    }\n",
       "\n",
       "    .dataframe tbody tr th {\n",
       "        vertical-align: top;\n",
       "    }\n",
       "\n",
       "    .dataframe thead th {\n",
       "        text-align: right;\n",
       "    }\n",
       "</style>\n",
       "<table border=\"1\" class=\"dataframe\">\n",
       "  <thead>\n",
       "    <tr style=\"text-align: right;\">\n",
       "      <th></th>\n",
       "      <th>Vectorizer</th>\n",
       "      <th>precision Test</th>\n",
       "      <th>recall_test</th>\n",
       "      <th>f1_test</th>\n",
       "      <th>Jaccard Test</th>\n",
       "      <th>Fit Time</th>\n",
       "      <th>predict_time</th>\n",
       "    </tr>\n",
       "  </thead>\n",
       "  <tbody>\n",
       "    <tr>\n",
       "      <th>0</th>\n",
       "      <td>lr_Tfidf</td>\n",
       "      <td>0.582800</td>\n",
       "      <td>0.279733</td>\n",
       "      <td>0.350093</td>\n",
       "      <td>0.239781</td>\n",
       "      <td>10.425792</td>\n",
       "      <td>0.201176</td>\n",
       "    </tr>\n",
       "    <tr>\n",
       "      <th>0</th>\n",
       "      <td>rf_Tfidf</td>\n",
       "      <td>0.461067</td>\n",
       "      <td>0.173600</td>\n",
       "      <td>0.239667</td>\n",
       "      <td>0.168714</td>\n",
       "      <td>77.302418</td>\n",
       "      <td>3.978478</td>\n",
       "    </tr>\n",
       "    <tr>\n",
       "      <th>0</th>\n",
       "      <td>lr_w2v</td>\n",
       "      <td>0.148800</td>\n",
       "      <td>0.249200</td>\n",
       "      <td>0.178152</td>\n",
       "      <td>0.103143</td>\n",
       "      <td>10.588740</td>\n",
       "      <td>0.269127</td>\n",
       "    </tr>\n",
       "    <tr>\n",
       "      <th>0</th>\n",
       "      <td>lr_bert</td>\n",
       "      <td>0.385533</td>\n",
       "      <td>0.245800</td>\n",
       "      <td>0.273375</td>\n",
       "      <td>0.182867</td>\n",
       "      <td>92.918992</td>\n",
       "      <td>1.137759</td>\n",
       "    </tr>\n",
       "    <tr>\n",
       "      <th>0</th>\n",
       "      <td>lr_use</td>\n",
       "      <td>0.720400</td>\n",
       "      <td>0.338733</td>\n",
       "      <td>0.430067</td>\n",
       "      <td>0.301662</td>\n",
       "      <td>23.690480</td>\n",
       "      <td>0.551285</td>\n",
       "    </tr>\n",
       "  </tbody>\n",
       "</table>\n",
       "</div>"
      ],
      "text/plain": [
       "  Vectorizer  precision Test  recall_test   f1_test  Jaccard Test   Fit Time  \\\n",
       "0   lr_Tfidf        0.582800     0.279733  0.350093      0.239781  10.425792   \n",
       "0   rf_Tfidf        0.461067     0.173600  0.239667      0.168714  77.302418   \n",
       "0     lr_w2v        0.148800     0.249200  0.178152      0.103143  10.588740   \n",
       "0    lr_bert        0.385533     0.245800  0.273375      0.182867  92.918992   \n",
       "0     lr_use        0.720400     0.338733  0.430067      0.301662  23.690480   \n",
       "\n",
       "   predict_time  \n",
       "0      0.201176  \n",
       "0      3.978478  \n",
       "0      0.269127  \n",
       "0      1.137759  \n",
       "0      0.551285  "
      ]
     },
     "metadata": {},
     "output_type": "display_data"
    }
   ],
   "source": [
    "df =pd.concat([result_lr_tfidf, result_rf_tfidf, result_lr_w2f, result_lr_bert, result_lr_use])\n",
    "display(df)"
   ]
  },
  {
   "cell_type": "code",
   "execution_count": null,
   "metadata": {},
   "outputs": [
    {
     "data": {
      "text/html": [
       "<div>\n",
       "<style scoped>\n",
       "    .dataframe tbody tr th:only-of-type {\n",
       "        vertical-align: middle;\n",
       "    }\n",
       "\n",
       "    .dataframe tbody tr th {\n",
       "        vertical-align: top;\n",
       "    }\n",
       "\n",
       "    .dataframe thead th {\n",
       "        text-align: right;\n",
       "    }\n",
       "</style>\n",
       "<table border=\"1\" class=\"dataframe\">\n",
       "  <thead>\n",
       "    <tr style=\"text-align: right;\">\n",
       "      <th></th>\n",
       "      <th>Vectorizer</th>\n",
       "      <th>precision Test</th>\n",
       "      <th>recall_test</th>\n",
       "      <th>f1_test</th>\n",
       "      <th>Jaccard Test</th>\n",
       "    </tr>\n",
       "  </thead>\n",
       "  <tbody>\n",
       "    <tr>\n",
       "      <th>0</th>\n",
       "      <td>lr_Tfidf</td>\n",
       "      <td>0.582800</td>\n",
       "      <td>0.279733</td>\n",
       "      <td>0.350093</td>\n",
       "      <td>0.239781</td>\n",
       "    </tr>\n",
       "    <tr>\n",
       "      <th>0</th>\n",
       "      <td>rf_Tfidf</td>\n",
       "      <td>0.461067</td>\n",
       "      <td>0.173600</td>\n",
       "      <td>0.239667</td>\n",
       "      <td>0.168714</td>\n",
       "    </tr>\n",
       "    <tr>\n",
       "      <th>0</th>\n",
       "      <td>lr_w2v</td>\n",
       "      <td>0.148800</td>\n",
       "      <td>0.249200</td>\n",
       "      <td>0.178152</td>\n",
       "      <td>0.103143</td>\n",
       "    </tr>\n",
       "    <tr>\n",
       "      <th>0</th>\n",
       "      <td>lr_bert</td>\n",
       "      <td>0.385533</td>\n",
       "      <td>0.245800</td>\n",
       "      <td>0.273375</td>\n",
       "      <td>0.182867</td>\n",
       "    </tr>\n",
       "    <tr>\n",
       "      <th>0</th>\n",
       "      <td>lr_use</td>\n",
       "      <td>0.720400</td>\n",
       "      <td>0.338733</td>\n",
       "      <td>0.430067</td>\n",
       "      <td>0.301662</td>\n",
       "    </tr>\n",
       "  </tbody>\n",
       "</table>\n",
       "</div>"
      ],
      "text/plain": [
       "  Vectorizer  precision Test  recall_test   f1_test  Jaccard Test\n",
       "0   lr_Tfidf        0.582800     0.279733  0.350093      0.239781\n",
       "0   rf_Tfidf        0.461067     0.173600  0.239667      0.168714\n",
       "0     lr_w2v        0.148800     0.249200  0.178152      0.103143\n",
       "0    lr_bert        0.385533     0.245800  0.273375      0.182867\n",
       "0     lr_use        0.720400     0.338733  0.430067      0.301662"
      ]
     },
     "metadata": {},
     "output_type": "display_data"
    },
    {
     "data": {
      "image/png": "[encoded data removed]",
      "text/plain": [
       "<Figure size 700x500 with 1 Axes>"
      ]
     },
     "metadata": {},
     "output_type": "display_data"
    }
   ],
   "source": [
    "all_result = df.loc[:,['Vectorizer', 'precision Test', 'recall_test','f1_test','Jaccard Test']]\n",
    "\n",
    "display(all_result)\n",
    "\n",
    "# Plot\n",
    "width = 0.15  # Largeur des barres\n",
    "fig, ax = plt.subplots(figsize=(7, 5))\n",
    "x = np.arange(len(all_result.columns))  # Emplacements des barres\n",
    "\n",
    "# Plot pour chaque modèle et chaque métrique\n",
    "\n",
    "rects1 = ax.bar(x - width/1, all_result['precision Test'], width, label='precision Test')\n",
    "rects2 = ax.bar(x + width/10, all_result['recall_test'], width, label='recall_test')\n",
    "rects3 = ax.bar(x + width/1, all_result['f1_test'], width, label='f1_test')\n",
    "rects4 = ax.bar(x + width/0.5, all_result['Jaccard Test'], width, label='Jaccard Test')\n",
    "\n",
    "# Ajouter des étiquettes, des titres, etc.\n",
    "ax.set_ylabel('Valeurs')\n",
    "ax.set_xlabel('Modèles')\n",
    "ax.set_title('Scores des modèles')\n",
    "ax.set_xticks(x)\n",
    "ax.set_xticklabels(all_result['Vectorizer'])\n",
    "ax.legend()\n",
    "\n",
    "plt.show()"
   ]
  }
 ],
 "metadata": {
  "kernelspec": {
   "display_name": "Python 3",
   "language": "python",
   "name": "python3"
  },
  "language_info": {
   "codemirror_mode": {
    "name": "ipython",
    "version": 3
   },
   "file_extension": ".py",
   "mimetype": "text/x-python",
   "name": "python",
   "nbconvert_exporter": "python",
   "pygments_lexer": "ipython3",
   "version": "3.8.19"
  }
 },
 "nbformat": 4,
 "nbformat_minor": 2
}
