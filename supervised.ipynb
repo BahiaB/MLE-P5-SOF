{
 "cells": [
  {
   "cell_type": "code",
   "execution_count": 464,
   "metadata": {},
   "outputs": [],
   "source": [
    "import numpy as np\n",
    "from sklearn.pipeline import Pipeline\n",
    "from sklearn.feature_extraction.text import TfidfVectorizer\n",
    "from sklearn.model_selection import train_test_split\n",
    "import pandas as pd \n",
    "from transformers import BertTokenizer, BertModel\n",
    "import torch\n",
    "\n",
    "\n",
    "import mlflow\n",
    "import matplotlib.pyplot as plt\n",
    "import gensim\n",
    "from gensim.models import Word2Vec\n",
    "\n",
    "from sklearn.base import BaseEstimator, TransformerMixin\n",
    "from sklearn.ensemble import RandomForestClassifier\n",
    "from sklearn.preprocessing import MultiLabelBinarizer\n",
    "from sklearn.manifold import TSNE\n",
    "import seaborn as sns\n",
    "from sentence_transformers import SentenceTransformer\n",
    "\n",
    "import time\n",
    "from sklearn.linear_model import LogisticRegression\n",
    "from sklearn.multiclass import OneVsRestClassifier\n",
    "from sklearn.metrics import accuracy_score, precision_score, recall_score, f1_score, classification_report, hamming_loss, jaccard_score\n",
    "\n"
   ]
  },
  {
   "cell_type": "markdown",
   "metadata": {},
   "source": [
    "## Fonctions"
   ]
  },
  {
   "cell_type": "code",
   "execution_count": 465,
   "metadata": {},
   "outputs": [],
   "source": [
    "def select_top_n_tags(probabilities, threshold, top_n=5):\n",
    "    \"\"\" Sélectionne les top N tags pour chaque échantillon en fonction d'un seuil de probabilité.\"\"\"\n",
    "\n",
    "    # Créer une matrice de zéros de la même forme que probabilities\n",
    "    final_tags = np.zeros(probabilities.shape)\n",
    "    \n",
    "    for i in range(probabilities.shape[0]):\n",
    "        # Trouver les indices qui satisfont le seuil\n",
    "        eligible_indices = np.where(probabilities[i] >= threshold)[0]\n",
    "        \n",
    "        # Trier ces indices en fonction de leur probabilité\n",
    "        top_indices = eligible_indices[np.argsort(probabilities[i][eligible_indices])][::-1]\n",
    "        \n",
    "        # Sélectionner les top N indices\n",
    "        top_n_indices = top_indices[:top_n]\n",
    "        \n",
    "        # Mettre à 1 les positions correspondant aux tags sélectionnés\n",
    "        final_tags[i, top_n_indices] = 1\n",
    "    \n",
    "    return final_tags\n",
    "\n"
   ]
  },
  {
   "cell_type": "code",
   "execution_count": 466,
   "metadata": {},
   "outputs": [],
   "source": [
    "def plot_result(model_results):\n",
    "    \"\"\"Fonction pour afficher le graphiques des résultats des modèles\n",
    "        Log les graphiques dans mlflow\"\"\"\n",
    "    # Largeur des barres\n",
    "    barWidth = 0.2\n",
    "    title = str(model_results.iloc[0,0])\n",
    "    # Position des barres sur l'axe x\n",
    "    r1 = np.arange(len(model_results['Vectorizer']))\n",
    "    r2 = [x + barWidth for x in r1]\n",
    "\n",
    "    plt.figure(figsize=(6,5))\n",
    "\n",
    "    # Créer les barres\n",
    "    plt.bar(r1, model_results['precision Test'], width = barWidth, color = 'blue', edgecolor = 'grey', label='Precision Test')\n",
    "    plt.bar(r2, model_results['Jaccard Test'], width = barWidth, color = 'cyan', edgecolor = 'grey', label='Jaccard Test')\n",
    "\n",
    "    # Ajouter des xticks \n",
    "    plt.title(title, fontweight='bold', fontsize = 15)\n",
    "    plt.xlabel(title, fontweight='bold', fontsize = 15)\n",
    "    plt.ylabel('Score', fontweight='bold', fontsize = 15)\n",
    "    plt.xticks([r + barWidth for r in range(len(model_results['Vectorizer']))], model_results['Vectorizer'])\n",
    "\n",
    "    plt.legend()\n",
    "    plt.savefig(\"results\"+title+\".png\")\n",
    "    mlflow.log_artifact(\"results\"+title+\".png\")\n",
    "    plt.show()"
   ]
  },
  {
   "cell_type": "code",
   "execution_count": 467,
   "metadata": {},
   "outputs": [],
   "source": [
    "def stocker_results(name = str, precision_test=None, recall_test=None,f1_test=None,jaccard_test=None, fit_time=None, transform_time=None, predict_time=None, model=None, X_test=None, y_test=None):\n",
    "    \"\"\"Fonction pour stocker les résultats des modèles dans un DataFrame\n",
    "        Log les résultats dans mlflow\"\"\"\n",
    "    results = pd.DataFrame({'Vectorizer': [name], 'precision Test': [precision_test], 'recall_test':[recall_test],'f1_test':[f1_test],'Jaccard Test': [jaccard_test],'Fit Time': [fit_time], 'predict_time': [predict_time]})\n",
    "    display(results)\n",
    "    mlflow.log_metric(\"Jaccard Score\", jaccard_test)\n",
    "    mlflow.log_metric(\"Precision\", precision_test)\n",
    "    mlflow.log_metric(\"Recall\", recall_test)\n",
    "    mlflow.log_metric(\"F1 Score\", f1_test)\n",
    "    mlflow.log_metric(\"Fit_time\", fit_time)\n",
    "    mlflow.log_metric(\"prediction_time\", predict_time)\n",
    "    return results"
   ]
  },
  {
   "cell_type": "code",
   "execution_count": 468,
   "metadata": {},
   "outputs": [],
   "source": [
    "def tags_predicted_to_text(tags_predicted, mlb):\n",
    "    \"\"\"Fonction pour transformer les tags prédits en texte\n",
    "        Log les résultats dans mlflow\"\"\"\n",
    "    predictions_labels =mlb.inverse_transform(tags_predicted)\n",
    "    predictions_labels= pd.DataFrame(predictions_labels)\n",
    "    predictions_labels.to_csv(\"results/predictions_labels.csv\", index=False)\n",
    "    mlflow.log_artifact(\"results/predictions_labels.csv\")"
   ]
  },
  {
   "cell_type": "code",
   "execution_count": 469,
   "metadata": {},
   "outputs": [],
   "source": [
    "def words_tokenize(text):\n",
    "    text = text.split()\n",
    "    return text"
   ]
  },
  {
   "cell_type": "code",
   "execution_count": 470,
   "metadata": {},
   "outputs": [
    {
     "data": {
      "text/html": [
       "<div>\n",
       "<style scoped>\n",
       "    .dataframe tbody tr th:only-of-type {\n",
       "        vertical-align: middle;\n",
       "    }\n",
       "\n",
       "    .dataframe tbody tr th {\n",
       "        vertical-align: top;\n",
       "    }\n",
       "\n",
       "    .dataframe thead th {\n",
       "        text-align: right;\n",
       "    }\n",
       "</style>\n",
       "<table border=\"1\" class=\"dataframe\">\n",
       "  <thead>\n",
       "    <tr style=\"text-align: right;\">\n",
       "      <th></th>\n",
       "      <th>Title</th>\n",
       "      <th>Body</th>\n",
       "      <th>Tags</th>\n",
       "      <th>Body_word_count</th>\n",
       "      <th>combined</th>\n",
       "    </tr>\n",
       "  </thead>\n",
       "  <tbody>\n",
       "    <tr>\n",
       "      <th>0</th>\n",
       "      <td>android jetpack navigation bottomnavigationvie...</td>\n",
       "      <td>android jetpack navigation bottomnavigationvie...</td>\n",
       "      <td>android android-architecture-components bottom...</td>\n",
       "      <td>131</td>\n",
       "      <td>android jetpack navigation bottomnavigationvie...</td>\n",
       "    </tr>\n",
       "    <tr>\n",
       "      <th>1</th>\n",
       "      <td>jetpack compose button drawable</td>\n",
       "      <td>achieve jetpack compose something button eleva...</td>\n",
       "      <td>android android-jetpack-compose android-compos...</td>\n",
       "      <td>60</td>\n",
       "      <td>jetpack compose button drawable achieve jetpac...</td>\n",
       "    </tr>\n",
       "    <tr>\n",
       "      <th>2</th>\n",
       "      <td>topappbar flash navigate compose navigation</td>\n",
       "      <td>screen scaffold topappbar navigate jetpack nav...</td>\n",
       "      <td>android android-jetpack android-jetpack-compos...</td>\n",
       "      <td>198</td>\n",
       "      <td>topappbar flash navigate compose navigation sc...</td>\n",
       "    </tr>\n",
       "    <tr>\n",
       "      <th>3</th>\n",
       "      <td>how create recycler view compose jetpack</td>\n",
       "      <td>special way create recyclerview compose jetpac...</td>\n",
       "      <td>android android-recyclerview android-jetpack-c...</td>\n",
       "      <td>7</td>\n",
       "      <td>how create recycler view compose jetpack speci...</td>\n",
       "    </tr>\n",
       "    <tr>\n",
       "      <th>4</th>\n",
       "      <td>how navhostfragment</td>\n",
       "      <td>integrate android navigation architecture comp...</td>\n",
       "      <td>android android-fragments android-architecture...</td>\n",
       "      <td>48</td>\n",
       "      <td>how navhostfragment integrate android navigati...</td>\n",
       "    </tr>\n",
       "    <tr>\n",
       "      <th>...</th>\n",
       "      <td>...</td>\n",
       "      <td>...</td>\n",
       "      <td>...</td>\n",
       "      <td>...</td>\n",
       "      <td>...</td>\n",
       "    </tr>\n",
       "    <tr>\n",
       "      <th>36814</th>\n",
       "      <td>spring rest json can handle managedback refere...</td>\n",
       "      <td>post httplocalhosttranslators angularjs fronte...</td>\n",
       "      <td>java json hibernate jackson spring-boot</td>\n",
       "      <td>273</td>\n",
       "      <td>spring rest json can handle managedback refere...</td>\n",
       "    </tr>\n",
       "    <tr>\n",
       "      <th>36815</th>\n",
       "      <td>disableenable submit button form fill</td>\n",
       "      <td>form submit button disabledenabled depend form...</td>\n",
       "      <td>javascript forms submit disabled-control</td>\n",
       "      <td>56</td>\n",
       "      <td>disableenable submit button form fill form sub...</td>\n",
       "    </tr>\n",
       "    <tr>\n",
       "      <th>36816</th>\n",
       "      <td>how keep net console app run</td>\n",
       "      <td>consider console application start service sep...</td>\n",
       "      <td>c# multithreading sleep manualresetevent</td>\n",
       "      <td>53</td>\n",
       "      <td>how keep net console app run consider console ...</td>\n",
       "    </tr>\n",
       "    <tr>\n",
       "      <th>36817</th>\n",
       "      <td>how avoid javalangnoclassdeffounderror</td>\n",
       "      <td>code add text exist doc file itll save another...</td>\n",
       "      <td>java apache-poi noclassdeffounderror doc</td>\n",
       "      <td>165</td>\n",
       "      <td>how avoid javalangnoclassdeffounderror code ad...</td>\n",
       "    </tr>\n",
       "    <tr>\n",
       "      <th>36818</th>\n",
       "      <td>jetty throw noclassdeffounderror orgeclipsejet...</td>\n",
       "      <td>maven build throw end build shutdown jetty noc...</td>\n",
       "      <td>java jetty noclassdeffounderror shutdown</td>\n",
       "      <td>290</td>\n",
       "      <td>jetty throw noclassdeffounderror orgeclipsejet...</td>\n",
       "    </tr>\n",
       "  </tbody>\n",
       "</table>\n",
       "<p>36819 rows × 5 columns</p>\n",
       "</div>"
      ],
      "text/plain": [
       "                                                   Title  \\\n",
       "0      android jetpack navigation bottomnavigationvie...   \n",
       "1                        jetpack compose button drawable   \n",
       "2            topappbar flash navigate compose navigation   \n",
       "3               how create recycler view compose jetpack   \n",
       "4                                    how navhostfragment   \n",
       "...                                                  ...   \n",
       "36814  spring rest json can handle managedback refere...   \n",
       "36815              disableenable submit button form fill   \n",
       "36816                       how keep net console app run   \n",
       "36817             how avoid javalangnoclassdeffounderror   \n",
       "36818  jetty throw noclassdeffounderror orgeclipsejet...   \n",
       "\n",
       "                                                    Body  \\\n",
       "0      android jetpack navigation bottomnavigationvie...   \n",
       "1      achieve jetpack compose something button eleva...   \n",
       "2      screen scaffold topappbar navigate jetpack nav...   \n",
       "3      special way create recyclerview compose jetpac...   \n",
       "4      integrate android navigation architecture comp...   \n",
       "...                                                  ...   \n",
       "36814  post httplocalhosttranslators angularjs fronte...   \n",
       "36815  form submit button disabledenabled depend form...   \n",
       "36816  consider console application start service sep...   \n",
       "36817  code add text exist doc file itll save another...   \n",
       "36818  maven build throw end build shutdown jetty noc...   \n",
       "\n",
       "                                                    Tags  Body_word_count  \\\n",
       "0      android android-architecture-components bottom...              131   \n",
       "1      android android-jetpack-compose android-compos...               60   \n",
       "2      android android-jetpack android-jetpack-compos...              198   \n",
       "3      android android-recyclerview android-jetpack-c...                7   \n",
       "4      android android-fragments android-architecture...               48   \n",
       "...                                                  ...              ...   \n",
       "36814            java json hibernate jackson spring-boot              273   \n",
       "36815           javascript forms submit disabled-control               56   \n",
       "36816           c# multithreading sleep manualresetevent               53   \n",
       "36817           java apache-poi noclassdeffounderror doc              165   \n",
       "36818           java jetty noclassdeffounderror shutdown              290   \n",
       "\n",
       "                                                combined  \n",
       "0      android jetpack navigation bottomnavigationvie...  \n",
       "1      jetpack compose button drawable achieve jetpac...  \n",
       "2      topappbar flash navigate compose navigation sc...  \n",
       "3      how create recycler view compose jetpack speci...  \n",
       "4      how navhostfragment integrate android navigati...  \n",
       "...                                                  ...  \n",
       "36814  spring rest json can handle managedback refere...  \n",
       "36815  disableenable submit button form fill form sub...  \n",
       "36816  how keep net console app run consider console ...  \n",
       "36817  how avoid javalangnoclassdeffounderror code ad...  \n",
       "36818  jetty throw noclassdeffounderror orgeclipsejet...  \n",
       "\n",
       "[36819 rows x 5 columns]"
      ]
     },
     "metadata": {},
     "output_type": "display_data"
    }
   ],
   "source": [
    "data = pd.read_csv('Data/df_tags_filtered.csv')\n",
    "# Combinaison des colonnes Title et Body\n",
    "data['combined'] = data['Title'] + \" \" + data['Body']\n",
    "\n",
    "display(data)"
   ]
  },
  {
   "cell_type": "code",
   "execution_count": 471,
   "metadata": {},
   "outputs": [
    {
     "data": {
      "text/html": [
       "<div>\n",
       "<style scoped>\n",
       "    .dataframe tbody tr th:only-of-type {\n",
       "        vertical-align: middle;\n",
       "    }\n",
       "\n",
       "    .dataframe tbody tr th {\n",
       "        vertical-align: top;\n",
       "    }\n",
       "\n",
       "    .dataframe thead th {\n",
       "        text-align: right;\n",
       "    }\n",
       "</style>\n",
       "<table border=\"1\" class=\"dataframe\">\n",
       "  <thead>\n",
       "    <tr style=\"text-align: right;\">\n",
       "      <th></th>\n",
       "      <th>Title</th>\n",
       "      <th>Body</th>\n",
       "      <th>Tags</th>\n",
       "      <th>Body_word_count</th>\n",
       "      <th>combined</th>\n",
       "    </tr>\n",
       "  </thead>\n",
       "  <tbody>\n",
       "    <tr>\n",
       "      <th>0</th>\n",
       "      <td>[android, jetpack, navigation, bottomnavigatio...</td>\n",
       "      <td>[android, jetpack, navigation, bottomnavigatio...</td>\n",
       "      <td>[android, android-architecture-components, bot...</td>\n",
       "      <td>131</td>\n",
       "      <td>android jetpack navigation bottomnavigationvie...</td>\n",
       "    </tr>\n",
       "    <tr>\n",
       "      <th>1</th>\n",
       "      <td>[jetpack, compose, button, drawable]</td>\n",
       "      <td>[achieve, jetpack, compose, something, button,...</td>\n",
       "      <td>[android, android-jetpack-compose, android-com...</td>\n",
       "      <td>60</td>\n",
       "      <td>jetpack compose button drawable achieve jetpac...</td>\n",
       "    </tr>\n",
       "    <tr>\n",
       "      <th>2</th>\n",
       "      <td>[topappbar, flash, navigate, compose, navigation]</td>\n",
       "      <td>[screen, scaffold, topappbar, navigate, jetpac...</td>\n",
       "      <td>[android, android-jetpack, android-jetpack-com...</td>\n",
       "      <td>198</td>\n",
       "      <td>topappbar flash navigate compose navigation sc...</td>\n",
       "    </tr>\n",
       "    <tr>\n",
       "      <th>3</th>\n",
       "      <td>[how, create, recycler, view, compose, jetpack]</td>\n",
       "      <td>[special, way, create, recyclerview, compose, ...</td>\n",
       "      <td>[android, android-recyclerview, android-jetpac...</td>\n",
       "      <td>7</td>\n",
       "      <td>how create recycler view compose jetpack speci...</td>\n",
       "    </tr>\n",
       "    <tr>\n",
       "      <th>4</th>\n",
       "      <td>[how, navhostfragment]</td>\n",
       "      <td>[integrate, android, navigation, architecture,...</td>\n",
       "      <td>[android, android-fragments, android-architect...</td>\n",
       "      <td>48</td>\n",
       "      <td>how navhostfragment integrate android navigati...</td>\n",
       "    </tr>\n",
       "    <tr>\n",
       "      <th>...</th>\n",
       "      <td>...</td>\n",
       "      <td>...</td>\n",
       "      <td>...</td>\n",
       "      <td>...</td>\n",
       "      <td>...</td>\n",
       "    </tr>\n",
       "    <tr>\n",
       "      <th>36814</th>\n",
       "      <td>[spring, rest, json, can, handle, managedback,...</td>\n",
       "      <td>[post, httplocalhosttranslators, angularjs, fr...</td>\n",
       "      <td>[java, json, hibernate, jackson, spring-boot]</td>\n",
       "      <td>273</td>\n",
       "      <td>spring rest json can handle managedback refere...</td>\n",
       "    </tr>\n",
       "    <tr>\n",
       "      <th>36815</th>\n",
       "      <td>[disableenable, submit, button, form, fill]</td>\n",
       "      <td>[form, submit, button, disabledenabled, depend...</td>\n",
       "      <td>[javascript, forms, submit, disabled-control]</td>\n",
       "      <td>56</td>\n",
       "      <td>disableenable submit button form fill form sub...</td>\n",
       "    </tr>\n",
       "    <tr>\n",
       "      <th>36816</th>\n",
       "      <td>[how, keep, net, console, app, run]</td>\n",
       "      <td>[consider, console, application, start, servic...</td>\n",
       "      <td>[c#, multithreading, sleep, manualresetevent]</td>\n",
       "      <td>53</td>\n",
       "      <td>how keep net console app run consider console ...</td>\n",
       "    </tr>\n",
       "    <tr>\n",
       "      <th>36817</th>\n",
       "      <td>[how, avoid, javalangnoclassdeffounderror]</td>\n",
       "      <td>[code, add, text, exist, doc, file, itll, save...</td>\n",
       "      <td>[java, apache-poi, noclassdeffounderror, doc]</td>\n",
       "      <td>165</td>\n",
       "      <td>how avoid javalangnoclassdeffounderror code ad...</td>\n",
       "    </tr>\n",
       "    <tr>\n",
       "      <th>36818</th>\n",
       "      <td>[jetty, throw, noclassdeffounderror, orgeclips...</td>\n",
       "      <td>[maven, build, throw, end, build, shutdown, je...</td>\n",
       "      <td>[java, jetty, noclassdeffounderror, shutdown]</td>\n",
       "      <td>290</td>\n",
       "      <td>jetty throw noclassdeffounderror orgeclipsejet...</td>\n",
       "    </tr>\n",
       "  </tbody>\n",
       "</table>\n",
       "<p>36819 rows × 5 columns</p>\n",
       "</div>"
      ],
      "text/plain": [
       "                                                   Title  \\\n",
       "0      [android, jetpack, navigation, bottomnavigatio...   \n",
       "1                   [jetpack, compose, button, drawable]   \n",
       "2      [topappbar, flash, navigate, compose, navigation]   \n",
       "3        [how, create, recycler, view, compose, jetpack]   \n",
       "4                                 [how, navhostfragment]   \n",
       "...                                                  ...   \n",
       "36814  [spring, rest, json, can, handle, managedback,...   \n",
       "36815        [disableenable, submit, button, form, fill]   \n",
       "36816                [how, keep, net, console, app, run]   \n",
       "36817         [how, avoid, javalangnoclassdeffounderror]   \n",
       "36818  [jetty, throw, noclassdeffounderror, orgeclips...   \n",
       "\n",
       "                                                    Body  \\\n",
       "0      [android, jetpack, navigation, bottomnavigatio...   \n",
       "1      [achieve, jetpack, compose, something, button,...   \n",
       "2      [screen, scaffold, topappbar, navigate, jetpac...   \n",
       "3      [special, way, create, recyclerview, compose, ...   \n",
       "4      [integrate, android, navigation, architecture,...   \n",
       "...                                                  ...   \n",
       "36814  [post, httplocalhosttranslators, angularjs, fr...   \n",
       "36815  [form, submit, button, disabledenabled, depend...   \n",
       "36816  [consider, console, application, start, servic...   \n",
       "36817  [code, add, text, exist, doc, file, itll, save...   \n",
       "36818  [maven, build, throw, end, build, shutdown, je...   \n",
       "\n",
       "                                                    Tags  Body_word_count  \\\n",
       "0      [android, android-architecture-components, bot...              131   \n",
       "1      [android, android-jetpack-compose, android-com...               60   \n",
       "2      [android, android-jetpack, android-jetpack-com...              198   \n",
       "3      [android, android-recyclerview, android-jetpac...                7   \n",
       "4      [android, android-fragments, android-architect...               48   \n",
       "...                                                  ...              ...   \n",
       "36814      [java, json, hibernate, jackson, spring-boot]              273   \n",
       "36815      [javascript, forms, submit, disabled-control]               56   \n",
       "36816      [c#, multithreading, sleep, manualresetevent]               53   \n",
       "36817      [java, apache-poi, noclassdeffounderror, doc]              165   \n",
       "36818      [java, jetty, noclassdeffounderror, shutdown]              290   \n",
       "\n",
       "                                                combined  \n",
       "0      android jetpack navigation bottomnavigationvie...  \n",
       "1      jetpack compose button drawable achieve jetpac...  \n",
       "2      topappbar flash navigate compose navigation sc...  \n",
       "3      how create recycler view compose jetpack speci...  \n",
       "4      how navhostfragment integrate android navigati...  \n",
       "...                                                  ...  \n",
       "36814  spring rest json can handle managedback refere...  \n",
       "36815  disableenable submit button form fill form sub...  \n",
       "36816  how keep net console app run consider console ...  \n",
       "36817  how avoid javalangnoclassdeffounderror code ad...  \n",
       "36818  jetty throw noclassdeffounderror orgeclipsejet...  \n",
       "\n",
       "[36819 rows x 5 columns]"
      ]
     },
     "metadata": {},
     "output_type": "display_data"
    }
   ],
   "source": [
    "# tansformation en liste\n",
    "\n",
    "data['Body'] = data.Body.apply(lambda text: words_tokenize(text))\n",
    "data['Title'] = data.Title.apply(lambda text: words_tokenize(text))\n",
    "data['Tags'] = data.Tags.apply(lambda text: words_tokenize(text))\n",
    "display(data)\n",
    "data.to_csv(\"Data/data_cleaned.csv\", index=False)"
   ]
  },
  {
   "cell_type": "code",
   "execution_count": 472,
   "metadata": {},
   "outputs": [],
   "source": [
    "X = data[['Title','Body']]  # features\n",
    "y = data['Tags']  # target\n",
    "\n",
    "\n",
    "df = pd.DataFrame(data)\n",
    "def merge_and_keep_first_occurrence(row):\n",
    "    merged = row['Title'] + row['Body']\n",
    "    return list(dict.fromkeys(merged))\n",
    "# Appliquer la fonction à chaque ligne du DataFrame\n",
    "df['Merged'] = data.apply(merge_and_keep_first_occurrence, axis=1)\n",
    "\n",
    "X = df['Merged']\n"
   ]
  },
  {
   "cell_type": "code",
   "execution_count": 473,
   "metadata": {},
   "outputs": [
    {
     "data": {
      "text/plain": [
       "(29455,)"
      ]
     },
     "metadata": {},
     "output_type": "display_data"
    },
    {
     "data": {
      "text/plain": [
       "(7364,)"
      ]
     },
     "metadata": {},
     "output_type": "display_data"
    }
   ],
   "source": [
    "# Séparation des données en train et test sets. \n",
    "# Sélection d'un sample pour accélérer le processus de test\n",
    "X_train, X_test, y_train, y_test = train_test_split(X,y,\n",
    "    test_size=0.2,\n",
    "    random_state=42\n",
    ")\n",
    "\n",
    "\n",
    "display(X_train.shape, X_test.shape)\n",
    "X_train_sample = X_train.sample(2000, random_state=42)\n",
    "y_train_sample = y_train.loc[X_train_sample.index]\n",
    "X_test_sample = X_test.sample(400, random_state=42)\n",
    "y_test_sample = y_test.loc[X_test_sample.index]"
   ]
  },
  {
   "cell_type": "code",
   "execution_count": 474,
   "metadata": {},
   "outputs": [
    {
     "name": "stdout",
     "output_type": "stream",
     "text": [
      "(2000,) (400,)\n",
      "(400,) (2000,)\n"
     ]
    }
   ],
   "source": [
    "print(X_train_sample.shape, X_test_sample.shape)\n",
    "print(y_test_sample.shape, y_train_sample.shape)"
   ]
  },
  {
   "cell_type": "markdown",
   "metadata": {},
   "source": [
    "## Pipeline vectorisation"
   ]
  },
  {
   "cell_type": "code",
   "execution_count": 475,
   "metadata": {},
   "outputs": [],
   "source": [
    "from xgboost import XGBClassifier\n",
    "\n",
    "\n",
    "\n",
    "class CustomTfidfVectorizer(BaseEstimator, TransformerMixin):\n",
    "    def __init__(self, min_df=0.008, max_df=0.9, ngram_range=(1, 1), norm='l2', use_idf=True, stop_words='english'):\n",
    "        self.min_df = min_df\n",
    "        self.max_df = max_df\n",
    "        self.ngram_range = ngram_range\n",
    "        self.norm = norm\n",
    "        self.use_idf = use_idf\n",
    "        self.stop_words = stop_words\n",
    "        self.vectorizer = TfidfVectorizer(min_df=self.min_df, max_df=self.max_df,\n",
    "                                          ngram_range=self.ngram_range, norm=self.norm,\n",
    "                                          use_idf=self.use_idf, stop_words=self.stop_words)\n",
    "\n",
    "    def fit(self, X, y=None):\n",
    "        self.vectorizer.fit(X)\n",
    "        return self\n",
    "\n",
    "    def transform(self, X, y=None):\n",
    "        return self.vectorizer.transform(X)\n",
    "    \n",
    "\n",
    "\n",
    "class CustomWord2VecVectorizer(BaseEstimator, TransformerMixin):\n",
    "    def __init__(self, vector_size=600):  #, vector_size=400, window=8, min_count=6,alpha=0.025, epochs=5,workers=5, sg=0, max_vocab_size=None\n",
    "        self.vector_size = vector_size\n",
    "        '''self.window = window\n",
    "        self.min_count = min_count\n",
    "        self.alpha = alpha\n",
    "        self.epochs = epochs\n",
    "        self.workers = workers\n",
    "        self.sg = sg\n",
    "        self.max_vocab_size = max_vocab_size'''\n",
    "        self.model = Word2Vec(\n",
    "            vector_size=self.vector_size, \n",
    "            #window=self.window, \n",
    "            #workers=self.workers, \n",
    "            #sg=self.sg\n",
    "        )\n",
    "    def fit(self, X, y=None):\n",
    "        self.model = Word2Vec(\n",
    "            vector_size=self.vector_size\n",
    "            \n",
    "        )\n",
    "        self.model.build_vocab(X)\n",
    "        return self\n",
    "\n",
    "    def transform(self, X, y=None):\n",
    "        # Moyenne des vecteurs de mots pour chaque document\n",
    "        return np.array([np.mean([self.model.wv[w] for w in words if w in self.model.wv]\n",
    "                                 or [np.zeros(self.model.vector_size)], axis=0)\n",
    "                         for words in X])\n",
    "\n",
    "\n",
    "'''window=self.window, \n",
    "            min_count=self.min_count,\n",
    "            alpha=self.alpha,\n",
    "            workers=self.workers,\n",
    "            sg=self.sg,\n",
    "            max_vocab_size=self.max_vocab_size'''\n",
    "\n",
    "class CustomBERTVectorizer(BaseEstimator, TransformerMixin):\n",
    "    def __init__(self, max_length=128):\n",
    "        self.tokenizer = BertTokenizer.from_pretrained('bert-base-uncased')\n",
    "        self.model = BertModel.from_pretrained('bert-base-uncased')\n",
    "        self.max_length = max_length\n",
    "\n",
    "    def fit(self, X, y=None):\n",
    "        return self\n",
    "\n",
    "    def transform(self, X, y=None):\n",
    "        # Tokenization\n",
    "        inputs = self.tokenizer(X, padding=True, truncation=True, max_length=self.max_length, return_tensors=\"pt\")\n",
    "        \n",
    "        # Passer les inputs à travers BERT\n",
    "        with torch.no_grad():\n",
    "            outputs = self.model(**inputs)\n",
    "        \n",
    "        # Récupérer la représentation des tokens CLS (premier token)\n",
    "        embeddings = outputs.last_hidden_state[:, 0, :].numpy()\n",
    "        \n",
    "        return embeddings\n",
    "\n",
    "\n",
    "\n",
    "class SentenceTransformerVectorizer(BaseEstimator, TransformerMixin):\n",
    "    def __init__(self, model_name='all-MiniLM-L6-v2'):\n",
    "        self.model = SentenceTransformer(model_name)\n",
    "\n",
    "    def fit(self, X, y=None):\n",
    "        return self\n",
    "\n",
    "    def transform(self, X):\n",
    "        return self.model.encode(X)\n",
    "    \n",
    "\n",
    "def create_tfidf_pipeline():\n",
    "    pipeline_tfidf = Pipeline([\n",
    "        \n",
    "        (\"tfidf\", TfidfVectorizer(min_df=0.007, max_df=0.9, ngram_range=(1, 1), stop_words='english')),\n",
    "        (\"clf\", OneVsRestClassifier(LogisticRegression())),\n",
    "    ])\n",
    "    return pipeline_tfidf\n",
    "\n",
    "def create_random_forest_pipeline():\n",
    "    pipeline_rf = Pipeline([\n",
    "        (\"tfidf\", CustomTfidfVectorizer()),\n",
    "        (\"RandomForest\", RandomForestClassifier(n_estimators=100, random_state=42))\n",
    "    ])\n",
    "    return pipeline_rf\n",
    "\n",
    "def create_XGB_pipeline():\n",
    "    pipeline_xgb = Pipeline([\n",
    "        (\"tfidf\", CustomTfidfVectorizer(min_df=0.007, max_df=0.9, ngram_range=(1, 1), norm='l2', use_idf=True, stop_words='english')),\n",
    "        (\"XGB\", XGBClassifier())\n",
    "    ])\n",
    "    return pipeline_xgb\n",
    "\n",
    "def create_word2vec_pipeline():\n",
    "    pipeline_word2vec = Pipeline([\n",
    "        (\"word2vec\", CustomWord2VecVectorizer()),\n",
    "        (\"clf_w2v\", OneVsRestClassifier(LogisticRegression())),\n",
    "\n",
    "    ])\n",
    "    return pipeline_word2vec\n",
    "\n",
    "def create_bert_pipeline():\n",
    "    pipeline_bert = Pipeline([\n",
    "        (\"bert_vectorizer\", CustomBERTVectorizer()),\n",
    "        (\"clf_bert\", OneVsRestClassifier(LogisticRegression(max_iter=1000)))\n",
    "    ])\n",
    "    return pipeline_bert\n",
    "\n",
    "def create_use_pipeline():\n",
    "    pipeline_use = Pipeline([\n",
    "        (\"use_vectorizer\", SentenceTransformerVectorizer()),\n",
    "        (\"clf_use\", OneVsRestClassifier(LogisticRegression(max_iter=1000)))\n",
    "    ])\n",
    "    return pipeline_use\n",
    "\n"
   ]
  },
  {
   "cell_type": "code",
   "execution_count": 476,
   "metadata": {},
   "outputs": [
    {
     "name": "stdout",
     "output_type": "stream",
     "text": [
      "19187    [php, database, web-applications, file-io, set...\n",
      "26981    [java, user-interface, swing, formatting, jlabel]\n",
      "6636     [python, trading, binance, cryptocurrency, bin...\n",
      "25813    [java, spring, hibernate, validation, spring-mvc]\n",
      "23735         [c#, sql-server, stored-procedures, ado.net]\n",
      "11784    [sql, sql-server, sql-server-2012, hijri, form...\n",
      "4530     [c++, oop, memory-management, resource-cleanup...\n",
      "36266        [android, command-line, google-play, keytool]\n",
      "3895     [sql-server, sql-server-2008, foreign-keys, co...\n",
      "24769    [algorithm, sorting, language-agnostic, matching]\n",
      "Name: Tags, dtype: object\n"
     ]
    }
   ],
   "source": [
    "print(y_train_sample[:10])"
   ]
  },
  {
   "cell_type": "code",
   "execution_count": 477,
   "metadata": {},
   "outputs": [
    {
     "name": "stderr",
     "output_type": "stream",
     "text": [
      "/opt/anaconda3/envs/supervisedP5/lib/python3.8/site-packages/sklearn/preprocessing/_label.py:900: UserWarning: unknown class(es) ['actionsheetpicker', 'affix', 'aggregation-framework', 'alert', 'allocator', 'amazon-dynamodb', 'android-alertdialog', 'android-api-31', 'android-bitmap', 'android-broadcastreceiver', 'android-contentprovider', 'android-coordinatorlayout', 'android-cursorloader', 'android-dark-theme', 'android-darkmode', 'android-databinding', 'android-gridview', 'android-image', 'android-ndk-r7', 'android-relativelayout', 'android-studio-2.0', 'android-studio-arctic-fox', 'android-wifi', 'androidx', 'angular12', 'angular2-routing', 'angularjs-controller', 'app-config', 'apple-m1', 'application-server', 'arduino', 'argumentnullexception', 'array-column', 'array.prototype.map', 'asp.net-core-tag-helpers', 'asp.net-membership', 'assemblies', 'assembly', 'asynchronous-postback', 'atl', 'audiotoolbox', 'autoresetevent', 'azman', 'background-process', 'badimageformatexception', 'baseadapter', 'blocking', 'bluetooth-service-discovery', 'bootstrap-5', 'bootstrap-tokenfield', 'bootstrapping', 'browser-sync', 'brute-force', 'c#-8.0', 'c++14', 'calendar', 'cassandra', 'cdn', 'checkmarx', 'claims-based-identity', 'cloud-foundry', 'code-coverage', 'code-signing-entitlements', 'coded-ui-tests', 'command-line-parser', 'comparator', 'compile-time-constant', 'complex-numbers', 'conditional-compilation', 'console.writeline', 'cordova-2.0.0', 'cordova-plugins', 'counting', 'criteria-api', 'cryptography', 'currying', 'custom-action', 'data-visualization', 'database-normalization', 'datetime-select', 'dbnull', 'decorator', 'definition', 'devexpress', 'device-detection', 'dirty-checking', 'dirty-tracking', 'disassembly', 'disposable', 'distutils', 'django-admin', 'django-crispy-forms', 'django-rest-framework', 'django-serializer', 'dllexport', 'dnx', 'docker-compose', 'dto', 'dynamics-crm-2016', 'easy-install', 'eclipse-2021-09', 'eclipse-plugin', 'ecmascript-2017', 'electron', 'email-validation', 'enumerators', 'evaluation', 'excel', 'facebook-javascript-sdk', 'family-tree', 'fb.ui', 'fbjs', 'fibonacci', 'file-conversion', 'file-exists', 'filenotfoundexception', 'firebase-admin', 'freebsd', 'function-call-operator', 'functional-interface', 'functor', 'gaussianblur', 'genealogy', 'generic-method', 'gensim', 'global', 'google-cloud-endpoints', 'google-drive-api', 'gpgpu', 'gradient', 'gravity-forms-plugin', 'handler', 'hashset', 'hashtable', 'hasownproperty', 'hikaricp', 'hook-wordpress', 'http-get', 'http-status-code-407', 'httpwebrequest', 'i18next', 'icons', 'implication', 'in-app-subscription', 'inappbrowser', 'incognito-mode', 'inject', 'internet-explorer-10', 'intersect', 'ios8-share-extension', 'ios8.3', 'ip', 'ipc', 'java-17', 'java-native-interface', 'java-sealed-type', 'jetty', 'jpa-2.0', 'jpeg', 'jquery-traversing', 'jquery-ui-sortable', 'json-framework', 'jstree', 'keras-layer', 'large-files', 'lazy-initialization', 'linkbutton', 'linker-errors', 'linq-to-objects', 'lodash', 'macos-monterey', 'manifest', 'map-directions', 'material-components', 'maven-assembly-plugin', 'memory-alignment', 'micro-optimization', 'mingw', 'mkannotation', 'mkannotationview', 'modeladmin', 'modular-arithmetic', 'mouse', 'msdtc', 'multiline', 'multiparameter', 'mvvm', 'mysql-connector', 'mysql-connector-python', 'native-base', 'navigation-architecture', 'nested-loops', 'nestjs', 'nsarraycontroller', 'nscalendar', 'nscell', 'nsnotificationcenter', 'nsnull', 'nsoperation', 'nsoperationqueue', 'nstableview', 'nullable-reference-types', 'numpy-ndarray', 'oauth', 'object-object-mapping', 'opencl', 'openjdk-17', 'pageload', 'pagemethods', 'pandas-explode', 'pgm', 'placeholder', 'polymorphic-associations', 'postal-code', 'postman', 'posts', 'preloader', 'proxy', 'pseudo-element', 'pycrypto', 'qcommandlineparser', 'query-optimization', 'qunit', 'react-ga', 'react-native-flexbox', 'react-table', 'react-table-v7', 'redundancy', 'reload', 'renderscript', 'reportingservices-2005', 'requestanimationframe', 'requirejs', 'restful-authentication', 'reverse-proxy', 'rippledrawable', 'robolectric', 'rspec-rails', 'rspec2', 'same-origin-policy', 'saxparser', 'scrapy', 'screen-readers', 'script-component', 'seaborn', 'sealed-class', 'secure-coding', 'sensors', 'setup-project', 'shared-libraries', 'sigmoid', 'slice', 'slider', 'slowcheetah', 'smalltalk', 'spark-cassandra-connector', 'spring-data-elasticsearch', 'spring-environment', 'sprockets', 'sql-execution-plan', 'sql-job', 'sse', 'static-block', 'static-constructor', 'static-if', 'static-initialization', 'status', 'street-address', 'string-comparison', 'strongname', 'subplot', 'subscription', 'svg', 'swipe-gesture', 'symbols', 'system-sounds', 'tabcontrol', 'tailwind-css', 'template-specialization', 'temporal', 'three.js', 'thumbnails', 'timeout', 'tkinter', 'tokenize', 'trace', 'transactionscope', 'transformation', 'uialertcontroller', 'uicollectionviewlayout', 'uitextviewdelegate', 'undefined-reference', 'unsatisfiedlinkerror', 'use-effect', 'user-agent', 'validationattribute', 'versioning', 'visualsvn', 'webdriverwait', 'windows-firewall', 'windows-firewall-api', 'windows-server-2003', 'windows-server-2008', 'word-wrap', 'wordpress-theming', 'wysiwyg', 'x-frame-options', 'x86', 'xml-deserialization', 'xtragrid', 'yeoman', 'zend-form', 'zend-validate'] will be ignored\n",
      "  warnings.warn(\n"
     ]
    }
   ],
   "source": [
    "# Instanciation de MLB et transformation des labels\n",
    "mlb = MultiLabelBinarizer()\n",
    "y_train_sample_trans = mlb.fit_transform(y_train_sample)\n",
    "y_test_sample_trans = mlb.transform(y_test_sample) \n"
   ]
  },
  {
   "cell_type": "code",
   "execution_count": 478,
   "metadata": {},
   "outputs": [
    {
     "data": {
      "text/plain": [
       "'\\nlr_word2vec = OneVsRestClassifier(LogisticRegression())\\nw2v_fit = lr_word2vec.fit(X_train_sample_trans, y_train_sample_trans)\\nw2v_predict = lr_word2vec.predict_proba(X_test_sample_trans)\\nw2v_binary_pred = select_top_n_tags(w2v_predict, threshold=0.1, top_n=5)\\ntags_predicted_to_text(w2v_binary_pred, mlb)\\nprint(\"Precision:\", precision_score(y_test_sample_trans, w2v_binary_pred, average=\\'samples\\'))'"
      ]
     },
     "execution_count": 478,
     "metadata": {},
     "output_type": "execute_result"
    }
   ],
   "source": [
    "'''import gensim.downloader\n",
    "# Télécharger le modèle word2vec\n",
    "word2vec_model = gensim.downloader.load('fasttext-wiki-news-subwords-300')\n",
    "def transform_with_word2vec(data, word2vec_model):\n",
    "    transformed_data = []\n",
    "    for words in data:\n",
    "        word_vectors = [word2vec_model[word] for word in words if word in word2vec_model]\n",
    "        if word_vectors:\n",
    "            transformed_data.append(np.mean(word_vectors, axis=0))\n",
    "        else:\n",
    "            transformed_data.append(np.zeros(word2vec_model.vector_size))\n",
    "    return np.array(transformed_data)\n",
    "\n",
    "X_train_sample_trans = transform_with_word2vec(X_train_sample, word2vec_model)\n",
    "X_test_sample_trans = transform_with_word2vec(X_test_sample, word2vec_model)\n",
    "#word2vec_model = gensim.downloader.load('word2vec-google-news-300')\n",
    "'''##X_test_sample_trans = word2vec_model.transform(X_test_sample)\n",
    "'''\n",
    "lr_word2vec = OneVsRestClassifier(LogisticRegression())\n",
    "w2v_fit = lr_word2vec.fit(X_train_sample_trans, y_train_sample_trans)\n",
    "w2v_predict = lr_word2vec.predict_proba(X_test_sample_trans)\n",
    "w2v_binary_pred = select_top_n_tags(w2v_predict, threshold=0.1, top_n=5)\n",
    "tags_predicted_to_text(w2v_binary_pred, mlb)\n",
    "print(\"Precision:\", precision_score(y_test_sample_trans, w2v_binary_pred, average='samples'))'''\n"
   ]
  },
  {
   "cell_type": "markdown",
   "metadata": {},
   "source": [
    "## Vectorisation avec TF_IDF.\n",
    "  Régréssion logistique:  \n",
    "\n",
    "  RandomForest: \n",
    "\n",
    "  XGBoost: \n",
    "\n",
    "  Jaccard Score : C'est la taille de l'intersection des labels prédits et des vrais labels divisée par la taille de l'union des labels prédits et des vrais labels. C'est une bonne métrique pour la classification multilabels car elle prend en compte la présence et l'absence de chaque label.\n",
    "\n",
    "  Precision, Recall, F1 Score : Ces métriques peuvent également être utilisées dans le contexte multilabels, en calculant la métrique pour chaque label individuellement, puis en prenant la moyenne."
   ]
  },
  {
   "cell_type": "code",
   "execution_count": 479,
   "metadata": {},
   "outputs": [
    {
     "data": {
      "text/plain": [
       "'\\npipeline_tfidf_grid = create_tfidf_pipeline()\\nparam_grid_tfidf = {\\n    \\'tfidf__min_df\\': [1, 5, 10],\\n    \\'tfidf__max_df\\': [0.5, 0.75, 1.0],\\n    \\'tfidf__ngram_range\\': [(1, 1), (1, 2), (1, 3)],\\n    \\'tfidf__norm\\': [\\'l1\\', \\'l2\\'],\\n    \\'tfidf__use_idf\\': [True, False],\\n    \\n}\\n\\ngrid_search = GridSearchCV(\\n    pipeline_tfidf_grid, param_grid=param_grid_tfidf, \\n    cv=5,scoring=[\\'f1_weighted\\'] ,verbose=1, refit=\\'f1_weighted\\')\\n\\n# Convertir la matrice CSR en une liste de listes de mots\\n#X_train_sample_trans_list = [row.nonzero()[1].tolist() for row in X_train_sample]\\n\\n# Entraîner le modèle Word2Vec\\ngrid_search.fit(X_train_sample_str, y_train_sample_trans)\\n\\n#grid_search.fit(X_train_sample_trans, y_train_sample_trans)\\n\\nprint(\"Meilleurs hyperparamètres : \", grid_search.best_params_)'"
      ]
     },
     "execution_count": 479,
     "metadata": {},
     "output_type": "execute_result"
    }
   ],
   "source": [
    "from sklearn.model_selection import GridSearchCV\n",
    "\n",
    "'''\n",
    "pipeline_tfidf_grid = create_tfidf_pipeline()\n",
    "param_grid_tfidf = {\n",
    "    'tfidf__min_df': [1, 5, 10],\n",
    "    'tfidf__max_df': [0.5, 0.75, 1.0],\n",
    "    'tfidf__ngram_range': [(1, 1), (1, 2), (1, 3)],\n",
    "    'tfidf__norm': ['l1', 'l2'],\n",
    "    'tfidf__use_idf': [True, False],\n",
    "    \n",
    "}\n",
    "\n",
    "grid_search = GridSearchCV(\n",
    "    pipeline_tfidf_grid, param_grid=param_grid_tfidf, \n",
    "    cv=5,scoring=['f1_weighted'] ,verbose=1, refit='f1_weighted')\n",
    "\n",
    "# Convertir la matrice CSR en une liste de listes de mots\n",
    "#X_train_sample_trans_list = [row.nonzero()[1].tolist() for row in X_train_sample]\n",
    "\n",
    "# Entraîner le modèle Word2Vec\n",
    "grid_search.fit(X_train_sample_str, y_train_sample_trans)\n",
    "\n",
    "#grid_search.fit(X_train_sample_trans, y_train_sample_trans)\n",
    "\n",
    "print(\"Meilleurs hyperparamètres : \", grid_search.best_params_)'''"
   ]
  },
  {
   "cell_type": "code",
   "execution_count": 480,
   "metadata": {},
   "outputs": [],
   "source": [
    "pipeline_tfidf = create_tfidf_pipeline()\n",
    "\n",
    "# Convertir les listes en chaînes de caractères\n",
    "X_train_sample_str = [' '.join(text) for text in X_train_sample]\n",
    "X_test_sample_str = [' '.join(text) for text in X_test_sample]\n",
    "\n",
    "# Utiliser les chaînes de caractères pour l'ajustement et la transformation\n",
    "X_train_sample_trans = pipeline_tfidf[\"tfidf\"].fit_transform(X_train_sample_str)\n",
    "X_test_sample_trans = pipeline_tfidf[\"tfidf\"].transform(X_test_sample_str)\n"
   ]
  },
  {
   "cell_type": "markdown",
   "metadata": {},
   "source": [
    "### Regression logistique OneVsRestClassifier"
   ]
  },
  {
   "cell_type": "code",
   "execution_count": 481,
   "metadata": {},
   "outputs": [
    {
     "data": {
      "text/plain": [
       "<ActiveRun: >"
      ]
     },
     "execution_count": 481,
     "metadata": {},
     "output_type": "execute_result"
    }
   ],
   "source": [
    "mlflow.set_experiment(\"MLflow Quickstart\")\n",
    "mlflow.end_run()\n",
    "mlflow.start_run(run_name=\"TF-IDF-LogisticRegression\")"
   ]
  },
  {
   "cell_type": "code",
   "execution_count": 482,
   "metadata": {},
   "outputs": [
    {
     "name": "stdout",
     "output_type": "stream",
     "text": [
      "shape de prediction (400, 2665)\n",
      "shape de prediction (400, 1025)\n"
     ]
    },
    {
     "name": "stderr",
     "output_type": "stream",
     "text": [
      "huggingface/tokenizers: The current process just got forked, after parallelism has already been used. Disabling parallelism to avoid deadlocks...\n",
      "To disable this warning, you can either:\n",
      "\t- Avoid using `tokenizers` before the fork if possible\n",
      "\t- Explicitly set the environment variable TOKENIZERS_PARALLELISM=(true | false)\n",
      "/opt/anaconda3/envs/supervisedP5/lib/python3.8/site-packages/_distutils_hack/__init__.py:11: UserWarning: Distutils was imported before Setuptools, but importing Setuptools also replaces the `distutils` module in `sys.modules`. This may lead to undesirable behaviors or errors. To avoid these issues, avoid using distutils directly, ensure that setuptools is installed in the traditional way (e.g. not an editable install), and/or make sure that setuptools is always imported before distutils.\n",
      "  warnings.warn(\n",
      "/opt/anaconda3/envs/supervisedP5/lib/python3.8/site-packages/_distutils_hack/__init__.py:26: UserWarning: Setuptools is replacing distutils.\n",
      "  warnings.warn(\"Setuptools is replacing distutils.\")\n"
     ]
    },
    {
     "data": {
      "text/plain": [
       "<mlflow.models.model.ModelInfo at 0x7f7af8112df0>"
      ]
     },
     "execution_count": 482,
     "metadata": {},
     "output_type": "execute_result"
    }
   ],
   "source": [
    "fit_time =time.time()\n",
    "lr_tfidf = pipeline_tfidf.named_steps['clf'].fit(X_train_sample_trans, y_train_sample_trans)\n",
    "fit_time = time.time() - fit_time\n",
    "\n",
    "\n",
    "predict_time = time.time()\n",
    "predictions = lr_tfidf.predict_proba(X_test_sample_trans)\n",
    "predict_time = time.time() - predict_time\n",
    "\n",
    "print(\"shape de prediction\",predictions.shape)\n",
    "print(\"shape de prediction\",X_test_sample_trans.shape)\n",
    "\n",
    "mlflow.log_param(\"min_df\", pipeline_tfidf.named_steps['tfidf'].min_df)\n",
    "mlflow.log_param(\"max_df\", pipeline_tfidf.named_steps['tfidf'].max_df)\n",
    "mlflow.log_metric(\"fit_time\", fit_time)\n",
    "mlflow.sklearn.log_model(lr_tfidf, \"model\")\n"
   ]
  },
  {
   "cell_type": "code",
   "execution_count": 483,
   "metadata": {},
   "outputs": [],
   "source": [
    "probabilities = predictions\n",
    "# Utiliser la fonction pour selectionner les tags les plus probables\n",
    "binary_predictions = select_top_n_tags(probabilities, threshold=0.2, top_n=7)"
   ]
  },
  {
   "cell_type": "code",
   "execution_count": 484,
   "metadata": {},
   "outputs": [
    {
     "name": "stderr",
     "output_type": "stream",
     "text": [
      "/opt/anaconda3/envs/supervisedP5/lib/python3.8/site-packages/sklearn/metrics/_classification.py:1471: UndefinedMetricWarning: Precision is ill-defined and being set to 0.0 in samples with no predicted labels. Use `zero_division` parameter to control this behavior.\n",
      "  _warn_prf(average, modifier, msg_start, len(result))\n"
     ]
    },
    {
     "name": "stdout",
     "output_type": "stream",
     "text": [
      "Jaccard Score: 0.21825000000000003\n",
      "Precision: 0.5962083333333333\n",
      "Recall: 0.2326666666666667\n",
      "F1 Score: 0.3201904761904762\n"
     ]
    }
   ],
   "source": [
    "# Calcul des scores\n",
    "precision_test = precision_score(y_test_sample_trans, binary_predictions, average='samples')\n",
    "recall_test = recall_score(y_test_sample_trans, binary_predictions, average='samples')\n",
    "f1_test = f1_score(y_test_sample_trans, binary_predictions, average='samples')\n",
    "jaccardScore =jaccard_score(y_test_sample_trans, binary_predictions, average='samples')\n",
    "print(\"Jaccard Score:\" , jaccardScore)\n",
    "print(\"Precision:\", precision_test)\n",
    "print(\"Recall:\", recall_test)\n",
    "print(\"F1 Score:\", f1_test)\n",
    "\n"
   ]
  },
  {
   "cell_type": "code",
   "execution_count": 485,
   "metadata": {},
   "outputs": [],
   "source": [
    "# Transformation des tags prédits en texte\n",
    "tags_predicted_to_text(binary_predictions, mlb)"
   ]
  },
  {
   "cell_type": "code",
   "execution_count": 486,
   "metadata": {},
   "outputs": [
    {
     "name": "stdout",
     "output_type": "stream",
     "text": [
      "Taux de remplissage des tags : 0.04%\n"
     ]
    }
   ],
   "source": [
    "# Calculer le nombre total de tags prédits\n",
    "total_predicted_tags = binary_predictions.sum()\n",
    "\n",
    "# Calculer le nombre total de tags possibles\n",
    "total_possible_tags = y_test_sample_trans.size\n",
    "\n",
    "# Calculer le taux de remplissage\n",
    "fill_rate = total_predicted_tags / total_possible_tags\n",
    "\n",
    "print(f'Taux de remplissage des tags : {fill_rate * 100:.2f}%')"
   ]
  },
  {
   "cell_type": "code",
   "execution_count": 487,
   "metadata": {},
   "outputs": [
    {
     "name": "stderr",
     "output_type": "stream",
     "text": [
      "/opt/anaconda3/envs/supervisedP5/lib/python3.8/site-packages/sklearn/metrics/_classification.py:1471: UndefinedMetricWarning: Precision is ill-defined and being set to 0.0 in samples with no predicted labels. Use `zero_division` parameter to control this behavior.\n",
      "  _warn_prf(average, modifier, msg_start, len(result))\n"
     ]
    },
    {
     "data": {
      "text/html": [
       "<div>\n",
       "<style scoped>\n",
       "    .dataframe tbody tr th:only-of-type {\n",
       "        vertical-align: middle;\n",
       "    }\n",
       "\n",
       "    .dataframe tbody tr th {\n",
       "        vertical-align: top;\n",
       "    }\n",
       "\n",
       "    .dataframe thead th {\n",
       "        text-align: right;\n",
       "    }\n",
       "</style>\n",
       "<table border=\"1\" class=\"dataframe\">\n",
       "  <thead>\n",
       "    <tr style=\"text-align: right;\">\n",
       "      <th></th>\n",
       "      <th>Vectorizer</th>\n",
       "      <th>precision Test</th>\n",
       "      <th>recall_test</th>\n",
       "      <th>f1_test</th>\n",
       "      <th>Jaccard Test</th>\n",
       "      <th>Fit Time</th>\n",
       "      <th>predict_time</th>\n",
       "    </tr>\n",
       "  </thead>\n",
       "  <tbody>\n",
       "    <tr>\n",
       "      <th>0</th>\n",
       "      <td>lr_Tfidf</td>\n",
       "      <td>0.596208</td>\n",
       "      <td>0.232667</td>\n",
       "      <td>0.32019</td>\n",
       "      <td>0.21825</td>\n",
       "      <td>22.648387</td>\n",
       "      <td>0.284314</td>\n",
       "    </tr>\n",
       "  </tbody>\n",
       "</table>\n",
       "</div>"
      ],
      "text/plain": [
       "  Vectorizer  precision Test  recall_test  f1_test  Jaccard Test   Fit Time  \\\n",
       "0   lr_Tfidf        0.596208     0.232667  0.32019       0.21825  22.648387   \n",
       "\n",
       "   predict_time  \n",
       "0      0.284314  "
      ]
     },
     "metadata": {},
     "output_type": "display_data"
    }
   ],
   "source": [
    "# Afficher les metrics de classification\n",
    "result_lr_tfidf = stocker_results(name=\"lr_Tfidf\", \n",
    "                                precision_test=precision_score(y_test_sample_trans, binary_predictions, average='samples'),\n",
    "                                f1_test=f1_score(y_test_sample_trans, binary_predictions, average='samples'),\n",
    "                                recall_test = recall_score(y_test_sample_trans, binary_predictions, average='samples'),\n",
    "                                jaccard_test=jaccard_score(y_test_sample_trans, binary_predictions, average='samples'), \n",
    "                                fit_time=fit_time, predict_time = predict_time)"
   ]
  },
  {
   "cell_type": "code",
   "execution_count": 488,
   "metadata": {},
   "outputs": [
    {
     "data": {
      "image/png": "[encoded data removed]",
      "text/plain": [
       "<Figure size 600x500 with 1 Axes>"
      ]
     },
     "metadata": {},
     "output_type": "display_data"
    }
   ],
   "source": [
    "plot_result(result_lr_tfidf)"
   ]
  },
  {
   "cell_type": "code",
   "execution_count": 489,
   "metadata": {},
   "outputs": [],
   "source": [
    "mlflow.end_run()"
   ]
  },
  {
   "cell_type": "markdown",
   "metadata": {},
   "source": [
    "XGBOOST"
   ]
  },
  {
   "cell_type": "code",
   "execution_count": 490,
   "metadata": {},
   "outputs": [
    {
     "data": {
      "text/plain": [
       "<ActiveRun: >"
      ]
     },
     "execution_count": 490,
     "metadata": {},
     "output_type": "execute_result"
    }
   ],
   "source": [
    "mlflow.start_run(run_name=\"XGB-Classifier\")"
   ]
  },
  {
   "cell_type": "code",
   "execution_count": 491,
   "metadata": {},
   "outputs": [],
   "source": [
    "xgb_tfidf = create_XGB_pipeline()\n",
    "# Utiliser les chaînes de caractères pour l'ajustement et la transformation\n",
    "X_train_sample_trans = xgb_tfidf[\"tfidf\"].fit_transform(X_train_sample_str)\n",
    "X_test_sample_trans = xgb_tfidf[\"tfidf\"].transform(X_test_sample_str)\n"
   ]
  },
  {
   "cell_type": "code",
   "execution_count": 492,
   "metadata": {},
   "outputs": [
    {
     "name": "stdout",
     "output_type": "stream",
     "text": [
      "Fit time :  22.64838671684265\n"
     ]
    }
   ],
   "source": [
    "fit_time_xgb =time.time()\n",
    "xgb_tfidf.fit(X_train_sample_str, y_train_sample_trans)\n",
    "fit_time_xgb = time.time() - fit_time_xgb\n",
    "print(\"Fit time : \", fit_time)\n",
    "\n",
    "predict_time_xgb = time.time()\n",
    "predictions_xgb = xgb_tfidf.predict(X_test_sample_str)\n",
    "predict_time_xgb = time.time() - predict_time_xgb\n",
    "\n"
   ]
  },
  {
   "cell_type": "code",
   "execution_count": 493,
   "metadata": {},
   "outputs": [
    {
     "name": "stderr",
     "output_type": "stream",
     "text": [
      "/opt/anaconda3/envs/supervisedP5/lib/python3.8/site-packages/sklearn/metrics/_classification.py:1471: UndefinedMetricWarning: Precision is ill-defined and being set to 0.0 in samples with no predicted labels. Use `zero_division` parameter to control this behavior.\n",
      "  _warn_prf(average, modifier, msg_start, len(result))\n"
     ]
    },
    {
     "name": "stdout",
     "output_type": "stream",
     "text": [
      "Precision: 0.5432916666666666\n",
      "Recall: 0.261\n",
      "F1 Score: 0.3302996031746032\n"
     ]
    }
   ],
   "source": [
    "# Utiliser la fonction pour obtenir les tags prédits\n",
    "xgb_binary_predictions = select_top_n_tags(predictions_xgb, threshold=0.15, top_n=5)\n",
    "\n",
    "print(\"Precision:\", precision_score(y_test_sample_trans, xgb_binary_predictions, average='samples'))\n",
    "print(\"Recall:\", recall_score(y_test_sample_trans, xgb_binary_predictions, average='samples'))\n",
    "print(\"F1 Score:\", f1_score(y_test_sample_trans, xgb_binary_predictions, average='samples'))\n",
    "#rf_predictions_labels =mlb.inverse_transform(rf_binary_predictions)\n",
    "tags_predicted_to_text(xgb_binary_predictions, mlb)\n"
   ]
  },
  {
   "cell_type": "code",
   "execution_count": 494,
   "metadata": {},
   "outputs": [
    {
     "name": "stderr",
     "output_type": "stream",
     "text": [
      "/opt/anaconda3/envs/supervisedP5/lib/python3.8/site-packages/sklearn/metrics/_classification.py:1471: UndefinedMetricWarning: Precision is ill-defined and being set to 0.0 in samples with no predicted labels. Use `zero_division` parameter to control this behavior.\n",
      "  _warn_prf(average, modifier, msg_start, len(result))\n"
     ]
    },
    {
     "data": {
      "text/html": [
       "<div>\n",
       "<style scoped>\n",
       "    .dataframe tbody tr th:only-of-type {\n",
       "        vertical-align: middle;\n",
       "    }\n",
       "\n",
       "    .dataframe tbody tr th {\n",
       "        vertical-align: top;\n",
       "    }\n",
       "\n",
       "    .dataframe thead th {\n",
       "        text-align: right;\n",
       "    }\n",
       "</style>\n",
       "<table border=\"1\" class=\"dataframe\">\n",
       "  <thead>\n",
       "    <tr style=\"text-align: right;\">\n",
       "      <th></th>\n",
       "      <th>Vectorizer</th>\n",
       "      <th>precision Test</th>\n",
       "      <th>recall_test</th>\n",
       "      <th>f1_test</th>\n",
       "      <th>Jaccard Test</th>\n",
       "      <th>Fit Time</th>\n",
       "      <th>predict_time</th>\n",
       "    </tr>\n",
       "  </thead>\n",
       "  <tbody>\n",
       "    <tr>\n",
       "      <th>0</th>\n",
       "      <td>xgb_Tfidf</td>\n",
       "      <td>0.543292</td>\n",
       "      <td>0.261</td>\n",
       "      <td>0.3303</td>\n",
       "      <td>0.231152</td>\n",
       "      <td>198.91931</td>\n",
       "      <td>0.82087</td>\n",
       "    </tr>\n",
       "  </tbody>\n",
       "</table>\n",
       "</div>"
      ],
      "text/plain": [
       "  Vectorizer  precision Test  recall_test  f1_test  Jaccard Test   Fit Time  \\\n",
       "0  xgb_Tfidf        0.543292        0.261   0.3303      0.231152  198.91931   \n",
       "\n",
       "   predict_time  \n",
       "0       0.82087  "
      ]
     },
     "metadata": {},
     "output_type": "display_data"
    },
    {
     "data": {
      "image/png": "[encoded data removed]",
      "text/plain": [
       "<Figure size 600x500 with 1 Axes>"
      ]
     },
     "metadata": {},
     "output_type": "display_data"
    }
   ],
   "source": [
    "result_xgb_tfidf = stocker_results(name=\"xgb_Tfidf\",precision_test=precision_score(y_test_sample_trans, xgb_binary_predictions,average='samples'),\n",
    "                                f1_test=f1_score(y_test_sample_trans, xgb_binary_predictions, average='samples'),\n",
    "                                recall_test = recall_score(y_test_sample_trans, xgb_binary_predictions, average='samples'),\n",
    "                                jaccard_test=jaccard_score(y_test_sample_trans, xgb_binary_predictions, average='samples'),\n",
    "                                fit_time=fit_time_xgb, predict_time = predict_time_xgb)\n",
    "\n",
    "plot_result(result_xgb_tfidf)"
   ]
  },
  {
   "cell_type": "code",
   "execution_count": 495,
   "metadata": {},
   "outputs": [],
   "source": [
    "mlflow.end_run()"
   ]
  },
  {
   "cell_type": "markdown",
   "metadata": {},
   "source": [
    "### Random Forest"
   ]
  },
  {
   "cell_type": "code",
   "execution_count": 496,
   "metadata": {},
   "outputs": [
    {
     "data": {
      "text/plain": [
       "'mlflow.start_run(run_name=\"tfidf_Random Forest\")\\nrf_tfidf = create_random_forest_pipeline()\\n# Utiliser les chaînes de caractères pour l\\'ajustement et la transformation\\nX_train_sample_trans = rf_tfidf[\"tfidf\"].fit_transform(X_train_sample_str)\\nX_test_sample_trans = rf_tfidf[\"tfidf\"].transform(X_test_sample_str)\\n'"
      ]
     },
     "execution_count": 496,
     "metadata": {},
     "output_type": "execute_result"
    }
   ],
   "source": [
    "'''mlflow.start_run(run_name=\"tfidf_Random Forest\")\n",
    "rf_tfidf = create_random_forest_pipeline()\n",
    "# Utiliser les chaînes de caractères pour l'ajustement et la transformation\n",
    "X_train_sample_trans = rf_tfidf[\"tfidf\"].fit_transform(X_train_sample_str)\n",
    "X_test_sample_trans = rf_tfidf[\"tfidf\"].transform(X_test_sample_str)\n",
    "'''"
   ]
  },
  {
   "cell_type": "code",
   "execution_count": 497,
   "metadata": {},
   "outputs": [
    {
     "data": {
      "text/plain": [
       "'fit_time_rf =time.time()\\nrf_tfidf.fit(X_train_sample_str, y_train_sample_trans)\\nfit_time_rf = time.time() - fit_time_rf\\nprint(\"Fit time : \", fit_time)\\n\\npredict_time_rf = time.time()\\npredictions_rf = rf_tfidf.predict(X_test_sample_str)\\npredict_time_rf = time.time() - predict_time_rf\\n\\nmlflow.log_param(\"min_df\", pipeline_tfidf.named_steps[\\'tfidf\\'].min_df)\\nmlflow.log_param(\"max_df\", pipeline_tfidf.named_steps[\\'tfidf\\'].max_df)\\nmlflow.log_metric(\"fit_time\", fit_time)\\nmlflow.sklearn.log_model(rf_tfidf, \"model\")'"
      ]
     },
     "execution_count": 497,
     "metadata": {},
     "output_type": "execute_result"
    }
   ],
   "source": [
    "'''fit_time_rf =time.time()\n",
    "rf_tfidf.fit(X_train_sample_str, y_train_sample_trans)\n",
    "fit_time_rf = time.time() - fit_time_rf\n",
    "print(\"Fit time : \", fit_time)\n",
    "\n",
    "predict_time_rf = time.time()\n",
    "predictions_rf = rf_tfidf.predict(X_test_sample_str)\n",
    "predict_time_rf = time.time() - predict_time_rf\n",
    "\n",
    "mlflow.log_param(\"min_df\", pipeline_tfidf.named_steps['tfidf'].min_df)\n",
    "mlflow.log_param(\"max_df\", pipeline_tfidf.named_steps['tfidf'].max_df)\n",
    "mlflow.log_metric(\"fit_time\", fit_time)\n",
    "mlflow.sklearn.log_model(rf_tfidf, \"model\")'''"
   ]
  },
  {
   "cell_type": "code",
   "execution_count": 498,
   "metadata": {},
   "outputs": [
    {
     "data": {
      "text/plain": [
       "'probabilities = predictions_rf\\n\\n# Utiliser la fonction pour obtenir les tags prédits\\nrf_binary_predictions = select_top_n_tags(probabilities, threshold=0.15, top_n=5)'"
      ]
     },
     "execution_count": 498,
     "metadata": {},
     "output_type": "execute_result"
    }
   ],
   "source": [
    "'''probabilities = predictions_rf\n",
    "\n",
    "# Utiliser la fonction pour obtenir les tags prédits\n",
    "rf_binary_predictions = select_top_n_tags(probabilities, threshold=0.15, top_n=5)'''"
   ]
  },
  {
   "cell_type": "code",
   "execution_count": 499,
   "metadata": {},
   "outputs": [
    {
     "data": {
      "text/plain": [
       "'print(\"Precision:\", precision_score(y_test_sample_trans, rf_binary_predictions, average=\\'samples\\'))\\nprint(\"Recall:\", recall_score(y_test_sample_trans, rf_binary_predictions, average=\\'samples\\'))\\nprint(\"F1 Score:\", f1_score(y_test_sample_trans, rf_binary_predictions, average=\\'samples\\'))\\n#rf_predictions_labels =mlb.inverse_transform(rf_binary_predictions)\\ntags_predicted_to_text(rf_binary_predictions, mlb)\\nprint(y_test_sample[:5])'"
      ]
     },
     "execution_count": 499,
     "metadata": {},
     "output_type": "execute_result"
    }
   ],
   "source": [
    "'''print(\"Precision:\", precision_score(y_test_sample_trans, rf_binary_predictions, average='samples'))\n",
    "print(\"Recall:\", recall_score(y_test_sample_trans, rf_binary_predictions, average='samples'))\n",
    "print(\"F1 Score:\", f1_score(y_test_sample_trans, rf_binary_predictions, average='samples'))\n",
    "#rf_predictions_labels =mlb.inverse_transform(rf_binary_predictions)\n",
    "tags_predicted_to_text(rf_binary_predictions, mlb)\n",
    "print(y_test_sample[:5])'''\n",
    "\n"
   ]
  },
  {
   "cell_type": "code",
   "execution_count": 500,
   "metadata": {},
   "outputs": [
    {
     "data": {
      "text/plain": [
       "'result_rf_tfidf = stocker_results(name=\"rf_Tfidf\",precision_test=precision_score(y_test_sample_trans, rf_binary_predictions,average=\\'samples\\'),\\n                                f1_test=f1_score(y_test_sample_trans, rf_binary_predictions, average=\\'samples\\'),\\n                                recall_test = recall_score(y_test_sample_trans, rf_binary_predictions, average=\\'samples\\'),\\n                                jaccard_test=jaccard_score(y_test_sample_trans, rf_binary_predictions, average=\\'samples\\'),\\n                                fit_time=fit_time_rf, predict_time = predict_time_rf)\\n\\nplot_result(result_rf_tfidf)'"
      ]
     },
     "execution_count": 500,
     "metadata": {},
     "output_type": "execute_result"
    }
   ],
   "source": [
    "'''result_rf_tfidf = stocker_results(name=\"rf_Tfidf\",precision_test=precision_score(y_test_sample_trans, rf_binary_predictions,average='samples'),\n",
    "                                f1_test=f1_score(y_test_sample_trans, rf_binary_predictions, average='samples'),\n",
    "                                recall_test = recall_score(y_test_sample_trans, rf_binary_predictions, average='samples'),\n",
    "                                jaccard_test=jaccard_score(y_test_sample_trans, rf_binary_predictions, average='samples'),\n",
    "                                fit_time=fit_time_rf, predict_time = predict_time_rf)\n",
    "\n",
    "plot_result(result_rf_tfidf)'''\n"
   ]
  },
  {
   "cell_type": "code",
   "execution_count": 501,
   "metadata": {},
   "outputs": [],
   "source": [
    "#mlflow.end_run()"
   ]
  },
  {
   "cell_type": "markdown",
   "metadata": {},
   "source": [
    "## Embedding avec word2Vec"
   ]
  },
  {
   "cell_type": "code",
   "execution_count": 502,
   "metadata": {},
   "outputs": [],
   "source": [
    "mlflow.start_run(run_name=\"Word2Vec\")\n",
    "pipeline_w2v = create_word2vec_pipeline()\n",
    "# Utiliser les chaînes de caractères pour l'ajustement et la transformation\n",
    "X_train_sample_trans_w2v = pipeline_w2v['word2vec'].fit_transform(X_train_sample_str)\n",
    "X_test_sample_trans_w2v = pipeline_w2v['word2vec'].transform(X_test_sample_str)\n",
    "\n",
    "mlb2 = MultiLabelBinarizer()\n",
    "y_train_sample_trans = mlb2.fit_transform(y_train_sample)"
   ]
  },
  {
   "cell_type": "code",
   "execution_count": 503,
   "metadata": {},
   "outputs": [
    {
     "name": "stdout",
     "output_type": "stream",
     "text": [
      "(2000, 600)\n",
      "(400, 600)\n"
     ]
    }
   ],
   "source": [
    "print(X_train_sample_trans_w2v.shape)\n",
    "print(X_test_sample_trans_w2v.shape)"
   ]
  },
  {
   "cell_type": "code",
   "execution_count": 504,
   "metadata": {},
   "outputs": [
    {
     "name": "stderr",
     "output_type": "stream",
     "text": [
      "huggingface/tokenizers: The current process just got forked, after parallelism has already been used. Disabling parallelism to avoid deadlocks...\n",
      "To disable this warning, you can either:\n",
      "\t- Avoid using `tokenizers` before the fork if possible\n",
      "\t- Explicitly set the environment variable TOKENIZERS_PARALLELISM=(true | false)\n",
      "/opt/anaconda3/envs/supervisedP5/lib/python3.8/site-packages/_distutils_hack/__init__.py:11: UserWarning: Distutils was imported before Setuptools, but importing Setuptools also replaces the `distutils` module in `sys.modules`. This may lead to undesirable behaviors or errors. To avoid these issues, avoid using distutils directly, ensure that setuptools is installed in the traditional way (e.g. not an editable install), and/or make sure that setuptools is always imported before distutils.\n",
      "  warnings.warn(\n",
      "/opt/anaconda3/envs/supervisedP5/lib/python3.8/site-packages/_distutils_hack/__init__.py:26: UserWarning: Setuptools is replacing distutils.\n",
      "  warnings.warn(\"Setuptools is replacing distutils.\")\n"
     ]
    },
    {
     "data": {
      "text/plain": [
       "<mlflow.models.model.ModelInfo at 0x7f7afc03a4f0>"
      ]
     },
     "execution_count": 504,
     "metadata": {},
     "output_type": "execute_result"
    }
   ],
   "source": [
    "fit_time =time.time()\n",
    "lr_w2v = pipeline_w2v.named_steps['clf_w2v'].fit(X_train_sample_trans_w2v, y_train_sample_trans)\n",
    "fit_time = time.time() - fit_time\n",
    "\n",
    "\n",
    "predict_time = time.time()\n",
    "predictions_w2v = lr_w2v.predict_proba(X_test_sample_trans_w2v)\n",
    "predict_time = time.time() - predict_time\n",
    "\n",
    "#mlflow.log_param(\"vector_size\", pipeline_w2v.named_steps['word2vec'].vector_size)\n",
    "#mlflow.log_param(\"window\", pipeline_w2v.named_steps['word2vec'].window)\n",
    "mlflow.log_metric(\"fit_time\", fit_time)\n",
    "mlflow.sklearn.log_model(lr_tfidf, \"model\")\n",
    "\n"
   ]
  },
  {
   "cell_type": "code",
   "execution_count": 505,
   "metadata": {},
   "outputs": [
    {
     "data": {
      "text/html": [
       "<div>\n",
       "<style scoped>\n",
       "    .dataframe tbody tr th:only-of-type {\n",
       "        vertical-align: middle;\n",
       "    }\n",
       "\n",
       "    .dataframe tbody tr th {\n",
       "        vertical-align: top;\n",
       "    }\n",
       "\n",
       "    .dataframe thead th {\n",
       "        text-align: right;\n",
       "    }\n",
       "</style>\n",
       "<table border=\"1\" class=\"dataframe\">\n",
       "  <thead>\n",
       "    <tr style=\"text-align: right;\">\n",
       "      <th></th>\n",
       "      <th>Vectorizer</th>\n",
       "      <th>precision Test</th>\n",
       "      <th>recall_test</th>\n",
       "      <th>f1_test</th>\n",
       "      <th>Jaccard Test</th>\n",
       "      <th>Fit Time</th>\n",
       "      <th>predict_time</th>\n",
       "    </tr>\n",
       "  </thead>\n",
       "  <tbody>\n",
       "    <tr>\n",
       "      <th>0</th>\n",
       "      <td>lr_w2v</td>\n",
       "      <td>0.145</td>\n",
       "      <td>0.215917</td>\n",
       "      <td>0.169161</td>\n",
       "      <td>0.097605</td>\n",
       "      <td>40.277039</td>\n",
       "      <td>0.837068</td>\n",
       "    </tr>\n",
       "  </tbody>\n",
       "</table>\n",
       "</div>"
      ],
      "text/plain": [
       "  Vectorizer  precision Test  recall_test   f1_test  Jaccard Test   Fit Time  \\\n",
       "0     lr_w2v           0.145     0.215917  0.169161      0.097605  40.277039   \n",
       "\n",
       "   predict_time  \n",
       "0      0.837068  "
      ]
     },
     "metadata": {},
     "output_type": "display_data"
    },
    {
     "data": {
      "image/png": "[encoded data removed]",
      "text/plain": [
       "<Figure size 600x500 with 1 Axes>"
      ]
     },
     "metadata": {},
     "output_type": "display_data"
    }
   ],
   "source": [
    "probabilities = predictions_w2v\n",
    "\n",
    "# Utiliser la fonction pour obtenir les tags prédits\n",
    "rf_w2v_binary_predictions = select_top_n_tags(probabilities, threshold=0.1, top_n=5)\n",
    "\n",
    "tags_predicted_to_text(rf_w2v_binary_predictions, mlb2)\n",
    "result_lr_w2v = stocker_results(name=\"lr_w2v\",precision_test=precision_score(y_test_sample_trans, rf_w2v_binary_predictions,average='samples'),\n",
    "                                f1_test=f1_score(y_test_sample_trans, rf_w2v_binary_predictions,average='samples'),\n",
    "                                recall_test = recall_score(y_test_sample_trans, rf_w2v_binary_predictions,average='samples'),\n",
    "                                jaccard_test=jaccard_score(y_test_sample_trans, rf_w2v_binary_predictions, average='samples'),\n",
    "                                fit_time=fit_time, predict_time = predict_time)\n",
    "\n",
    "plot_result(result_lr_w2v)"
   ]
  },
  {
   "cell_type": "code",
   "execution_count": 506,
   "metadata": {},
   "outputs": [
    {
     "name": "stdout",
     "output_type": "stream",
     "text": [
      "Precision: 0.145\n",
      "Recall: 0.21591666666666667\n",
      "F1 Score: 0.1691607142857143\n"
     ]
    }
   ],
   "source": [
    "print(\"Precision:\", precision_score(y_test_sample_trans, rf_w2v_binary_predictions, average='samples'))\n",
    "print(\"Recall:\", recall_score(y_test_sample_trans, rf_w2v_binary_predictions, average='samples'))\n",
    "print(\"F1 Score:\", f1_score(y_test_sample_trans, rf_w2v_binary_predictions, average='samples'))"
   ]
  },
  {
   "cell_type": "code",
   "execution_count": 507,
   "metadata": {},
   "outputs": [],
   "source": [
    "mlflow.end_run()"
   ]
  },
  {
   "cell_type": "markdown",
   "metadata": {},
   "source": [
    "### BERT Embedding\n",
    "\n",
    "\"Bidirectional Encoder Representations from Transformers\":  \n",
    "\n",
    "BERT est un modèle de langage bidirectionnel basé sur des transformers, capable de capturer les relations complexes entre les mots en utilisant le contexte gauche-droite et droite-gauche pour générer des embeddings riches en informations pour chaque mot."
   ]
  },
  {
   "cell_type": "code",
   "execution_count": 508,
   "metadata": {},
   "outputs": [
    {
     "data": {
      "text/plain": [
       "'mlflow.start_run(run_name=\"BERT\")\\npipeline_bert = create_bert_pipeline()\\n\\n# Utiliser les chaînes de caractères pour l\\'ajustement et la transformation\\nvec_time =time.time()\\nX_train_sample_trans_bert = pipeline_bert[\\'bert_vectorizer\\'].fit_transform(X_train_sample_str)\\nX_test_sample_trans_bert = pipeline_bert[\\'bert_vectorizer\\'].transform(X_test_sample_str)\\nvec_time = time.time() - vec_time\\nmlflow.log_metric(\"vec_time\", vec_time)\\nmlb3 = MultiLabelBinarizer()\\ny_train_sample_trans = mlb3.fit_transform(y_train_sample) '"
      ]
     },
     "execution_count": 508,
     "metadata": {},
     "output_type": "execute_result"
    }
   ],
   "source": [
    "'''mlflow.start_run(run_name=\"BERT\")\n",
    "pipeline_bert = create_bert_pipeline()\n",
    "\n",
    "# Utiliser les chaînes de caractères pour l'ajustement et la transformation\n",
    "vec_time =time.time()\n",
    "X_train_sample_trans_bert = pipeline_bert['bert_vectorizer'].fit_transform(X_train_sample_str)\n",
    "X_test_sample_trans_bert = pipeline_bert['bert_vectorizer'].transform(X_test_sample_str)\n",
    "vec_time = time.time() - vec_time\n",
    "mlflow.log_metric(\"vec_time\", vec_time)\n",
    "mlb3 = MultiLabelBinarizer()\n",
    "y_train_sample_trans = mlb3.fit_transform(y_train_sample) '''"
   ]
  },
  {
   "cell_type": "code",
   "execution_count": 509,
   "metadata": {},
   "outputs": [
    {
     "data": {
      "text/plain": [
       "'fit_time =time.time()\\nlr_bert = pipeline_bert.named_steps[\\'clf_bert\\'].fit(X_train_sample_trans_bert, y_train_sample_trans)\\nfit_time = time.time() - fit_time\\n\\npredict_time = time.time()\\npredictions_bert = lr_bert.predict_proba(X_test_sample_trans_bert)\\npredict_time = time.time() - predict_time\\n\\nbinary_pred_bert =select_top_n_tags(predictions_bert, threshold=0.1, top_n=5)\\ntags_predicted_to_text(binary_pred_bert, mlb3)\\nprint(\"Precision:\", precision_score(y_test_sample_trans, binary_pred_bert, average=\\'samples\\'))\\nprint(\"Recall:\", recall_score(y_test_sample_trans, binary_pred_bert, average=\\'samples\\'))\\nprint(\"F1 Score:\", f1_score(y_test_sample_trans, binary_pred_bert, average=\\'samples\\'))'"
      ]
     },
     "execution_count": 509,
     "metadata": {},
     "output_type": "execute_result"
    }
   ],
   "source": [
    "'''fit_time =time.time()\n",
    "lr_bert = pipeline_bert.named_steps['clf_bert'].fit(X_train_sample_trans_bert, y_train_sample_trans)\n",
    "fit_time = time.time() - fit_time\n",
    "\n",
    "predict_time = time.time()\n",
    "predictions_bert = lr_bert.predict_proba(X_test_sample_trans_bert)\n",
    "predict_time = time.time() - predict_time\n",
    "\n",
    "binary_pred_bert =select_top_n_tags(predictions_bert, threshold=0.1, top_n=5)\n",
    "tags_predicted_to_text(binary_pred_bert, mlb3)\n",
    "print(\"Precision:\", precision_score(y_test_sample_trans, binary_pred_bert, average='samples'))\n",
    "print(\"Recall:\", recall_score(y_test_sample_trans, binary_pred_bert, average='samples'))\n",
    "print(\"F1 Score:\", f1_score(y_test_sample_trans, binary_pred_bert, average='samples'))'''\n",
    "\n"
   ]
  },
  {
   "cell_type": "code",
   "execution_count": 510,
   "metadata": {},
   "outputs": [
    {
     "data": {
      "text/plain": [
       "'result_lr_bert = stocker_results(name=\"lr_bert\",precision_test=precision_score(y_test_sample_trans, binary_pred_bert,average=\\'samples\\'),\\n                                f1_test=f1_score(y_test_sample_trans, binary_pred_bert,average=\\'samples\\'),\\n                                recall_test = recall_score(y_test_sample_trans, binary_pred_bert,average=\\'samples\\'),\\n                                jaccard_test=jaccard_score(y_test_sample_trans, binary_pred_bert, average=\\'samples\\'),\\n                                fit_time=fit_time, predict_time = predict_time)\\n\\nplot_result(result_lr_bert)\\nmlflow.end_run()'"
      ]
     },
     "execution_count": 510,
     "metadata": {},
     "output_type": "execute_result"
    }
   ],
   "source": [
    "'''result_lr_bert = stocker_results(name=\"lr_bert\",precision_test=precision_score(y_test_sample_trans, binary_pred_bert,average='samples'),\n",
    "                                f1_test=f1_score(y_test_sample_trans, binary_pred_bert,average='samples'),\n",
    "                                recall_test = recall_score(y_test_sample_trans, binary_pred_bert,average='samples'),\n",
    "                                jaccard_test=jaccard_score(y_test_sample_trans, binary_pred_bert, average='samples'),\n",
    "                                fit_time=fit_time, predict_time = predict_time)\n",
    "\n",
    "plot_result(result_lr_bert)\n",
    "mlflow.end_run()'''"
   ]
  },
  {
   "cell_type": "markdown",
   "metadata": {},
   "source": [
    "## USE embbedding"
   ]
  },
  {
   "cell_type": "code",
   "execution_count": 511,
   "metadata": {},
   "outputs": [
    {
     "name": "stderr",
     "output_type": "stream",
     "text": [
      "/opt/anaconda3/envs/supervisedP5/lib/python3.8/site-packages/huggingface_hub/file_download.py:1132: FutureWarning: `resume_download` is deprecated and will be removed in version 1.0.0. Downloads always resume when possible. If you want to force a new download, use `force_download=True`.\n",
      "  warnings.warn(\n"
     ]
    }
   ],
   "source": [
    "mlflow.start_run(run_name=\"USE\")\n",
    "pipeline_use = create_use_pipeline()\n",
    "\n",
    "# Utiliser les chaînes de caractères pour l'ajustement et la transformation\n",
    "vec_time =time.time()\n",
    "X_train_sample_trans_use = pipeline_use['use_vectorizer'].fit_transform(X_train_sample_str)\n",
    "X_test_sample_trans_use = pipeline_use['use_vectorizer'].transform(X_test_sample_str)\n",
    "vec_time = time.time() - vec_time\n",
    "mlflow.log_metric(\"vec_time\", vec_time)\n",
    "mlb4 = MultiLabelBinarizer()\n",
    "y_train_sample_trans = mlb4.fit_transform(y_train_sample)"
   ]
  },
  {
   "cell_type": "code",
   "execution_count": 512,
   "metadata": {},
   "outputs": [
    {
     "name": "stderr",
     "output_type": "stream",
     "text": [
      "/opt/anaconda3/envs/supervisedP5/lib/python3.8/site-packages/sklearn/metrics/_classification.py:1471: UndefinedMetricWarning: Precision is ill-defined and being set to 0.0 in samples with no predicted labels. Use `zero_division` parameter to control this behavior.\n",
      "  _warn_prf(average, modifier, msg_start, len(result))\n"
     ]
    },
    {
     "name": "stdout",
     "output_type": "stream",
     "text": [
      "Precision: 0.65075\n",
      "Recall: 0.375\n",
      "F1 Score: 0.4441607142857143\n"
     ]
    }
   ],
   "source": [
    "fit_time =time.time()\n",
    "lr_use = pipeline_use.named_steps['clf_use'].fit(X_train_sample_trans_use, y_train_sample_trans)\n",
    "fit_time = time.time() - fit_time\n",
    "\n",
    "predict_time = time.time()\n",
    "predictions_use = lr_use.predict_proba(X_test_sample_trans_use)\n",
    "predict_time = time.time() - predict_time\n",
    "\n",
    "\n",
    "binary_pred_use =select_top_n_tags(predictions_use, threshold=0.15, top_n=5)\n",
    "tags_predicted_to_text(binary_pred_use, mlb4)\n",
    "print(\"Precision:\", precision_score(y_test_sample_trans, binary_pred_use, average='samples'))\n",
    "print(\"Recall:\", recall_score(y_test_sample_trans, binary_pred_use, average='samples'))\n",
    "print(\"F1 Score:\", f1_score(y_test_sample_trans, binary_pred_use, average='samples'))"
   ]
  },
  {
   "cell_type": "code",
   "execution_count": 513,
   "metadata": {},
   "outputs": [
    {
     "name": "stderr",
     "output_type": "stream",
     "text": [
      "/opt/anaconda3/envs/supervisedP5/lib/python3.8/site-packages/sklearn/metrics/_classification.py:1471: UndefinedMetricWarning: Precision is ill-defined and being set to 0.0 in samples with no predicted labels. Use `zero_division` parameter to control this behavior.\n",
      "  _warn_prf(average, modifier, msg_start, len(result))\n"
     ]
    },
    {
     "data": {
      "text/html": [
       "<div>\n",
       "<style scoped>\n",
       "    .dataframe tbody tr th:only-of-type {\n",
       "        vertical-align: middle;\n",
       "    }\n",
       "\n",
       "    .dataframe tbody tr th {\n",
       "        vertical-align: top;\n",
       "    }\n",
       "\n",
       "    .dataframe thead th {\n",
       "        text-align: right;\n",
       "    }\n",
       "</style>\n",
       "<table border=\"1\" class=\"dataframe\">\n",
       "  <thead>\n",
       "    <tr style=\"text-align: right;\">\n",
       "      <th></th>\n",
       "      <th>Vectorizer</th>\n",
       "      <th>precision Test</th>\n",
       "      <th>recall_test</th>\n",
       "      <th>f1_test</th>\n",
       "      <th>Jaccard Test</th>\n",
       "      <th>Fit Time</th>\n",
       "      <th>predict_time</th>\n",
       "    </tr>\n",
       "  </thead>\n",
       "  <tbody>\n",
       "    <tr>\n",
       "      <th>0</th>\n",
       "      <td>lr_use</td>\n",
       "      <td>0.65075</td>\n",
       "      <td>0.375</td>\n",
       "      <td>0.444161</td>\n",
       "      <td>0.309596</td>\n",
       "      <td>29.889448</td>\n",
       "      <td>0.769389</td>\n",
       "    </tr>\n",
       "  </tbody>\n",
       "</table>\n",
       "</div>"
      ],
      "text/plain": [
       "  Vectorizer  precision Test  recall_test   f1_test  Jaccard Test   Fit Time  \\\n",
       "0     lr_use         0.65075        0.375  0.444161      0.309596  29.889448   \n",
       "\n",
       "   predict_time  \n",
       "0      0.769389  "
      ]
     },
     "metadata": {},
     "output_type": "display_data"
    },
    {
     "data": {
      "image/png": "[encoded data removed]",
      "text/plain": [
       "<Figure size 600x500 with 1 Axes>"
      ]
     },
     "metadata": {},
     "output_type": "display_data"
    }
   ],
   "source": [
    "result_lr_use = stocker_results(name=\"lr_use\",precision_test=precision_score(y_test_sample_trans, binary_pred_use, average='samples'),\n",
    "                                f1_test=f1_score(y_test_sample_trans, binary_pred_use,average='samples'),\n",
    "                                recall_test = recall_score(y_test_sample_trans, binary_pred_use,average='samples'),\n",
    "                                jaccard_test=jaccard_score(y_test_sample_trans, binary_pred_use, average='samples'),\n",
    "                                fit_time=fit_time, predict_time = predict_time)\n",
    "\n",
    "plot_result(result_lr_use)\n",
    "mlflow.end_run()"
   ]
  },
  {
   "cell_type": "markdown",
   "metadata": {},
   "source": [
    "## Comparaison des différentes modélisation."
   ]
  },
  {
   "cell_type": "code",
   "execution_count": 514,
   "metadata": {},
   "outputs": [
    {
     "data": {
      "text/html": [
       "<div>\n",
       "<style scoped>\n",
       "    .dataframe tbody tr th:only-of-type {\n",
       "        vertical-align: middle;\n",
       "    }\n",
       "\n",
       "    .dataframe tbody tr th {\n",
       "        vertical-align: top;\n",
       "    }\n",
       "\n",
       "    .dataframe thead th {\n",
       "        text-align: right;\n",
       "    }\n",
       "</style>\n",
       "<table border=\"1\" class=\"dataframe\">\n",
       "  <thead>\n",
       "    <tr style=\"text-align: right;\">\n",
       "      <th></th>\n",
       "      <th>Vectorizer</th>\n",
       "      <th>precision Test</th>\n",
       "      <th>recall_test</th>\n",
       "      <th>f1_test</th>\n",
       "      <th>Jaccard Test</th>\n",
       "      <th>Fit Time</th>\n",
       "      <th>predict_time</th>\n",
       "    </tr>\n",
       "  </thead>\n",
       "  <tbody>\n",
       "    <tr>\n",
       "      <th>0</th>\n",
       "      <td>lr_Tfidf</td>\n",
       "      <td>0.596208</td>\n",
       "      <td>0.232667</td>\n",
       "      <td>0.320190</td>\n",
       "      <td>0.218250</td>\n",
       "      <td>22.648387</td>\n",
       "      <td>0.284314</td>\n",
       "    </tr>\n",
       "    <tr>\n",
       "      <th>0</th>\n",
       "      <td>xgb_Tfidf</td>\n",
       "      <td>0.543292</td>\n",
       "      <td>0.261000</td>\n",
       "      <td>0.330300</td>\n",
       "      <td>0.231152</td>\n",
       "      <td>198.919310</td>\n",
       "      <td>0.820870</td>\n",
       "    </tr>\n",
       "    <tr>\n",
       "      <th>0</th>\n",
       "      <td>lr_w2v</td>\n",
       "      <td>0.145000</td>\n",
       "      <td>0.215917</td>\n",
       "      <td>0.169161</td>\n",
       "      <td>0.097605</td>\n",
       "      <td>40.277039</td>\n",
       "      <td>0.837068</td>\n",
       "    </tr>\n",
       "    <tr>\n",
       "      <th>0</th>\n",
       "      <td>lr_use</td>\n",
       "      <td>0.650750</td>\n",
       "      <td>0.375000</td>\n",
       "      <td>0.444161</td>\n",
       "      <td>0.309596</td>\n",
       "      <td>29.889448</td>\n",
       "      <td>0.769389</td>\n",
       "    </tr>\n",
       "  </tbody>\n",
       "</table>\n",
       "</div>"
      ],
      "text/plain": [
       "  Vectorizer  precision Test  recall_test   f1_test  Jaccard Test    Fit Time  \\\n",
       "0   lr_Tfidf        0.596208     0.232667  0.320190      0.218250   22.648387   \n",
       "0  xgb_Tfidf        0.543292     0.261000  0.330300      0.231152  198.919310   \n",
       "0     lr_w2v        0.145000     0.215917  0.169161      0.097605   40.277039   \n",
       "0     lr_use        0.650750     0.375000  0.444161      0.309596   29.889448   \n",
       "\n",
       "   predict_time  \n",
       "0      0.284314  \n",
       "0      0.820870  \n",
       "0      0.837068  \n",
       "0      0.769389  "
      ]
     },
     "metadata": {},
     "output_type": "display_data"
    }
   ],
   "source": [
    "mlflow.start_run(run_name=\"Comparaison\")\n",
    "df =pd.concat([result_lr_tfidf,result_xgb_tfidf, result_lr_w2v,  result_lr_use]) #result_lr_bert,result_rf_tfidf,\n",
    "display(df)\n",
    "df.to_csv(\"Data/df_results.csv\", index=False)\n",
    "mlflow.log_artifact(\"Data/df_results.csv\")"
   ]
  },
  {
   "cell_type": "code",
   "execution_count": 515,
   "metadata": {},
   "outputs": [
    {
     "data": {
      "text/html": [
       "<div>\n",
       "<style scoped>\n",
       "    .dataframe tbody tr th:only-of-type {\n",
       "        vertical-align: middle;\n",
       "    }\n",
       "\n",
       "    .dataframe tbody tr th {\n",
       "        vertical-align: top;\n",
       "    }\n",
       "\n",
       "    .dataframe thead th {\n",
       "        text-align: right;\n",
       "    }\n",
       "</style>\n",
       "<table border=\"1\" class=\"dataframe\">\n",
       "  <thead>\n",
       "    <tr style=\"text-align: right;\">\n",
       "      <th></th>\n",
       "      <th>Vectorizer</th>\n",
       "      <th>precision Test</th>\n",
       "      <th>recall_test</th>\n",
       "      <th>f1_test</th>\n",
       "      <th>Jaccard Test</th>\n",
       "    </tr>\n",
       "  </thead>\n",
       "  <tbody>\n",
       "    <tr>\n",
       "      <th>0</th>\n",
       "      <td>lr_Tfidf</td>\n",
       "      <td>0.596208</td>\n",
       "      <td>0.232667</td>\n",
       "      <td>0.320190</td>\n",
       "      <td>0.218250</td>\n",
       "    </tr>\n",
       "    <tr>\n",
       "      <th>0</th>\n",
       "      <td>xgb_Tfidf</td>\n",
       "      <td>0.543292</td>\n",
       "      <td>0.261000</td>\n",
       "      <td>0.330300</td>\n",
       "      <td>0.231152</td>\n",
       "    </tr>\n",
       "    <tr>\n",
       "      <th>0</th>\n",
       "      <td>lr_w2v</td>\n",
       "      <td>0.145000</td>\n",
       "      <td>0.215917</td>\n",
       "      <td>0.169161</td>\n",
       "      <td>0.097605</td>\n",
       "    </tr>\n",
       "    <tr>\n",
       "      <th>0</th>\n",
       "      <td>lr_use</td>\n",
       "      <td>0.650750</td>\n",
       "      <td>0.375000</td>\n",
       "      <td>0.444161</td>\n",
       "      <td>0.309596</td>\n",
       "    </tr>\n",
       "  </tbody>\n",
       "</table>\n",
       "</div>"
      ],
      "text/plain": [
       "  Vectorizer  precision Test  recall_test   f1_test  Jaccard Test\n",
       "0   lr_Tfidf        0.596208     0.232667  0.320190      0.218250\n",
       "0  xgb_Tfidf        0.543292     0.261000  0.330300      0.231152\n",
       "0     lr_w2v        0.145000     0.215917  0.169161      0.097605\n",
       "0     lr_use        0.650750     0.375000  0.444161      0.309596"
      ]
     },
     "metadata": {},
     "output_type": "display_data"
    },
    {
     "data": {
      "image/png": "[encoded data removed]",
      "text/plain": [
       "<Figure size 700x500 with 1 Axes>"
      ]
     },
     "metadata": {},
     "output_type": "display_data"
    }
   ],
   "source": [
    "all_result = df.loc[:,['Vectorizer', 'precision Test', 'recall_test','f1_test','Jaccard Test']]\n",
    "\n",
    "display(all_result)\n",
    "\n",
    "# Plot\n",
    "width = 0.15  # Largeur des barres\n",
    "fig, ax = plt.subplots(figsize=(7, 5))\n",
    "x = np.arange(len(all_result))  # Emplacements des barres\n",
    "\n",
    "# Plot pour chaque modèle et chaque métrique\n",
    "\n",
    "rects1 = ax.bar(x - width/1, all_result['precision Test'], width, label='precision Test')\n",
    "rects2 = ax.bar(x - width/15, all_result['recall_test'], width, label='recall_test')\n",
    "rects3 = ax.bar(x + width/1, all_result['f1_test'], width, label='f1_test')\n",
    "rects4 = ax.bar(x + width/0.5, all_result['Jaccard Test'], width, label='Jaccard Test')\n",
    "\n",
    "# Ajouter des étiquettes, des titres, etc.\n",
    "ax.set_ylabel('Valeurs')\n",
    "ax.set_xlabel('Modèles')\n",
    "ax.set_title('Scores des modèles')\n",
    "ax.set_xticks(x)\n",
    "ax.set_xticklabels(all_result['Vectorizer'])\n",
    "ax.legend()\n",
    "plt.savefig(\"Data/Comparaison.png\")\n",
    "plt.show()\n",
    "mlflow.log_artifact(\"Data/Comparaison.png\")"
   ]
  },
  {
   "cell_type": "code",
   "execution_count": 516,
   "metadata": {},
   "outputs": [
    {
     "data": {
      "text/html": [
       "<div>\n",
       "<style scoped>\n",
       "    .dataframe tbody tr th:only-of-type {\n",
       "        vertical-align: middle;\n",
       "    }\n",
       "\n",
       "    .dataframe tbody tr th {\n",
       "        vertical-align: top;\n",
       "    }\n",
       "\n",
       "    .dataframe thead th {\n",
       "        text-align: right;\n",
       "    }\n",
       "</style>\n",
       "<table border=\"1\" class=\"dataframe\">\n",
       "  <thead>\n",
       "    <tr style=\"text-align: right;\">\n",
       "      <th></th>\n",
       "      <th>Fit Time</th>\n",
       "      <th>predict_time</th>\n",
       "    </tr>\n",
       "  </thead>\n",
       "  <tbody>\n",
       "    <tr>\n",
       "      <th>0</th>\n",
       "      <td>22.648387</td>\n",
       "      <td>0.284314</td>\n",
       "    </tr>\n",
       "    <tr>\n",
       "      <th>0</th>\n",
       "      <td>198.919310</td>\n",
       "      <td>0.820870</td>\n",
       "    </tr>\n",
       "    <tr>\n",
       "      <th>0</th>\n",
       "      <td>40.277039</td>\n",
       "      <td>0.837068</td>\n",
       "    </tr>\n",
       "    <tr>\n",
       "      <th>0</th>\n",
       "      <td>29.889448</td>\n",
       "      <td>0.769389</td>\n",
       "    </tr>\n",
       "  </tbody>\n",
       "</table>\n",
       "</div>"
      ],
      "text/plain": [
       "     Fit Time  predict_time\n",
       "0   22.648387      0.284314\n",
       "0  198.919310      0.820870\n",
       "0   40.277039      0.837068\n",
       "0   29.889448      0.769389"
      ]
     },
     "metadata": {},
     "output_type": "display_data"
    },
    {
     "data": {
      "image/png": "[encoded data removed]",
      "text/plain": [
       "<Figure size 700x500 with 1 Axes>"
      ]
     },
     "metadata": {},
     "output_type": "display_data"
    }
   ],
   "source": [
    "all_time = df.loc[:,['Fit Time','predict_time']]\n",
    "\n",
    "display(all_time)\n",
    "# Plot\n",
    "width = 0.2  # Largeur des barres\n",
    "fig, ax = plt.subplots(figsize=(7, 5))\n",
    "x = np.arange(len(all_time))  # Emplacements des barres\n",
    "\n",
    "# Plot pour chaque modèle et chaque métrique\n",
    "\n",
    "rects1 = ax.bar(x - width/2, all_time['Fit Time'], width, label='fit time')\n",
    "rects2 = ax.bar(x + width/2, all_time['predict_time'], width, label='predict_time')\n",
    "\n",
    "\n",
    "# Ajouter des étiquettes, des titres, etc.\n",
    "ax.set_ylabel('Valeurs')\n",
    "ax.set_xlabel('time')\n",
    "ax.set_title('temps de fit et predict des modèles')\n",
    "ax.set_xticks(x)\n",
    "ax.set_xticklabels(all_result['Vectorizer'])\n",
    "ax.legend()\n",
    "plt.savefig(\"Data/Comparaison_time.png\")\n",
    "plt.show()\n"
   ]
  },
  {
   "cell_type": "code",
   "execution_count": 517,
   "metadata": {},
   "outputs": [],
   "source": [
    "mlflow.end_run()"
   ]
  },
  {
   "cell_type": "markdown",
   "metadata": {},
   "source": [
    "## Essais: Vectorisation:USE, régréssion logistique "
   ]
  },
  {
   "cell_type": "code",
   "execution_count": 518,
   "metadata": {},
   "outputs": [
    {
     "data": {
      "text/plain": [
       "<ActiveRun: >"
      ]
     },
     "execution_count": 518,
     "metadata": {},
     "output_type": "execute_result"
    }
   ],
   "source": [
    "mlflow.start_run(run_name=\"final_model\")"
   ]
  },
  {
   "cell_type": "code",
   "execution_count": 519,
   "metadata": {},
   "outputs": [
    {
     "name": "stderr",
     "output_type": "stream",
     "text": [
      "/opt/anaconda3/envs/supervisedP5/lib/python3.8/site-packages/sklearn/preprocessing/_label.py:900: UserWarning: unknown class(es) ['abstract-factory', 'access-keys', 'access-synchronization', 'accessibility-api', 'accumulate', 'acrobat', 'action-filter', 'actionfilterattribute', 'actionlink', 'actionsheetpicker', 'activerecord-jdbc', 'activescaffold', 'adobe-illustrator', 'adventure', 'aforge', 'ag-grid-angular', 'aggregation-framework', 'airdrop', 'alexa-skills-kit', 'alfresco', 'alt.net', 'alter-column', 'amazon-ecs', 'analytics.js', 'anchor-cms', 'android-13', 'android-4.0.3-ice-cream-sandwich', 'android-app-links', 'android-application-class', 'android-binding-adapter', 'android-bottomsheetdialog', 'android-deep-link', 'android-gravity', 'android-inputtype', 'android-log', 'android-looper', 'android-picture-in-picture', 'android-side-navigation', 'android-studio-dolphin', 'android-studio-girafee', 'android-threading', 'android-twitter', 'android-update-app', 'angle', 'angular-input', 'angular-ng-class', 'angular-providers', 'angular-router-guards', 'angular-template', 'angular-universal', 'angular12', 'angular2-http', 'angular2-modules', 'angularjs-ng-show', 'angularjs-select2', 'annotate', 'antixsslibrary', 'apache-commons-fileupload', 'apache-mina', 'apache-servicemix', 'api-key', 'api-platform.com', 'apk-signing', 'apollo-server', 'app-transfer', 'appender', 'appharbor', 'application-state', 'application-verifier', 'applicationcontext', 'appointment', 'argumentnullexception', 'arithabort', 'array-intersect', 'arrayindexoutofboundsexception', 'art-runtime', 'ascii-art', 'asp.net-core-localization', 'asp.net-core-tag-helpers', 'aspose', 'aspose.words', 'aspx-user-control', 'assembly-loading', 'assembly-signing', 'asyncdisplaykit', 'asyncfileupload', 'asynchronous-postback', 'atl', 'attr-protected', 'audiotoolbox', 'auto-import', 'auto-indent', 'auto-py-to-exe', 'autocad', 'autogeneratecolumn', 'autorepeat', 'aws-cdk', 'aws-fargate', 'azman', 'azure-ad-graph-api', 'azure-authentication', 'azure-cli', 'azure-diagnostics', 'azure-powershell', 'azure-virtual-machine', 'babel-loader', 'barcode-printing', 'bare-metal', 'base32', 'bcp', 'behavior', 'behavior-tree', 'bidi', 'bin-packing', 'binning', 'bitwise-and', 'biztalk-2013', 'biztalk-deployment', 'blazor-validation', 'blend', 'blockchain', 'bluetooth-service-discovery', 'bookmarks', 'boost-date-time', 'boost-filesystem', 'bootloader', 'bootstrap-grid', 'bootstrap-table', 'bootstrap-tokenfield', 'bootstrap-tour', 'bootstrap-treeview', 'bootstrap-vue', 'botocore', 'bounce', 'braintree', 'brightness', 'broad-phase', 'broadcast', 'broadcom', 'brownie', 'browsable', 'browser-close', 'browser-scrollbars', 'browser-sync', 'buffer-overflow', 'bugfender', 'build-environment', 'buildconfig', 'bulkupdate', 'bulletedlist', 'c-standard-library', 'cache-control', 'cache-expiration', 'cad', 'caemitterlayer', 'cakephp-3.0', 'calculation', 'call-by-value', 'call-hierarchy', 'camera-flash', 'cancellationtokensource', 'capturing-group', 'casperjs', 'cedar', 'chain', 'chalice', 'changelist', 'changelistener', 'character-class', 'chartist.js', 'chatbot', 'checkmarx', 'children', 'chrome-app-developer-tool', 'chrome-gcm', 'chromium-embedded', 'chunking', 'chunks', 'cidr', 'cil', 'circuit-breaker', 'circular-buffer', 'clarity', 'class-attributes', 'class-reference', 'clear-cache', 'clgeocoder', 'clickjacking', 'client-library', 'cloud-foundry', 'cloudflare', 'cloudmade', 'clplacemark', 'cmath', 'cobol', 'code-access-security', 'codeigniter-4', 'codeigniter-restserver', 'coercion', 'coldfusion-9', 'colon-equals', 'color-theory', 'columnsorting', 'columnspan', 'comboboxmodel', 'command-line-parser', 'commonsware-cwac', 'completion-service', 'complextype', 'compositeusertype', 'conan', 'conditional-execution', 'condor', 'connected-components', 'connector-net', 'consistent-hashing', 'constant-expression', 'construction', 'contain', 'convention', 'cookieless', 'copy-elision', 'cordova-2.0.0', 'cordova-3.8.0', 'cordova-plugin-fcm', 'core-image', 'corner-detection', 'cpuid', 'cross-apply', 'crowdsourcing', 'csproj-user', 'cstring', 'ctad', 'custom-object', 'customtool', 'cvi', 'dart-pub', 'dashboard', 'dashcode', 'data-cleaning', 'data-hiding', 'data-transfer', 'dataoutputstream', 'dataprovider', 'datatemplate', 'datetime-select', 'dbnull', 'dbus', 'debian-buster', 'deep-dream', 'default-database', 'deleted-functions', 'descriptor', 'design-time', 'desktop-integration', 'detailsview', 'diamond-operator', 'digital-ocean', 'dir', 'dirty-checking', 'dirty-tracking', 'disable-link', 'discount', 'discoverability', 'disk-access', 'distributed-cache', 'django-1.2', 'django-auth-ldap', 'django-caching', 'django-comments', 'django-crispy-forms', 'django-errors', 'django-file-upload', 'django-uploads', 'dll-injection', 'dllexport', 'docker-push', 'doctest', 'document-management', 'domain-object', 'domaincontroller', 'donut-chart', 'dotnetopenauth', 'double-brace-initialize', 'double-click-advertising', 'double-double-arithmetic', 'doubly-linked-list', 'downloadstring', 'drag', 'drawrectangle', 'drupal-7', 'drupal-modules', 'drupal-themes', 'dtd', 'dust.js', 'dynamic-linq', 'dynamics-crm-2016', 'dynamics-crm-online', 'easyphp', 'eclipse-2021-09', 'eclipse-3.4', 'eclipse-kepler', 'eclipse-memory-analyzer', 'editorjs', 'eeepc', 'ef-core-2.2', 'ekevent', 'email-templates', 'embedded-jetty', 'empty-list', 'emptydatatext', 'end-of-line', 'endpoints-proto-datastore', 'entity-component-system', 'entity-framework-extended', 'enumerators', 'env-file', 'environ', 'eof', 'eofexception', 'equation-solving', 'equivalence-classes', 'erase-remove-idiom', 'eventkit', 'excel-2007', 'excel-formula', 'executors', 'explicit-specialization', 'external-links', 'externalizable', 'facebook-fql', 'facebook-ios-sdk-4.0', 'facebook-pixel', 'facebook-unity-sdk', 'family-tree', 'fastclick.js', 'fatjar', 'fibonacci-heap', 'file-exists', 'file-forks', 'file-location', 'file-management', 'filechannel', 'filechooser', 'fill', 'find-by-sql', 'finder', 'fire-sharp', 'firefox-addon-restartless', 'fitnesse', 'flash-message', 'flashing', 'flask-ask', 'flask-cli', 'flask-marshmallow', 'flask-mysql', 'flatmap', 'flurry', 'flutter-bloc', 'flutter-localizations', 'flying-saucer', 'formatexception', 'formsy-material-ui', 'forum', 'foursquare', 'freemarker', 'freetype', 'fresco', 'friend-function', 'fromcharcode', 'fs', 'function-call-operator', 'function-signature', 'functional-java', 'game-theory', 'ganache', 'ganymede', 'gaussianblur', 'gcmlistenerservice', 'gdlib', 'genealogy', 'generalization', 'generate-scripts', 'generic-constraints', 'gesturedetector', 'gethostbyaddr', 'getlasterror', 'getresponse', 'gettime', 'ggplot2', 'github-api', 'glassfish-3', 'glyph', 'gmsautocomplete', 'gnu-make', 'go-to-definition', 'google-cardboard', 'google-chrome-storage', 'google-client', 'google-cloud-pubsub', 'google-cloud-vertex-ai', 'google-dfp', 'google-drive-realtime-api', 'google-geolocation', 'google-identity-toolkit', 'google-location-services', 'google-maps-android-api-3', 'google-maps-flutter', 'google-photos', 'gradienttape', 'gradle-android-test-plugi', 'graph-databases', 'graph-visualization', 'graphics2d', 'graphing', 'gravity-forms-plugin', 'grid-system', 'grouped-table', 'gui-builder', 'gulp-livereload', 'gulp-watch', 'hadoop-yarn', 'hangfire', 'hash-collision', 'hash-location-strategy', 'hashalgorithm', 'having-clause', 'header-only', 'heaps-algorithm', 'hessian', 'hft', 'hikaricp', 'hit', 'hk2', 'hook-wordpress', 'host', 'hstore', 'html-escape-characters', 'html.hiddenfor', 'html5boilerplate', 'http-proxy', 'http-request-attribute', 'http-request-parameters', 'http-status-code-504', 'http-streaming', 'httpapplication', 'httpd.conf', 'hybridauth', 'hystrix', 'icecast', 'ie8-browser-mode', 'ihttphandler', 'iif-function', 'iis-8.5', 'iis-metabase', 'ilist', 'image-scanner', 'image-stitching', 'image.createimage', 'imageedgeinsets', 'imap', 'implication', 'imshow', 'in-call', 'in-house-distribution', 'inappbrowser', 'inbox', 'incognito-mode', 'incomplete-type', 'indexed', 'indirection', 'infix-notation', 'init', 'inject', 'inlining', 'insert-into', 'integrity', 'intellij-inspections', 'intellitrace', 'inter-process-communicat', 'interface-design', 'intersect', 'intrinsic-content-size', 'inventory', 'iokit', 'ios16', 'ios8-share-extension', 'ios8.3', 'iphone-privateapi', 'iphone-sdk-2', 'ipod', 'iptables', 'ipython-magic', 'iqkeyboardmanager', 'iscroll4', 'iso-3166', 'itemtouchhelper', 'jack-compiler', 'java-17', 'java-io', 'java-record', 'javascript-intellisense', 'jboss-arquillian', 'jboss-portal', 'jboss-wildfly-11', 'jcheckbox', 'jclouds', 'jeditable', 'jetpack-compose-accompanist', 'jetty-8', 'jpm', 'jqlite', 'jquery-2.0', 'jquery-form-validator', 'jquery-gmap3', 'jquery-jtable', 'jquery-select2-3', 'jquery-tools', 'jquery-ui-multiselect', 'jquery-ui-resizable', 'jquery.repeater', 'json-api', 'json-framework', 'json-simple', 'jsonobjectrequest', 'jsonpath', 'jstree', 'kanban', 'kapt', 'kebab-case', 'keyrelease', 'koa', 'kotlin-interop', 'krypton-toolkit', 'laravel-5.8', 'laravel-authorization', 'laravel-migrations', 'laravel-nova', 'laravel-seeding', 'layoutparams', 'learn-ruby-on-rails', 'led', 'libsndfile', 'libusb', 'libusb-1.0', 'line-profiler', 'linearmodels', 'linux-kernel', 'listcollectionview', 'listiterator', 'livechat', 'liveconnect', 'livereload', 'llvm-codegen', 'lnk2019', 'loadview', 'logfiles', 'long-click', 'long-filenames', 'long-polling', 'lotus-domino', 'lucene.net', 'luhn', 'macports', 'makecert', 'mamp-pro', 'map-directions', 'mapbox-android', 'mapped-drive', 'markers', 'marshmallow', 'mashape', 'matlab-deployment', 'maven-assembly-plugin', 'maven-dependency-plugin', 'maven-metadata', 'maven-shade-plugin', 'maven-toolchains-plugin', 'mdm', 'mean', 'mean-square-error', 'mediator', 'mediatr', 'memory-bandwidth', 'memorycache', 'menuitem-selection', 'mern', 'methodinfo', 'mgtwitterengine', 'microsoft-common-controls', 'microsoft-ui-automation', 'migratordotnet', 'minecraft', 'minimagick', 'miui', 'mkmaprect', 'mmppf', 'mnist', 'mobilecoreservices', 'mod-deflate', 'mod-rails', 'modal-window', 'modalpopups', 'modeladmin', 'modelbinders', 'mongorepository', 'mono.cecil', 'mopub', 'mount-point', 'mpvolumeview', 'msbuild-task', 'multi-catch', 'multi-database', 'multi-module', 'multi-table-delete', 'multibyte', 'multiparameter', 'multiple-insert', 'multiple-processes', 'multisite', 'mutability', 'mutation', 'mysql-command-line-client', 'mysql-error', 'mysql-error-1046', 'mysql-error-1093', 'mysql-error-1222', 'mysql-error-2006', 'mysql-error-2013', 'mysqlcommand', 'native-executable', 'natvis', 'navigation-architecture', 'neo4j', 'nerddinner', 'netty', 'networkinfo', 'networkonmainthread', 'newsstand-kit', 'nexus-4', 'ng-bind', 'ng-bootstrap', 'ng-options', 'ngcordova', 'nib', 'nightly-build', 'nine-patch', 'no-data', 'node-fibers', 'node.js-tape', 'noise-reduction', 'non-alphanumeric', 'non-interactive', 'non-printing-characters', 'nonlinear-functions', 'npm-link', 'npm-live-server', 'nsarraycontroller', 'nshttpurlresponse', 'nsparagraphstyle', 'nsprogressindicator', 'nssortdescriptor', 'nsstatusbar', 'nsstatusitem', 'nsthread', 'nstoolbar', 'nstoolbaritem', 'numeric-input', 'numpy-einsum', 'nvm', 'oauth-provider', 'object-initializer', 'object-object-mapping', 'objectanimator', 'objectify', 'objective-c-protocol', 'octave', 'olap', 'oncreateoptionsmenu', 'onedrive', 'onresize', 'onscroll', 'openfeign', 'openinfowindowhtml', 'openjdk-17', 'openlayers', 'openlayers-3', 'opentok', 'opera-dragonfly', 'operand', 'operator-arrow-star', 'ora-00918', 'ora-06502', 'oracle-call-interface', 'orchardcms', 'ord', 'osx-server', 'otl', 'outline', 'outofrangeexception', 'output-redirect', 'output-window', 'package-info', 'packageinspectionfailed', 'packing', 'pandas-explode', 'pandas.excelwriter', 'panoramas', 'paragraph', 'parameter-sniffing', 'pareto-chart', 'pass-by-const-reference', 'passive-view', 'passport-facebook', 'pdb', 'pdf-parsing', 'pdftotext', 'perforce', 'periodicity', 'persistent-connection', 'pessimistic-locking', 'pfx', 'pg-search', 'pg8000', 'pgm', 'phantom-reference', 'phaser', 'photogrammetry', 'php-internals', 'php-shorttags', 'phpdoc', 'piecewise', 'pixi.js', 'pkcs#8', 'pki', 'plasticscm', 'platform-detection', 'plinq', 'plsqldeveloper', 'plural', 'podfile', 'point-of-sale', 'polish-notation', 'polling', 'polymer', 'polymer-1.0', 'portaudio', 'postcss-loader', 'postfix-notation', 'postgresql-8.3', 'pouchdb', 'powerbuilder-conversion', 'ppm', 'prebuild', 'predict', 'prelaunch', 'preloader', 'preserve', 'printstream', 'procedural-generation', 'process.start', 'processbuilder', 'product-variations', 'program-flow', 'program-transformation', 'project.json', 'propagation', 'protorpc', 'push.js', 'py2exe', 'pycocotools', 'pydot', 'pygraphviz', 'pynotify', 'python-black', 'python-docx', 'python-memcached', 'pyyaml', 'qcommandlineparser', 'qt-designer', 'qtdbus', 'quantitative-finance', 'quantlib', 'queryover', 'quine', 'qwerty', 'rails-3-upgrade', 'rails-3.1', 'rails-flash', 'railsapps', 'rake-task', 'ram', 'ratchet-bootstrap', 'rate-limiting', 'rawbytestring', 'react-codemirror2', 'react-functional-component', 'react-ga', 'react-i18next', 'react-native-camera', 'react-native-pdf', 'react-navigation-drawer', 'react-rendering', 'react-table', 'react-table-v7', 'ready', 'realm', 'recurring', 'redhat', 'reference-application', 'registering', 'reindex', 'repeating-linear-gradient', 'request-timed-out', 'rerender', 'resharper-7.1', 'resource-files', 'reverse-iterator', 'reverse-lookup', 'revert', 'rijndael', 'rijndaelmanaged', 'rooted-device', 'rpn', 'rx-kotlin', 'safe-bool-idiom', 'sanitize', 'sap-fiori', 'saucelabs', 'save-image', 'sbjson', 'scons', 'screen-brightness', 'screensaver', 'script-component', 'scroll-lock', 'scroll-paging', 'scrum', 'sdl-2', 'sdlc', 'seaside', 'second-level-cache', 'secure-coding', 'select-query', 'selectall', 'selection-api', 'selectionchanged', 'selenium-webdriver-python', 'self-tracking-entities', 'selflanguage', 'semantic-ui-react', 'sensors', 'sentinel', 'sequelize-cli', 'sequence-generators', 'sequencefile', 'serenity-bdd', 'service-worker-events', 'serving', 'servlet-listeners', 'sfhfkeychainutils', 'shader', 'sharepoint-2013', 'sharepoint-object-model', 'shopify', 'shunting-yard', 'sigmoid', 'signed-url', 'silverlight-5.0', 'simpleadapter', 'simplehttpserver', 'sink-vertex', 'slick2d', 'slickgrid', 'smart-device', 'smart-wizard', 'smartcontracts', 'smoothsort', 'sni', 'sniffing', 'socketio4net', 'socketserver', 'solid-bodies', 'sonarqube-msbuild-runner', 'source-maps', 'spannablestringbuilder', 'spark-streaming', 'spark-submit', 'speaker', 'split-function', 'spring-cloud-config', 'spring-data-jdbc', 'spring-environment', 'spring-mobile', 'spring-test-mvc', 'spring-validator', 'spring-ws', 'spss', 'sql-agent', 'sql-agent-job', 'sql-convert', 'sql-server-administration', 'sql-server-native-client', 'sql-types', 'sqltools', 'sse2', 'ssh-keys', 'sslerrorhandler', 'sslexception', 'sslsocketfactory', 'ssms-2012', 'static-class', 'static-if', 'status', 'stdmutex', 'stocks', 'stopiteration', 'strcat', 'stretch', 'string-function', 'stringcomparer', 'strip-tags', 'structured-logging', 'styleframe', 'sub-array', 'submatrix', 'subnet', 'subreport', 'subsystem', 'subviews', 'sumoselect.js', 'sunspot-rails', 'support-preference', 'svnignore', 'sw-precache', 'swift5', 'switching', 'switchpreference', 'synonym', 'system-design', 'system-sounds', 'system-tables', 'system.io.compression', 'system.io.file', 'tablelayout', 'talend', 'taskstackbuilder', 'templating-engine', 'termcolor', 'ternary-search-tree', 'test-explorer', 'text-based', 'thickbox', 'thinking-sphinx', 'throughput', 'tilde', 'tiles2', 'timelapse', 'timepickerdialog', 'title-case', 'tizen', 'tizen-web-app', 'tnsnames', 'toad', 'touchableopacity', 'touchstart', 'toupper', 'traceroute', 'transliteration', 'transpiler', 'trusted-vs-untrusted', 'tsconfig', 'ttk', 'turing-complete', 'tweets', 'twitter-button', 'typecast-operator', 'typesafe-activator', 'typing', 'udpclient', 'ui-select', 'uiaccessibility', 'uiautomatorviewer', 'uibackgroundtask', 'uicollectionviewflowlayout', 'uicontrol', 'uid', 'uiimagepickercontrollermediatype', 'uikeyinput', 'uistackview', 'uitextposition', 'uitextrange', 'uiwebviewdelegate', 'ultrawebgrid', 'umd', 'undo', 'unirest', 'unit-conversion', 'universal', 'unmanagedresources', 'unrecognized-selector', 'unreliable-connection', 'unsafe-pointers', 'unselect', 'unset', 'urbanairship.com', 'user-roles', 'user-tracking', 'user-variables', 'userinfo', 'usermanager', 'usernotifications', 'usertype', 'utf-16', 'validationattribute', 'validationrules', 'variant', 'viewmodelproviders', 'viewroot', 'viper', 'virtual-keyboard', 'virtual-serial-port', 'vitest', 'volatility', 'vpn', 'vsprops', 'w3c-geolocation', 'wadslogtable', 'wcf-configuration', 'wcf-data-services', 'web-content', 'web-performance', 'web-user-controls', 'web-worker', 'web.config-transform', 'webdav', 'webdriver-manager', 'webpack-3', 'webpack-html-loader', 'webpack-loader', 'websphere-7', 'webusb', 'wicked-pdf', 'windows-firewall-api', 'windows-security', 'winjs', 'wordpress-gutenberg', 'wordpress-thesis-theme', 'work-stealing', 'working-directory', 'worklight-adapters', 'worklight-server', 'workload', 'workspace', 'wp-editor', 'wpf-4.0', 'www-mechanize', 'x-tag', 'x509', 'x86-16', 'xcarchive', 'xcode-organizer', 'xcode11.1', 'xcode14.3', 'xcode6-beta6', 'xcode9.3', 'xerces', 'xhtmlrenderer', 'xliff', 'xml-layout', 'xml-validation', 'xpages', 'xpi', 'xrange', 'xslcompiledtransform', 'xtragrid', 'xulrunner', 'yeoman', 'yii-cactiverecord', 'yii2', 'youtube-channels', 'zappa', 'zend-form', 'zend-http-client', 'zend-mail', 'zend-translate', 'zsh'] will be ignored\n",
      "  warnings.warn(\n"
     ]
    }
   ],
   "source": [
    "# Instanciation de MLB et transformation des labels\n",
    "mlb_final = MultiLabelBinarizer()\n",
    "y_train_trans = mlb_final.fit_transform(y_train)\n",
    "y_test_trans = mlb_final.transform(y_test) "
   ]
  },
  {
   "cell_type": "code",
   "execution_count": 520,
   "metadata": {},
   "outputs": [
    {
     "name": "stderr",
     "output_type": "stream",
     "text": [
      "/opt/anaconda3/envs/supervisedP5/lib/python3.8/site-packages/huggingface_hub/file_download.py:1132: FutureWarning: `resume_download` is deprecated and will be removed in version 1.0.0. Downloads always resume when possible. If you want to force a new download, use `force_download=True`.\n",
      "  warnings.warn(\n"
     ]
    }
   ],
   "source": [
    "pip_reg_log = create_use_pipeline()\n",
    "\n",
    "\n",
    "X_train_str = [' '.join(text) for text in X_train]\n",
    "X_test_str = [' '.join(text) for text in X_test]\n",
    "\n",
    "vec_time =time.time()\n",
    "X_train_trans = pip_reg_log[\"use_vectorizer\"].fit_transform(X_train_str)\n",
    "X_test_trans = pip_reg_log[\"use_vectorizer\"].transform(X_test_str)\n",
    "\n",
    "vec_time = time.time() - vec_time\n"
   ]
  },
  {
   "cell_type": "code",
   "execution_count": null,
   "metadata": {},
   "outputs": [
    {
     "name": "stderr",
     "output_type": "stream",
     "text": [
      "/opt/anaconda3/envs/supervisedP5/lib/python3.8/site-packages/sklearn/multiclass.py:84: UserWarning: Label 0 is present in all training examples.\n",
      "  warnings.warn(\n",
      "/opt/anaconda3/envs/supervisedP5/lib/python3.8/site-packages/sklearn/multiclass.py:84: UserWarning: Label not 3 is present in all training examples.\n",
      "  warnings.warn(\n",
      "/opt/anaconda3/envs/supervisedP5/lib/python3.8/site-packages/sklearn/multiclass.py:84: UserWarning: Label not 5 is present in all training examples.\n",
      "  warnings.warn(\n",
      "/opt/anaconda3/envs/supervisedP5/lib/python3.8/site-packages/sklearn/multiclass.py:84: UserWarning: Label not 7 is present in all training examples.\n",
      "  warnings.warn(\n",
      "/opt/anaconda3/envs/supervisedP5/lib/python3.8/site-packages/sklearn/multiclass.py:84: UserWarning: Label not 9 is present in all training examples.\n",
      "  warnings.warn(\n",
      "/opt/anaconda3/envs/supervisedP5/lib/python3.8/site-packages/sklearn/multiclass.py:84: UserWarning: Label not 11 is present in all training examples.\n",
      "  warnings.warn(\n",
      "/opt/anaconda3/envs/supervisedP5/lib/python3.8/site-packages/sklearn/multiclass.py:84: UserWarning: Label not 12 is present in all training examples.\n",
      "  warnings.warn(\n",
      "/opt/anaconda3/envs/supervisedP5/lib/python3.8/site-packages/sklearn/multiclass.py:84: UserWarning: Label not 13 is present in all training examples.\n",
      "  warnings.warn(\n",
      "/opt/anaconda3/envs/supervisedP5/lib/python3.8/site-packages/sklearn/multiclass.py:84: UserWarning: Label not 14 is present in all training examples.\n",
      "  warnings.warn(\n",
      "/opt/anaconda3/envs/supervisedP5/lib/python3.8/site-packages/sklearn/multiclass.py:84: UserWarning: Label not 16 is present in all training examples.\n",
      "  warnings.warn(\n",
      "/opt/anaconda3/envs/supervisedP5/lib/python3.8/site-packages/sklearn/multiclass.py:84: UserWarning: Label not 21 is present in all training examples.\n",
      "  warnings.warn(\n",
      "/opt/anaconda3/envs/supervisedP5/lib/python3.8/site-packages/sklearn/multiclass.py:84: UserWarning: Label not 22 is present in all training examples.\n",
      "  warnings.warn(\n",
      "/opt/anaconda3/envs/supervisedP5/lib/python3.8/site-packages/sklearn/multiclass.py:84: UserWarning: Label not 23 is present in all training examples.\n",
      "  warnings.warn(\n",
      "/opt/anaconda3/envs/supervisedP5/lib/python3.8/site-packages/sklearn/multiclass.py:84: UserWarning: Label not 25 is present in all training examples.\n",
      "  warnings.warn(\n",
      "/opt/anaconda3/envs/supervisedP5/lib/python3.8/site-packages/sklearn/multiclass.py:84: UserWarning: Label not 26 is present in all training examples.\n",
      "  warnings.warn(\n",
      "/opt/anaconda3/envs/supervisedP5/lib/python3.8/site-packages/sklearn/multiclass.py:84: UserWarning: Label not 27 is present in all training examples.\n",
      "  warnings.warn(\n",
      "/opt/anaconda3/envs/supervisedP5/lib/python3.8/site-packages/sklearn/multiclass.py:84: UserWarning: Label not 28 is present in all training examples.\n",
      "  warnings.warn(\n",
      "/opt/anaconda3/envs/supervisedP5/lib/python3.8/site-packages/sklearn/multiclass.py:84: UserWarning: Label not 29 is present in all training examples.\n",
      "  warnings.warn(\n",
      "/opt/anaconda3/envs/supervisedP5/lib/python3.8/site-packages/sklearn/multiclass.py:84: UserWarning: Label not 30 is present in all training examples.\n",
      "  warnings.warn(\n",
      "/opt/anaconda3/envs/supervisedP5/lib/python3.8/site-packages/sklearn/multiclass.py:84: UserWarning: Label not 31 is present in all training examples.\n",
      "  warnings.warn(\n",
      "/opt/anaconda3/envs/supervisedP5/lib/python3.8/site-packages/sklearn/multiclass.py:84: UserWarning: Label not 32 is present in all training examples.\n",
      "  warnings.warn(\n",
      "/opt/anaconda3/envs/supervisedP5/lib/python3.8/site-packages/sklearn/multiclass.py:84: UserWarning: Label not 33 is present in all training examples.\n",
      "  warnings.warn(\n",
      "/opt/anaconda3/envs/supervisedP5/lib/python3.8/site-packages/sklearn/multiclass.py:84: UserWarning: Label not 34 is present in all training examples.\n",
      "  warnings.warn(\n",
      "/opt/anaconda3/envs/supervisedP5/lib/python3.8/site-packages/sklearn/multiclass.py:84: UserWarning: Label not 35 is present in all training examples.\n",
      "  warnings.warn(\n",
      "/opt/anaconda3/envs/supervisedP5/lib/python3.8/site-packages/sklearn/multiclass.py:84: UserWarning: Label not 36 is present in all training examples.\n",
      "  warnings.warn(\n",
      "/opt/anaconda3/envs/supervisedP5/lib/python3.8/site-packages/sklearn/multiclass.py:84: UserWarning: Label not 37 is present in all training examples.\n",
      "  warnings.warn(\n",
      "/opt/anaconda3/envs/supervisedP5/lib/python3.8/site-packages/sklearn/multiclass.py:84: UserWarning: Label not 38 is present in all training examples.\n",
      "  warnings.warn(\n",
      "/opt/anaconda3/envs/supervisedP5/lib/python3.8/site-packages/sklearn/multiclass.py:84: UserWarning: Label not 39 is present in all training examples.\n",
      "  warnings.warn(\n",
      "/opt/anaconda3/envs/supervisedP5/lib/python3.8/site-packages/sklearn/multiclass.py:84: UserWarning: Label not 40 is present in all training examples.\n",
      "  warnings.warn(\n",
      "/opt/anaconda3/envs/supervisedP5/lib/python3.8/site-packages/sklearn/multiclass.py:84: UserWarning: Label not 41 is present in all training examples.\n",
      "  warnings.warn(\n",
      "/opt/anaconda3/envs/supervisedP5/lib/python3.8/site-packages/sklearn/multiclass.py:84: UserWarning: Label not 42 is present in all training examples.\n",
      "  warnings.warn(\n",
      "/opt/anaconda3/envs/supervisedP5/lib/python3.8/site-packages/sklearn/multiclass.py:84: UserWarning: Label not 43 is present in all training examples.\n",
      "  warnings.warn(\n",
      "/opt/anaconda3/envs/supervisedP5/lib/python3.8/site-packages/sklearn/multiclass.py:84: UserWarning: Label not 44 is present in all training examples.\n",
      "  warnings.warn(\n",
      "/opt/anaconda3/envs/supervisedP5/lib/python3.8/site-packages/sklearn/multiclass.py:84: UserWarning: Label not 45 is present in all training examples.\n",
      "  warnings.warn(\n",
      "/opt/anaconda3/envs/supervisedP5/lib/python3.8/site-packages/sklearn/multiclass.py:84: UserWarning: Label not 46 is present in all training examples.\n",
      "  warnings.warn(\n",
      "/opt/anaconda3/envs/supervisedP5/lib/python3.8/site-packages/sklearn/multiclass.py:84: UserWarning: Label not 47 is present in all training examples.\n",
      "  warnings.warn(\n",
      "/opt/anaconda3/envs/supervisedP5/lib/python3.8/site-packages/sklearn/multiclass.py:84: UserWarning: Label not 48 is present in all training examples.\n",
      "  warnings.warn(\n",
      "/opt/anaconda3/envs/supervisedP5/lib/python3.8/site-packages/sklearn/multiclass.py:84: UserWarning: Label not 50 is present in all training examples.\n",
      "  warnings.warn(\n",
      "/opt/anaconda3/envs/supervisedP5/lib/python3.8/site-packages/sklearn/multiclass.py:84: UserWarning: Label not 51 is present in all training examples.\n",
      "  warnings.warn(\n",
      "/opt/anaconda3/envs/supervisedP5/lib/python3.8/site-packages/sklearn/multiclass.py:84: UserWarning: Label not 52 is present in all training examples.\n",
      "  warnings.warn(\n",
      "/opt/anaconda3/envs/supervisedP5/lib/python3.8/site-packages/sklearn/multiclass.py:84: UserWarning: Label not 53 is present in all training examples.\n",
      "  warnings.warn(\n",
      "/opt/anaconda3/envs/supervisedP5/lib/python3.8/site-packages/sklearn/multiclass.py:84: UserWarning: Label not 54 is present in all training examples.\n",
      "  warnings.warn(\n"
     ]
    }
   ],
   "source": [
    "fit_time =time.time()\n",
    "lr_use_final = pip_reg_log.named_steps['clf_use'].fit(X_test_trans, y_test_trans)\n",
    "fit_time = time.time() - fit_time  \n",
    "\n",
    "predict_time = time.time()\n",
    "binary_final_pred = lr_use_final.predict_proba(X_test_trans)\n",
    "predict_time = time.time() - predict_time\n",
    "\n",
    "mlflow.log_metric(\"vec_time\", vec_time)\n",
    "mlflow.log_metric(\"fit_time\", fit_time)\n",
    "#mlflow.log.metric(\"pred_time\", predict_time)\n"
   ]
  },
  {
   "cell_type": "code",
   "execution_count": null,
   "metadata": {},
   "outputs": [],
   "source": [
    "binary_final_pred = select_top_n_tags(binary_final_pred, threshold=0.2, top_n=7)"
   ]
  },
  {
   "cell_type": "code",
   "execution_count": null,
   "metadata": {},
   "outputs": [
    {
     "name": "stdout",
     "output_type": "stream",
     "text": [
      "Jaccard Score: 0.85\n",
      "Precision: 0.85\n",
      "Recall: 1.0\n",
      "F1 Score: 0.9074074074074074\n"
     ]
    }
   ],
   "source": [
    "# Calcul des scores\n",
    "precision_test = precision_score(y_test_trans, binary_final_pred, average='samples')\n",
    "recall_test = recall_score(y_test_trans, binary_final_pred, average='samples')\n",
    "f1_test = f1_score(y_test_trans, binary_final_pred, average='samples')\n",
    "jaccardScore =jaccard_score(y_test_trans, binary_final_pred, average='samples')\n",
    "print(\"Jaccard Score:\" , jaccardScore)\n",
    "print(\"Precision:\", precision_test)\n",
    "print(\"Recall:\", recall_test)\n",
    "print(\"F1 Score:\", f1_test)\n"
   ]
  },
  {
   "cell_type": "code",
   "execution_count": null,
   "metadata": {},
   "outputs": [],
   "source": [
    "tags_predicted_to_text(binary_final_pred, mlb_final)"
   ]
  },
  {
   "cell_type": "code",
   "execution_count": null,
   "metadata": {},
   "outputs": [
    {
     "data": {
      "text/html": [
       "<div>\n",
       "<style scoped>\n",
       "    .dataframe tbody tr th:only-of-type {\n",
       "        vertical-align: middle;\n",
       "    }\n",
       "\n",
       "    .dataframe tbody tr th {\n",
       "        vertical-align: top;\n",
       "    }\n",
       "\n",
       "    .dataframe thead th {\n",
       "        text-align: right;\n",
       "    }\n",
       "</style>\n",
       "<table border=\"1\" class=\"dataframe\">\n",
       "  <thead>\n",
       "    <tr style=\"text-align: right;\">\n",
       "      <th></th>\n",
       "      <th>Vectorizer</th>\n",
       "      <th>precision Test</th>\n",
       "      <th>recall_test</th>\n",
       "      <th>f1_test</th>\n",
       "      <th>Jaccard Test</th>\n",
       "      <th>Fit Time</th>\n",
       "      <th>predict_time</th>\n",
       "    </tr>\n",
       "  </thead>\n",
       "  <tbody>\n",
       "    <tr>\n",
       "      <th>0</th>\n",
       "      <td>use_lr_final_model</td>\n",
       "      <td>0.85</td>\n",
       "      <td>1.0</td>\n",
       "      <td>0.907407</td>\n",
       "      <td>0.85</td>\n",
       "      <td>0.044513</td>\n",
       "      <td>0.002985</td>\n",
       "    </tr>\n",
       "  </tbody>\n",
       "</table>\n",
       "</div>"
      ],
      "text/plain": [
       "           Vectorizer  precision Test  recall_test   f1_test  Jaccard Test  \\\n",
       "0  use_lr_final_model            0.85          1.0  0.907407          0.85   \n",
       "\n",
       "   Fit Time  predict_time  \n",
       "0  0.044513      0.002985  "
      ]
     },
     "metadata": {},
     "output_type": "display_data"
    },
    {
     "data": {
      "image/png": "[encoded data removed]",
      "text/plain": [
       "<Figure size 600x500 with 1 Axes>"
      ]
     },
     "metadata": {},
     "output_type": "display_data"
    }
   ],
   "source": [
    "result_final_model = stocker_results(name=\"use_lr_final_model\", \n",
    "                                precision_test=precision_score(y_test_trans, binary_final_pred, average='samples'),\n",
    "                                f1_test=f1_score(y_test_trans, binary_final_pred, average='samples'),\n",
    "                                recall_test = recall_score(y_test_trans, binary_final_pred, average='samples'),\n",
    "                                jaccard_test=jaccard_score(y_test_trans, binary_final_pred, average='samples'), \n",
    "                                fit_time=fit_time, predict_time = predict_time)\n",
    "\n",
    "plot_result(result_final_model)\n",
    "mlflow.end_run()"
   ]
  },
  {
   "cell_type": "markdown",
   "metadata": {},
   "source": [
    "# Stabilité du model dans le temps \n"
   ]
  },
  {
   "cell_type": "code",
   "execution_count": null,
   "metadata": {},
   "outputs": [
    {
     "data": {
      "text/html": [
       "<div>\n",
       "<style scoped>\n",
       "    .dataframe tbody tr th:only-of-type {\n",
       "        vertical-align: middle;\n",
       "    }\n",
       "\n",
       "    .dataframe tbody tr th {\n",
       "        vertical-align: top;\n",
       "    }\n",
       "\n",
       "    .dataframe thead th {\n",
       "        text-align: right;\n",
       "    }\n",
       "</style>\n",
       "<table border=\"1\" class=\"dataframe\">\n",
       "  <thead>\n",
       "    <tr style=\"text-align: right;\">\n",
       "      <th></th>\n",
       "      <th>Body</th>\n",
       "      <th>Title</th>\n",
       "      <th>Tags</th>\n",
       "      <th>CreationDate</th>\n",
       "    </tr>\n",
       "  </thead>\n",
       "  <tbody>\n",
       "    <tr>\n",
       "      <th>0</th>\n",
       "      <td>i get stuck i develop mobile application react...</td>\n",
       "      <td>warn send onanimatedvalueupdate listener register</td>\n",
       "      <td>react-native react-navigation react-native-nav...</td>\n",
       "      <td>2023-04-14 06:46:36</td>\n",
       "    </tr>\n",
       "    <tr>\n",
       "      <th>1</th>\n",
       "      <td>for google cloud platform search amp conversat...</td>\n",
       "      <td>when attempt create data store gcps search con...</td>\n",
       "      <td>google-cloud-platform google-cloud-storage goo...</td>\n",
       "      <td>2023-11-28 13:15:55</td>\n",
       "    </tr>\n",
       "    <tr>\n",
       "      <th>2</th>\n",
       "      <td>in cloud firestore documentation seem sum aggr...</td>\n",
       "      <td>be possible run sum aggregation firebase admin...</td>\n",
       "      <td>firebase google-cloud-platform google-cloud-fi...</td>\n",
       "      <td>2023-10-31 13:49:12</td>\n",
       "    </tr>\n",
       "    <tr>\n",
       "      <th>3</th>\n",
       "      <td>i try code iam role programmatically sagemaker...</td>\n",
       "      <td>getexecutionrole sagemaker unknownserviceerror...</td>\n",
       "      <td>python-3.x amazon-iam amazon-sagemaker amazon-...</td>\n",
       "      <td>2023-01-05 19:47:38</td>\n",
       "    </tr>\n",
       "    <tr>\n",
       "      <th>4</th>\n",
       "      <td>i android app write jetpack compose i try set ...</td>\n",
       "      <td>jetpack compose take colorscheme</td>\n",
       "      <td>android material-design android-jetpack-compos...</td>\n",
       "      <td>2023-01-06 16:38:33</td>\n",
       "    </tr>\n",
       "  </tbody>\n",
       "</table>\n",
       "</div>"
      ],
      "text/plain": [
       "                                                Body  \\\n",
       "0  i get stuck i develop mobile application react...   \n",
       "1  for google cloud platform search amp conversat...   \n",
       "2  in cloud firestore documentation seem sum aggr...   \n",
       "3  i try code iam role programmatically sagemaker...   \n",
       "4  i android app write jetpack compose i try set ...   \n",
       "\n",
       "                                               Title  \\\n",
       "0  warn send onanimatedvalueupdate listener register   \n",
       "1  when attempt create data store gcps search con...   \n",
       "2  be possible run sum aggregation firebase admin...   \n",
       "3  getexecutionrole sagemaker unknownserviceerror...   \n",
       "4                   jetpack compose take colorscheme   \n",
       "\n",
       "                                                Tags         CreationDate  \n",
       "0  react-native react-navigation react-native-nav...  2023-04-14 06:46:36  \n",
       "1  google-cloud-platform google-cloud-storage goo...  2023-11-28 13:15:55  \n",
       "2  firebase google-cloud-platform google-cloud-fi...  2023-10-31 13:49:12  \n",
       "3  python-3.x amazon-iam amazon-sagemaker amazon-...  2023-01-05 19:47:38  \n",
       "4  android material-design android-jetpack-compos...  2023-01-06 16:38:33  "
      ]
     },
     "execution_count": 446,
     "metadata": {},
     "output_type": "execute_result"
    }
   ],
   "source": [
    "data_stab = pd.read_csv('Data/df_stab.csv')\n",
    "data_stab.head()"
   ]
  },
  {
   "cell_type": "code",
   "execution_count": null,
   "metadata": {},
   "outputs": [
    {
     "data": {
      "text/html": [
       "<div>\n",
       "<style scoped>\n",
       "    .dataframe tbody tr th:only-of-type {\n",
       "        vertical-align: middle;\n",
       "    }\n",
       "\n",
       "    .dataframe tbody tr th {\n",
       "        vertical-align: top;\n",
       "    }\n",
       "\n",
       "    .dataframe thead th {\n",
       "        text-align: right;\n",
       "    }\n",
       "</style>\n",
       "<table border=\"1\" class=\"dataframe\">\n",
       "  <thead>\n",
       "    <tr style=\"text-align: right;\">\n",
       "      <th></th>\n",
       "      <th>Tags</th>\n",
       "      <th>date</th>\n",
       "      <th>year</th>\n",
       "      <th>month</th>\n",
       "      <th>combined</th>\n",
       "    </tr>\n",
       "  </thead>\n",
       "  <tbody>\n",
       "    <tr>\n",
       "      <th>0</th>\n",
       "      <td>react-native react-navigation react-native-nav...</td>\n",
       "      <td>2023-04-14 06:46:36</td>\n",
       "      <td>2023</td>\n",
       "      <td>4</td>\n",
       "      <td>warn send onanimatedvalueupdate listener regis...</td>\n",
       "    </tr>\n",
       "    <tr>\n",
       "      <th>1</th>\n",
       "      <td>google-cloud-platform google-cloud-storage goo...</td>\n",
       "      <td>2023-11-28 13:15:55</td>\n",
       "      <td>2023</td>\n",
       "      <td>11</td>\n",
       "      <td>when attempt create data store gcps search con...</td>\n",
       "    </tr>\n",
       "    <tr>\n",
       "      <th>2</th>\n",
       "      <td>firebase google-cloud-platform google-cloud-fi...</td>\n",
       "      <td>2023-10-31 13:49:12</td>\n",
       "      <td>2023</td>\n",
       "      <td>10</td>\n",
       "      <td>be possible run sum aggregation firebase admin...</td>\n",
       "    </tr>\n",
       "    <tr>\n",
       "      <th>3</th>\n",
       "      <td>python-3.x amazon-iam amazon-sagemaker amazon-...</td>\n",
       "      <td>2023-01-05 19:47:38</td>\n",
       "      <td>2023</td>\n",
       "      <td>1</td>\n",
       "      <td>getexecutionrole sagemaker unknownserviceerror...</td>\n",
       "    </tr>\n",
       "    <tr>\n",
       "      <th>4</th>\n",
       "      <td>android material-design android-jetpack-compos...</td>\n",
       "      <td>2023-01-06 16:38:33</td>\n",
       "      <td>2023</td>\n",
       "      <td>1</td>\n",
       "      <td>jetpack compose take colorscheme i android app...</td>\n",
       "    </tr>\n",
       "  </tbody>\n",
       "</table>\n",
       "</div>"
      ],
      "text/plain": [
       "                                                Tags                date  \\\n",
       "0  react-native react-navigation react-native-nav... 2023-04-14 06:46:36   \n",
       "1  google-cloud-platform google-cloud-storage goo... 2023-11-28 13:15:55   \n",
       "2  firebase google-cloud-platform google-cloud-fi... 2023-10-31 13:49:12   \n",
       "3  python-3.x amazon-iam amazon-sagemaker amazon-... 2023-01-05 19:47:38   \n",
       "4  android material-design android-jetpack-compos... 2023-01-06 16:38:33   \n",
       "\n",
       "   year  month                                           combined  \n",
       "0  2023      4  warn send onanimatedvalueupdate listener regis...  \n",
       "1  2023     11  when attempt create data store gcps search con...  \n",
       "2  2023     10  be possible run sum aggregation firebase admin...  \n",
       "3  2023      1  getexecutionrole sagemaker unknownserviceerror...  \n",
       "4  2023      1  jetpack compose take colorscheme i android app...  "
      ]
     },
     "metadata": {},
     "output_type": "display_data"
    },
    {
     "name": "stdout",
     "output_type": "stream",
     "text": [
      "(5075, 5)\n"
     ]
    }
   ],
   "source": [
    "data_stab['date'] = pd.to_datetime(data_stab['CreationDate'])\n",
    "data_stab['year'] = data_stab['date'].dt.year\n",
    "data_stab['month'] = data_stab['date'].dt.month\n",
    "data_stab['combined'] = data_stab['Title'] + \" \" + data_stab['Body']\n",
    "data_stab.drop(['CreationDate',\"Title\", 'Body'], axis=1, inplace=True)\n",
    "display(data_stab.head())\n",
    "print(data_stab.shape)\n"
   ]
  },
  {
   "cell_type": "code",
   "execution_count": null,
   "metadata": {},
   "outputs": [
    {
     "name": "stderr",
     "output_type": "stream",
     "text": [
      "/opt/anaconda3/envs/supervisedP5/lib/python3.8/site-packages/huggingface_hub/file_download.py:1132: FutureWarning: `resume_download` is deprecated and will be removed in version 1.0.0. Downloads always resume when possible. If you want to force a new download, use `force_download=True`.\n",
      "  warnings.warn(\n",
      "/opt/anaconda3/envs/supervisedP5/lib/python3.8/site-packages/sklearn/multiclass.py:84: UserWarning: Label 0 is present in all training examples.\n",
      "  warnings.warn(\n",
      "/opt/anaconda3/envs/supervisedP5/lib/python3.8/site-packages/huggingface_hub/file_download.py:1132: FutureWarning: `resume_download` is deprecated and will be removed in version 1.0.0. Downloads always resume when possible. If you want to force a new download, use `force_download=True`.\n",
      "  warnings.warn(\n",
      "/opt/anaconda3/envs/supervisedP5/lib/python3.8/site-packages/sklearn/multiclass.py:84: UserWarning: Label 0 is present in all training examples.\n",
      "  warnings.warn(\n",
      "/opt/anaconda3/envs/supervisedP5/lib/python3.8/site-packages/huggingface_hub/file_download.py:1132: FutureWarning: `resume_download` is deprecated and will be removed in version 1.0.0. Downloads always resume when possible. If you want to force a new download, use `force_download=True`.\n",
      "  warnings.warn(\n",
      "/opt/anaconda3/envs/supervisedP5/lib/python3.8/site-packages/sklearn/multiclass.py:84: UserWarning: Label 0 is present in all training examples.\n",
      "  warnings.warn(\n",
      "/opt/anaconda3/envs/supervisedP5/lib/python3.8/site-packages/huggingface_hub/file_download.py:1132: FutureWarning: `resume_download` is deprecated and will be removed in version 1.0.0. Downloads always resume when possible. If you want to force a new download, use `force_download=True`.\n",
      "  warnings.warn(\n",
      "/opt/anaconda3/envs/supervisedP5/lib/python3.8/site-packages/sklearn/preprocessing/_label.py:900: UserWarning: unknown class(es) ['9'] will be ignored\n",
      "  warnings.warn(\n",
      "/opt/anaconda3/envs/supervisedP5/lib/python3.8/site-packages/sklearn/multiclass.py:84: UserWarning: Label 0 is present in all training examples.\n",
      "  warnings.warn(\n",
      "/opt/anaconda3/envs/supervisedP5/lib/python3.8/site-packages/huggingface_hub/file_download.py:1132: FutureWarning: `resume_download` is deprecated and will be removed in version 1.0.0. Downloads always resume when possible. If you want to force a new download, use `force_download=True`.\n",
      "  warnings.warn(\n",
      "/opt/anaconda3/envs/supervisedP5/lib/python3.8/site-packages/sklearn/preprocessing/_label.py:900: UserWarning: unknown class(es) ['8'] will be ignored\n",
      "  warnings.warn(\n",
      "/opt/anaconda3/envs/supervisedP5/lib/python3.8/site-packages/sklearn/multiclass.py:84: UserWarning: Label 0 is present in all training examples.\n",
      "  warnings.warn(\n",
      "/opt/anaconda3/envs/supervisedP5/lib/python3.8/site-packages/huggingface_hub/file_download.py:1132: FutureWarning: `resume_download` is deprecated and will be removed in version 1.0.0. Downloads always resume when possible. If you want to force a new download, use `force_download=True`.\n",
      "  warnings.warn(\n",
      "/opt/anaconda3/envs/supervisedP5/lib/python3.8/site-packages/sklearn/multiclass.py:84: UserWarning: Label 0 is present in all training examples.\n",
      "  warnings.warn(\n",
      "/opt/anaconda3/envs/supervisedP5/lib/python3.8/site-packages/huggingface_hub/file_download.py:1132: FutureWarning: `resume_download` is deprecated and will be removed in version 1.0.0. Downloads always resume when possible. If you want to force a new download, use `force_download=True`.\n",
      "  warnings.warn(\n",
      "/opt/anaconda3/envs/supervisedP5/lib/python3.8/site-packages/sklearn/multiclass.py:84: UserWarning: Label 0 is present in all training examples.\n",
      "  warnings.warn(\n",
      "/opt/anaconda3/envs/supervisedP5/lib/python3.8/site-packages/huggingface_hub/file_download.py:1132: FutureWarning: `resume_download` is deprecated and will be removed in version 1.0.0. Downloads always resume when possible. If you want to force a new download, use `force_download=True`.\n",
      "  warnings.warn(\n",
      "/opt/anaconda3/envs/supervisedP5/lib/python3.8/site-packages/sklearn/multiclass.py:84: UserWarning: Label 0 is present in all training examples.\n",
      "  warnings.warn(\n",
      "/opt/anaconda3/envs/supervisedP5/lib/python3.8/site-packages/huggingface_hub/file_download.py:1132: FutureWarning: `resume_download` is deprecated and will be removed in version 1.0.0. Downloads always resume when possible. If you want to force a new download, use `force_download=True`.\n",
      "  warnings.warn(\n",
      "/opt/anaconda3/envs/supervisedP5/lib/python3.8/site-packages/sklearn/multiclass.py:84: UserWarning: Label 0 is present in all training examples.\n",
      "  warnings.warn(\n",
      "/opt/anaconda3/envs/supervisedP5/lib/python3.8/site-packages/huggingface_hub/file_download.py:1132: FutureWarning: `resume_download` is deprecated and will be removed in version 1.0.0. Downloads always resume when possible. If you want to force a new download, use `force_download=True`.\n",
      "  warnings.warn(\n",
      "/opt/anaconda3/envs/supervisedP5/lib/python3.8/site-packages/sklearn/multiclass.py:84: UserWarning: Label 0 is present in all training examples.\n",
      "  warnings.warn(\n",
      "/opt/anaconda3/envs/supervisedP5/lib/python3.8/site-packages/huggingface_hub/file_download.py:1132: FutureWarning: `resume_download` is deprecated and will be removed in version 1.0.0. Downloads always resume when possible. If you want to force a new download, use `force_download=True`.\n",
      "  warnings.warn(\n",
      "/opt/anaconda3/envs/supervisedP5/lib/python3.8/site-packages/sklearn/multiclass.py:84: UserWarning: Label 0 is present in all training examples.\n",
      "  warnings.warn(\n",
      "/opt/anaconda3/envs/supervisedP5/lib/python3.8/site-packages/huggingface_hub/file_download.py:1132: FutureWarning: `resume_download` is deprecated and will be removed in version 1.0.0. Downloads always resume when possible. If you want to force a new download, use `force_download=True`.\n",
      "  warnings.warn(\n",
      "/opt/anaconda3/envs/supervisedP5/lib/python3.8/site-packages/sklearn/preprocessing/_label.py:900: UserWarning: unknown class(es) ['4'] will be ignored\n",
      "  warnings.warn(\n"
     ]
    },
    {
     "name": "stdout",
     "output_type": "stream",
     "text": [
      "[[0.9075862068965517, 0.2922449544785707, 0.4382137713324349], [0.9160714285714286, 0.30567569324687305, 0.4536347024826078], [0.8809523809523809, 0.28324238342478475, 0.42533108331889696], [0.8891304347826087, 0.29579932544833604, 0.43967303523807993], [0.9090909090909091, 0.29303464359974707, 0.4394074259596], [0.8843373493975902, 0.28623299752531983, 0.42837644315290524], [0.892307692307692, 0.274349955504177, 0.41610049868940097], [0.9369863013698629, 0.30487704414872474, 0.45476760027113194], [0.8937499999999999, 0.2950450779857444, 0.4393929516579457], [0.8758620689655172, 0.2851686377408036, 0.42638741899908533], [0.8857142857142856, 0.28855545571044555, 0.43147101421989414], [0.8913043478260869, 0.29937158681942644, 0.4437718252337957]]\n"
     ]
    },
    {
     "name": "stderr",
     "output_type": "stream",
     "text": [
      "/opt/anaconda3/envs/supervisedP5/lib/python3.8/site-packages/sklearn/multiclass.py:84: UserWarning: Label 0 is present in all training examples.\n",
      "  warnings.warn(\n"
     ]
    }
   ],
   "source": [
    "from sklearn.model_selection import train_test_split\n",
    "from sklearn.metrics import accuracy_score\n",
    "from sklearn.linear_model import LogisticRegression\n",
    "\n",
    "scores =[]\n",
    "# Pour chaque mois de 2023\n",
    "for month in range(1, 13):\n",
    "    data_month = data_stab[(data_stab['year'] == 2023) & (data_stab['month'] == month)]\n",
    "    \n",
    "    #X = data_month.drop('Tags', axis=1)\n",
    "    y = data_month['Tags']\n",
    "    \n",
    "    X = data_month['combined']\n",
    "\n",
    "    #print(X.shape, y.shape)\n",
    "    pipeline_use_2 = create_use_pipeline()\n",
    "   \n",
    "\n",
    "    X_train_stab, X_test_stab, y_train_stab, y_test_stab = train_test_split(X, y, test_size=0.2, random_state=42)\n",
    "    #print(X_train_stab.shape, X_test_stab.shape, y_train_stab.shape, y_test_stab.shape)\n",
    "\n",
    "    mlb_stab = MultiLabelBinarizer()\n",
    "    y_train_stab_trans= mlb_stab.fit_transform(y_train_stab)\n",
    "    y_test_stab_trans = mlb_stab.transform(y_test_stab)\n",
    "\n",
    "    model = create_use_pipeline()\n",
    "\n",
    "    X_train_str = [' '.join(text) for text in X_train_stab]\n",
    "    X_test_str = [' '.join(text) for text in X_test_stab]\n",
    "\n",
    "    #X_train_stab = pip_reg_log[\"use_vectorizer\"].fit_transform(X_train_str)\n",
    "    #X_test_stab = pip_reg_log[\"use_vectorizer\"].transform(X_test_str)\n",
    "\n",
    "   \n",
    "    X_train_stab_trans = model[\"use_vectorizer\"].fit_transform(X_train_str)\n",
    "    X_test_stab_trans = model[\"use_vectorizer\"].transform(X_test_str)\n",
    "    #print(X_train_stab_trans.shape,  y_train_stab_trans.shape )\n",
    "\n",
    "    stability = model.named_steps['clf_use'].fit(X_train_stab_trans, y_train_stab_trans)\n",
    "    \n",
    "    predictions = model.named_steps['clf_use'].predict_proba(X_test_stab_trans)\n",
    "    binary_pred_use =select_top_n_tags(predictions, threshold=0.15, top_n=5)\n",
    "    #tags_predicted_to_text(binary_pred_use, mlb_stab)\n",
    "    score = [precision_score(y_test_stab_trans, binary_pred_use, average='samples'),\n",
    "    recall_score(y_test_stab_trans, binary_pred_use, average='samples'),\n",
    "    f1_score(y_test_stab_trans, binary_pred_use, average='samples'),\n",
    "    jaccard_score(y_test_sample_trans, binary_pred_use, average='samples')]\n",
    "    # Ajoutez le score à la liste\n",
    "    scores.append(score)\n",
    "    \n",
    "    #print(f\"Score for 2023-{month}: {score}\")\n",
    "print(scores)"
   ]
  },
  {
   "cell_type": "code",
   "execution_count": null,
   "metadata": {},
   "outputs": [
    {
     "name": "stdout",
     "output_type": "stream",
     "text": [
      "    Month  Precision    Recall        F1\n",
      "0       1   0.907586  0.292245  0.438214\n",
      "1       2   0.916071  0.305676  0.453635\n",
      "2       3   0.880952  0.283242  0.425331\n",
      "3       4   0.889130  0.295799  0.439673\n",
      "4       5   0.909091  0.293035  0.439407\n",
      "5       6   0.884337  0.286233  0.428376\n",
      "6       7   0.892308  0.274350  0.416100\n",
      "7       8   0.936986  0.304877  0.454768\n",
      "8       9   0.893750  0.295045  0.439393\n",
      "9      10   0.875862  0.285169  0.426387\n",
      "10     11   0.885714  0.288555  0.431471\n",
      "11     12   0.891304  0.299372  0.443772\n"
     ]
    }
   ],
   "source": [
    "import pandas as pd\n",
    "\n",
    "# Transformez la liste de scores en un DataFrame\n",
    "scores_df = pd.DataFrame(scores, columns=['Precision', 'Recall', 'F1'])\n",
    "\n",
    "# Ajoutez une colonne pour les mois\n",
    "scores_df['Month'] = range(1, 13)\n",
    "\n",
    "# Réorganisez les colonnes\n",
    "scores_df = scores_df[['Month', 'Precision', 'Recall', 'F1']]\n",
    "\n",
    "# Affichez le DataFrame\n",
    "print(scores_df)"
   ]
  },
  {
   "cell_type": "code",
   "execution_count": null,
   "metadata": {},
   "outputs": [
    {
     "data": {
      "image/png": "[encoded data removed]",
      "text/plain": [
       "<Figure size 1000x600 with 1 Axes>"
      ]
     },
     "metadata": {},
     "output_type": "display_data"
    }
   ],
   "source": [
    "import matplotlib.pyplot as plt\n",
    "\n",
    "# Créez un graphique\n",
    "plt.figure(figsize=(10, 6))\n",
    "\n",
    "# Ajoutez une courbe pour chaque métrique\n",
    "for column in ['Precision', 'Recall', 'F1']:\n",
    "    plt.plot(scores_df['Month'], scores_df[column], marker='o', label=column)\n",
    "\n",
    "# Ajoutez des titres et des étiquettes\n",
    "plt.title('Scores de précision, rappel et F1 pour chaque mois de 2023')\n",
    "plt.xlabel('Mois')\n",
    "plt.ylabel('Score')\n",
    "\n",
    "# Ajoutez une légende\n",
    "plt.legend()\n",
    "\n",
    "# Affichez le graphique\n",
    "plt.show()"
   ]
  }
 ],
 "metadata": {
  "kernelspec": {
   "display_name": "Python 3",
   "language": "python",
   "name": "python3"
  },
  "language_info": {
   "codemirror_mode": {
    "name": "ipython",
    "version": 3
   },
   "file_extension": ".py",
   "mimetype": "text/x-python",
   "name": "python",
   "nbconvert_exporter": "python",
   "pygments_lexer": "ipython3",
   "version": "3.8.19"
  }
 },
 "nbformat": 4,
 "nbformat_minor": 2
}
