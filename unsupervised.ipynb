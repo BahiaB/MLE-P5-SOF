{
 "cells": [
  {
   "cell_type": "code",
   "execution_count": 218,
   "metadata": {},
   "outputs": [
    {
     "name": "stderr",
     "output_type": "stream",
     "text": [
      "[nltk_data] Downloading package stopwords to /Users/bahia/nltk_data...\n",
      "[nltk_data]   Package stopwords is already up-to-date!\n"
     ]
    }
   ],
   "source": [
    "import pandas as pd \n",
    "import numpy as np\n",
    "\n",
    "#from sklearn.pipeline import Pipeline\n",
    "#from sklearn.base import BaseEstimator, TransformerMixin\n",
    "import matplotlib.pyplot as plt\n",
    "#import gensim\n",
    "#import torch\n",
    "#from sklearn.manifold import TSNE\n",
    "import seaborn as sns\n",
    "import pyLDAvis\n",
    "import pyLDAvis.lda_model\n",
    "from gensim.models import LdaModel\n",
    "from gensim.corpora import Dictionary\n",
    "from gensim.models.coherencemodel import CoherenceModel\n",
    "\n",
    "from gensim import corpora\n",
    "import nltk\n",
    "nltk.download('stopwords')\n",
    "from nltk.corpus import stopwords\n",
    "from nltk.tokenize import word_tokenize\n",
    "from sklearn.model_selection import train_test_split\n",
    "import re\n",
    "\n",
    "import time"
   ]
  },
  {
   "cell_type": "markdown",
   "metadata": {},
   "source": [
    "### Metrique d'évaluation utilisé\n",
    "  \n",
    "  \n",
    "Perplexity : La perplexité est une mesure de la qualité du modèle. Une perplexité plus faible indique un meilleur modèle. Vous pouvez obtenir ce score en utilisant la méthode perplexity.  \n",
    "  \n",
    "Coherence Score : Le score de cohérence mesure la cohérence sémantique des sujets générés par le modèle LDA. Un score de cohérence plus élevé indique que les mots les plus importants d'un sujet sont plus sémantiquement similaires les uns aux autres. Le score de cohérence n'est pas directement disponible dans scikit-learn, mais peut être calculé en utilisant la bibliothèque Gensim.\n",
    "  \n",
    "### LDA.  \n",
    "L'Analyse de la Répartition Latente de Dirichlet (LDA) est une technique de modélisation de sujets qui est largement utilisée en traitement du langage naturel. Elle permet de découvrir les sujets cachés dans un ensemble de documents en attribuant des distributions de probabilité à la fois aux documents (sur les sujets) et aux sujets (sur les mots), ce qui permet d'obtenir une représentation non supervisée et interprétable des données textuelles.\n",
    "\n"
   ]
  },
  {
   "cell_type": "markdown",
   "metadata": {},
   "source": [
    "### Lda avec gensim"
   ]
  },
  {
   "cell_type": "code",
   "execution_count": 219,
   "metadata": {},
   "outputs": [],
   "source": [
    "# Classe de prétraitement\n",
    "class GensimPreprocessor:\n",
    "    def __init__(self, stop_words=stopwords.words('english')):\n",
    "        self.stop_words = stop_words\n",
    "        \n",
    "    def tokenize(self, text):\n",
    "        return [word for word in word_tokenize(text.lower()) if word.isalpha()]\n",
    "    \n",
    "    def remove_stopwords(self, tokens):\n",
    "        return [word for word in tokens if word not in self.stop_words]\n",
    "    \n",
    "    def preprocess(self, documents):\n",
    "        preprocessed = []\n",
    "        for document in documents:\n",
    "            tokens = self.tokenize(document)\n",
    "            tokens = self.remove_stopwords(tokens)\n",
    "            preprocessed.append(tokens)\n",
    "        return preprocessed\n"
   ]
  },
  {
   "cell_type": "code",
   "execution_count": 220,
   "metadata": {},
   "outputs": [
    {
     "data": {
      "text/plain": [
       "'def visualize_topics(document_topics, dim_names, document_topics_max):\\n    # Appliquer t-SNE aux sujets\\n    tsne_model = TSNE(n_components=2, random_state=0)\\n    tsne_topics = tsne_model.fit_transform(document_topics)\\n\\n    # Créer un DataFrame avec les résultats t-SNE et les sujets\\n    df_tsne = pd.DataFrame(data=tsne_topics, columns=dim_names)\\n    df_tsne[\\'Topic\\'] = document_topics_max\\n\\n    # Créer un graphique de dispersion des sujets avec Seaborn\\n    plt.figure(figsize=(5, 5))\\n    sns.scatterplot(x=dim_names[0], y=dim_names[1], hue=\"Topic\", palette=\"deep\", data=df_tsne)\\n    plt.show()'"
      ]
     },
     "execution_count": 220,
     "metadata": {},
     "output_type": "execute_result"
    }
   ],
   "source": [
    "'''def visualize_topics(document_topics, dim_names, document_topics_max):\n",
    "    # Appliquer t-SNE aux sujets\n",
    "    tsne_model = TSNE(n_components=2, random_state=0)\n",
    "    tsne_topics = tsne_model.fit_transform(document_topics)\n",
    "\n",
    "    # Créer un DataFrame avec les résultats t-SNE et les sujets\n",
    "    df_tsne = pd.DataFrame(data=tsne_topics, columns=dim_names)\n",
    "    df_tsne['Topic'] = document_topics_max\n",
    "\n",
    "    # Créer un graphique de dispersion des sujets avec Seaborn\n",
    "    plt.figure(figsize=(5, 5))\n",
    "    sns.scatterplot(x=dim_names[0], y=dim_names[1], hue=\"Topic\", palette=\"deep\", data=df_tsne)\n",
    "    plt.show()'''"
   ]
  },
  {
   "cell_type": "code",
   "execution_count": 221,
   "metadata": {},
   "outputs": [
    {
     "data": {
      "text/plain": [
       "\"def stocker_results(name = str,loglikhood_train=None, perplexity_train=None, loglikhood_test=None, perplexity_test=None, fit_time=None, transform_time=None):\\n    # Enregistrer les résultats dans un DataFrame\\n    results = pd.DataFrame({'Vectorizer': [name], 'Log Likelihood_train': [loglikhood_train], 'Perplexity_train': [perplexity_train], \\n    'Log Likelihood Test': [loglikhood_test], 'Perplexity Test': [perplexity_test], 'Fit Time': [fit_time]})\\n    display(results)\\n    return results\""
      ]
     },
     "execution_count": 221,
     "metadata": {},
     "output_type": "execute_result"
    }
   ],
   "source": [
    "'''def stocker_results(name = str,loglikhood_train=None, perplexity_train=None, loglikhood_test=None, perplexity_test=None, fit_time=None, transform_time=None):\n",
    "    # Enregistrer les résultats dans un DataFrame\n",
    "    results = pd.DataFrame({'Vectorizer': [name], 'Log Likelihood_train': [loglikhood_train], 'Perplexity_train': [perplexity_train], \n",
    "    'Log Likelihood Test': [loglikhood_test], 'Perplexity Test': [perplexity_test], 'Fit Time': [fit_time]})\n",
    "    display(results)\n",
    "    return results'''\n"
   ]
  },
  {
   "cell_type": "code",
   "execution_count": 222,
   "metadata": {},
   "outputs": [
    {
     "data": {
      "text/html": [
       "<div>\n",
       "<style scoped>\n",
       "    .dataframe tbody tr th:only-of-type {\n",
       "        vertical-align: middle;\n",
       "    }\n",
       "\n",
       "    .dataframe tbody tr th {\n",
       "        vertical-align: top;\n",
       "    }\n",
       "\n",
       "    .dataframe thead th {\n",
       "        text-align: right;\n",
       "    }\n",
       "</style>\n",
       "<table border=\"1\" class=\"dataframe\">\n",
       "  <thead>\n",
       "    <tr style=\"text-align: right;\">\n",
       "      <th></th>\n",
       "      <th>Title</th>\n",
       "      <th>Body</th>\n",
       "      <th>Tags</th>\n",
       "      <th>Body_word_count</th>\n",
       "      <th>combined</th>\n",
       "    </tr>\n",
       "  </thead>\n",
       "  <tbody>\n",
       "    <tr>\n",
       "      <th>0</th>\n",
       "      <td>android jetpack navigation bottomnavigationvie...</td>\n",
       "      <td>android jetpack navigation bottomnavigationvie...</td>\n",
       "      <td>android android-architecture-components bottom...</td>\n",
       "      <td>131</td>\n",
       "      <td>android jetpack navigation bottomnavigationvie...</td>\n",
       "    </tr>\n",
       "  </tbody>\n",
       "</table>\n",
       "</div>"
      ],
      "text/plain": [
       "                                               Title  \\\n",
       "0  android jetpack navigation bottomnavigationvie...   \n",
       "\n",
       "                                                Body  \\\n",
       "0  android jetpack navigation bottomnavigationvie...   \n",
       "\n",
       "                                                Tags  Body_word_count  \\\n",
       "0  android android-architecture-components bottom...              131   \n",
       "\n",
       "                                            combined  \n",
       "0  android jetpack navigation bottomnavigationvie...  "
      ]
     },
     "metadata": {},
     "output_type": "display_data"
    },
    {
     "data": {
      "text/html": [
       "<div>\n",
       "<style scoped>\n",
       "    .dataframe tbody tr th:only-of-type {\n",
       "        vertical-align: middle;\n",
       "    }\n",
       "\n",
       "    .dataframe tbody tr th {\n",
       "        vertical-align: top;\n",
       "    }\n",
       "\n",
       "    .dataframe thead th {\n",
       "        text-align: right;\n",
       "    }\n",
       "</style>\n",
       "<table border=\"1\" class=\"dataframe\">\n",
       "  <thead>\n",
       "    <tr style=\"text-align: right;\">\n",
       "      <th></th>\n",
       "      <th>Title</th>\n",
       "      <th>Body</th>\n",
       "      <th>Tags</th>\n",
       "      <th>Body_word_count</th>\n",
       "      <th>combined</th>\n",
       "    </tr>\n",
       "  </thead>\n",
       "  <tbody>\n",
       "    <tr>\n",
       "      <th>0</th>\n",
       "      <td>android jetpack navigation bottomnavigationvie...</td>\n",
       "      <td>android jetpack navigation bottomnavigationvie...</td>\n",
       "      <td>[android, android-architecture-components, bot...</td>\n",
       "      <td>131</td>\n",
       "      <td>android jetpack navigation bottomnavigationvie...</td>\n",
       "    </tr>\n",
       "  </tbody>\n",
       "</table>\n",
       "</div>"
      ],
      "text/plain": [
       "                                               Title  \\\n",
       "0  android jetpack navigation bottomnavigationvie...   \n",
       "\n",
       "                                                Body  \\\n",
       "0  android jetpack navigation bottomnavigationvie...   \n",
       "\n",
       "                                                Tags  Body_word_count  \\\n",
       "0  [android, android-architecture-components, bot...              131   \n",
       "\n",
       "                                            combined  \n",
       "0  android jetpack navigation bottomnavigationvie...  "
      ]
     },
     "metadata": {},
     "output_type": "display_data"
    }
   ],
   "source": [
    "data = pd.read_csv('Data/df_tags_filtered.csv')\n",
    "data['combined'] = data['Title'] + \" \" + data['Body']\n",
    "\n",
    "display(data[:1])\n",
    "\n",
    "def words_tokenize(text):\n",
    "  text = text.split()\n",
    "  return text\n",
    "\n",
    "#data['Body'] = data.Body.apply(lambda text: words_tokenize(text))\n",
    "#data['Title'] = data.Title.apply(lambda text: words_tokenize(text))\n",
    "data['Tags'] = data.Tags.apply(lambda text: words_tokenize(text))\n",
    "display(data[:1])"
   ]
  },
  {
   "cell_type": "code",
   "execution_count": 223,
   "metadata": {},
   "outputs": [
    {
     "data": {
      "text/plain": [
       "0    android jetpack navigation bottomnavigationvie...\n",
       "Name: combined, dtype: object"
      ]
     },
     "metadata": {},
     "output_type": "display_data"
    },
    {
     "name": "stdout",
     "output_type": "stream",
     "text": [
      "X_train shape: (80,)\n",
      "X_test shape: (20,)\n",
      "y_train shape: (80,)\n",
      "y_test shape: (20,)\n"
     ]
    }
   ],
   "source": [
    "X = data['combined'][:100]\n",
    "y = data['Tags'][:100]\n",
    "\n",
    "df = pd.DataFrame(data)\n",
    "'''def merge_and_keep_first_occurrence(row):\n",
    "    merged = row['Title'] + row['Body']\n",
    "    return list(dict.fromkeys(merged))\n",
    "'''\n",
    "display(X[:1])\n",
    "\n",
    "X_train, X_test, y_train, y_test = train_test_split(X,y,\n",
    "    test_size=0.2,\n",
    "    random_state=42\n",
    ")\n",
    "\n",
    "print(\"X_train shape:\", X_train.shape)\n",
    "print(\"X_test shape:\", X_test.shape)\n",
    "print(\"y_train shape:\", y_train.shape)\n",
    "print(\"y_test shape:\", y_test.shape)\n"
   ]
  },
  {
   "cell_type": "markdown",
   "metadata": {},
   "source": [
    "## Test avec LDA Gensim"
   ]
  },
  {
   "cell_type": "markdown",
   "metadata": {},
   "source": [
    "train set"
   ]
  },
  {
   "cell_type": "code",
   "execution_count": 225,
   "metadata": {},
   "outputs": [
    {
     "data": {
      "text/plain": [
       "0     android jetpack navigation bottomnavigationvie...\n",
       "1     jetpack compose button drawable achieve jetpac...\n",
       "2     topappbar flash navigate compose navigation sc...\n",
       "3     how create recycler view compose jetpack speci...\n",
       "4     how navhostfragment integrate android navigati...\n",
       "                            ...                        \n",
       "95    android m camera intent permission bug app rea...\n",
       "96    jetpack compose collapse toolbar cant find doc...\n",
       "97    android get resourcesnotfoundexception abcicab...\n",
       "98    how clear navigation stack navigate another fr...\n",
       "99    entity framework core addmigration create migr...\n",
       "Name: combined, Length: 100, dtype: object"
      ]
     },
     "metadata": {},
     "output_type": "display_data"
    },
    {
     "name": "stdout",
     "output_type": "stream",
     "text": [
      "(100,)\n"
     ]
    },
    {
     "ename": "AttributeError",
     "evalue": "'GensimLDA' object has no attribute 'get_topics'",
     "output_type": "error",
     "traceback": [
      "\u001b[0;31m---------------------------------------------------------------------------\u001b[0m",
      "\u001b[0;31mAttributeError\u001b[0m                            Traceback (most recent call last)",
      "Cell \u001b[0;32mIn[225], line 12\u001b[0m\n\u001b[1;32m     10\u001b[0m coherence_score \u001b[38;5;241m=\u001b[39m lda\u001b[38;5;241m.\u001b[39mget_coherence(preprocessed_documents)\n\u001b[1;32m     11\u001b[0m corpus \u001b[38;5;241m=\u001b[39m [lda\u001b[38;5;241m.\u001b[39mdictionary\u001b[38;5;241m.\u001b[39mdoc2bow(text) \u001b[38;5;28;01mfor\u001b[39;00m text \u001b[38;5;129;01min\u001b[39;00m preprocessed_documents]\n\u001b[0;32m---> 12\u001b[0m test_documents_topics \u001b[38;5;241m=\u001b[39m [lda\u001b[38;5;241m.\u001b[39mget_topics(bow) \u001b[38;5;28;01mfor\u001b[39;00m bow \u001b[38;5;129;01min\u001b[39;00m corpus]\n\u001b[1;32m     14\u001b[0m \u001b[38;5;28mprint\u001b[39m(\u001b[38;5;124m\"\u001b[39m\u001b[38;5;124mcoherence score =\u001b[39m\u001b[38;5;124m\"\u001b[39m,coherence_score)\n",
      "Cell \u001b[0;32mIn[225], line 12\u001b[0m, in \u001b[0;36m<listcomp>\u001b[0;34m(.0)\u001b[0m\n\u001b[1;32m     10\u001b[0m coherence_score \u001b[38;5;241m=\u001b[39m lda\u001b[38;5;241m.\u001b[39mget_coherence(preprocessed_documents)\n\u001b[1;32m     11\u001b[0m corpus \u001b[38;5;241m=\u001b[39m [lda\u001b[38;5;241m.\u001b[39mdictionary\u001b[38;5;241m.\u001b[39mdoc2bow(text) \u001b[38;5;28;01mfor\u001b[39;00m text \u001b[38;5;129;01min\u001b[39;00m preprocessed_documents]\n\u001b[0;32m---> 12\u001b[0m test_documents_topics \u001b[38;5;241m=\u001b[39m [\u001b[43mlda\u001b[49m\u001b[38;5;241;43m.\u001b[39;49m\u001b[43mget_topics\u001b[49m(bow) \u001b[38;5;28;01mfor\u001b[39;00m bow \u001b[38;5;129;01min\u001b[39;00m corpus]\n\u001b[1;32m     14\u001b[0m \u001b[38;5;28mprint\u001b[39m(\u001b[38;5;124m\"\u001b[39m\u001b[38;5;124mcoherence score =\u001b[39m\u001b[38;5;124m\"\u001b[39m,coherence_score)\n",
      "\u001b[0;31mAttributeError\u001b[0m: 'GensimLDA' object has no attribute 'get_topics'"
     ]
    }
   ],
   "source": [
    "#documents = X_fulltrain['Body']\n",
    "documents =  X#_train\n",
    "display(documents)\n",
    "print(documents.shape)\n",
    "preprocessor = GensimPreprocessor()\n",
    "preprocessed_documents = preprocessor.preprocess(documents)\n",
    "lda = GensimLDA(num_topics=6, passes=10)\n",
    "lda.fit(preprocessed_documents)\n",
    "\n",
    "coherence_score = lda.get_coherence(preprocessed_documents)\n",
    "corpus = [lda.dictionary.doc2bow(text) for text in preprocessed_documents]\n",
    "test_documents_topics = [lda.get_topics(bow) for bow in corpus]\n",
    "\n",
    "print(\"coherence score =\",coherence_score)"
   ]
  },
  {
   "cell_type": "markdown",
   "metadata": {},
   "source": [
    "Test set"
   ]
  },
  {
   "cell_type": "code",
   "execution_count": null,
   "metadata": {},
   "outputs": [
    {
     "name": "stdout",
     "output_type": "stream",
     "text": [
      "Score de cohérence sur le set de test: nan\n"
     ]
    },
    {
     "name": "stderr",
     "output_type": "stream",
     "text": [
      "/Users/bahia/opt/anaconda3/lib/python3.9/site-packages/gensim/topic_coherence/direct_confirmation_measure.py:204: RuntimeWarning: divide by zero encountered in scalar divide\n",
      "  m_lr_i = np.log(numerator / denominator)\n",
      "/Users/bahia/opt/anaconda3/lib/python3.9/site-packages/gensim/topic_coherence/indirect_confirmation_measure.py:323: RuntimeWarning: invalid value encountered in scalar divide\n",
      "  return cv1.T.dot(cv2)[0, 0] / (_magnitude(cv1) * _magnitude(cv2))\n"
     ]
    }
   ],
   "source": [
    "#documents = X_test\n",
    "'''print(documents.shape)\n",
    "#preprocessor = GensimPreprocessor()\n",
    "preprocessed_test_documents = preprocessor.preprocess(X_test)\n",
    "print(X_test.shape)\n",
    "# Supposons que `dictionary` est votre dictionnaire Gensim créé pendant l'entraînement\n",
    "test_corpus = [lda.dictionary.doc2bow(doc) for doc in preprocessed_test_documents]\n",
    "\n",
    "# Supposons que `lda_model` est votre modèle LDA Gensim entraîné\n",
    "test_documents_topics = [lda.model.get_document_topics(bow) for bow in test_corpus]'''\n",
    "test_documents_topics = [lda.get_document_topics(bow) for bow in corpus]\n",
    "most_probable_topics = [max(doc, key=lambda x: x[1])[0] for doc in test_documents_topics]\n",
    "# Calcul du score de cohérence sur le set de test\n",
    "#coherence_model_test = CoherenceModel(model=lda.model, texts=preprocessed_test_documents, dictionary=lda.dictionary, coherence='c_v')\n",
    "coherence_score_test = lda.get_coherence(preprocessed_test_documents)\n",
    "print(f\"Score de cohérence sur le set de test: {coherence_score_test}\")\n",
    "\n"
   ]
  },
  {
   "cell_type": "code",
   "execution_count": null,
   "metadata": {},
   "outputs": [],
   "source": [
    "test_documents_topics = lda.model.get_document_topics(test_corpus, minimum_probability=0.0)\n",
    "documents_topics_count_vec = np.array([[prob for _, prob in doc_topics] for doc_topics in test_documents_topics])\n",
    "document_topics_max = np.argmax(documents_topics_count_vec, axis=1)"
   ]
  },
  {
   "cell_type": "code",
   "execution_count": null,
   "metadata": {},
   "outputs": [
    {
     "data": {
      "text/html": [
       "\n",
       "<link rel=\"stylesheet\" type=\"text/css\" href=\"https://cdn.jsdelivr.net/gh/bmabey/pyLDAvis@3.4.0/pyLDAvis/js/ldavis.v1.0.0.css\">\n",
       "\n",
       "\n",
       "<div id=\"ldavis_el13711404143625685123750317230\" style=\"background-color:white;\"></div>\n",
       "<script type=\"text/javascript\">\n",
       "\n",
       "var ldavis_el13711404143625685123750317230_data = {\"mdsDat\": {\"x\": [-0.07702692123782884, 0.050689118682421236, -0.13225088041186303, 0.11712179697380164, 0.05034150471537106, -0.008874618721902084], \"y\": [-0.046698126958197285, -0.1274396260765123, 0.057534767380793925, 0.1019800907098916, -0.022671288832389738, 0.037294183776413886], \"topics\": [1, 2, 3, 4, 5, 6], \"cluster\": [1, 1, 1, 1, 1, 1], \"Freq\": [28.557623407300348, 24.014333274730312, 18.481461888384658, 14.160024090787502, 11.620936980624947, 3.165620358172236]}, \"tinfo\": {\"Term\": [\"androidlayoutwidthmatchparent\", \"scroll\", \"android\", \"modifier\", \"compose\", \"fragment\", \"comappdebug\", \"private\", \"eresolveractivity\", \"androidlayoutheightwrapcontent\", \"androidlayoutheightmatchparent\", \"problem\", \"dfragmentmanager\", \"recyclerview\", \"jetpack\", \"method\", \"color\", \"void\", \"unit\", \"menu\", \"class\", \"logdtest\", \"androidfitssystemwindowstrue\", \"androidlayoutwidthwrapcontent\", \"design\", \"work\", \"locationrequest\", \"find\", \"menufragment\", \"image\", \"logdtest\", \"menufragment\", \"container\", \"savedinstancestate\", \"private\", \"vertical\", \"complexity\", \"idatadelete\", \"comment\", \"somecustomdata\", \"isconnected\", \"recreate\", \"tabmenuadapter\", \"blink\", \"networkstatereceiver\", \"lazycolumn\", \"viewgroup\", \"column\", \"navoptions\", \"program\", \"resolve\", \"dialognew\", \"dataloading\", \"loaddata\", \"intentfilterfornetwork\", \"datareloaditeration\", \"setupinoncreateview\", \"tablayout\", \"attrs\", \"iscreated\", \"interface\", \"recyclerview\", \"extends\", \"void\", \"class\", \"protect\", \"bundle\", \"textinputlayout\", \"model\", \"override\", \"item\", \"runnable\", \"layout\", \"fragment\", \"return\", \"list\", \"scroll\", \"data\", \"view\", \"androidlayoutwidthmatchparent\", \"false\", \"inside\", \"ltitem\", \"error\", \"androidlayoutheightwrapcontent\", \"method\", \"activity\", \"code\", \"button\", \"eresolveractivity\", \"camera\", \"gcm\", \"bluetoothservice\", \"servicenotavailable\", \"bluetooth\", \"intent\", \"hclassname\", \"fragmentstatepageradapter\", \"think\", \"previous\", \"fr\", \"onclickview\", \"memory\", \"level\", \"navhostfragment\", \"page\", \"zoom\", \"best\", \"uid\", \"observes\", \"trigger\", \"viewmodels\", \"createroomfragment\", \"commit\", \"recommend\", \"ltintentfiltergt\", \"viewonclicklistener\", \"retrieve\", \"permission\", \"livedata\", \"device\", \"ltusespermission\", \"bottomnavigationview\", \"android\", \"navigation\", \"e\", \"viewmodel\", \"fragment\", \"back\", \"say\", \"line\", \"service\", \"update\", \"also\", \"nest\", \"code\", \"change\", \"cause\", \"architecture\", \"component\", \"user\", \"state\", \"method\", \"file\", \"error\", \"activity\", \"view\", \"data\", \"work\", \"comappdebug\", \"dfragmentmanager\", \"androidfitssystemwindowstrue\", \"parallax\", \"reach\", \"idxfac\", \"op\", \"game\", \"appcontentscrimattrcolorprimary\", \"applayoutcollapsemodeparallax\", \"androidfitssystemwindowstruegt\", \"transparent\", \"applayoutscrollflagsscrollexituntilcollapsedgt\", \"applayoutbehaviorstringappbarscrollingviewbehaviorgt\", \"androidthemestylethemeoverlayappcompatdarkactionbargt\", \"windowtranslucentstatus\", \"androidididappbar\", \"searchview\", \"key\", \"androidscaletypecentercrop\", \"tablet\", \"listview\", \"behind\", \"imageview\", \"apppopupthemestylethemeoverlayappcompatlight\", \"ltimageview\", \"content\", \"androidlayoutheightattractionbarsize\", \"inputmethodmanager\", \"setprimarynav\", \"ltandroidsupportdesignwidgetcollapsingtoolbarlayoutgt\", \"applayoutcollapsemodepin\", \"menu\", \"bar\", \"ltandroidsupportdesignwidgetcollapsingtoolbarlayout\", \"status\", \"androidlayoutwidthmatchparent\", \"androidlayoutheightmatchparent\", \"ltandroidsupportdesignwidgetappbarlayoutgt\", \"ltandroidsupportdesignwidgetappbarlayout\", \"collapsingtoolbarlayout\", \"androidlayoutheightwrapcontent\", \"scroll\", \"toolbar\", \"ltandroidsupportvwidgettoolbar\", \"xmlnsapphttpschemasandroidcomapkresauto\", \"ltandroidsupportdesignwidgetcoordinatorlayout\", \"access\", \"actionbar\", \"option\", \"lttextview\", \"work\", \"xmlnsandroidhttpschemasandroidcomapkresandroid\", \"problem\", \"ltitem\", \"fragment\", \"view\", \"button\", \"activity\", \"android\", \"issue\", \"locationrequest\", \"dbcontext\", \"unit\", \"location\", \"migration\", \"aws\", \"menuexpanded\", \"ltview\", \"core\", \"webxyz\", \"mfcmfcrepositorymodel\", \"assembly\", \"mfcdbcontext\", \"scaffold\", \"fusedlocationapigetlastlocation\", \"createlocationrequest\", \"cprogram\", \"designtime\", \"decade\", \"setimportance\", \"onnavigateup\", \"todoimportance\", \"todotitle\", \"settitle\", \"todoquot\", \"todo\", \"androidididblue\", \"applayoutconstrainthorizontalweightgt\", \"androidididred\", \"linearlayouts\", \"composable\", \"modifier\", \"contentdescription\", \"topappbar\", \"find\", \"project\", \"provider\", \"service\", \"compose\", \"null\", \"found\", \"androidlayoutwidthdp\", \"jetpack\", \"user\", \"application\", \"androidlayoutheightdp\", \"return\", \"view\", \"file\", \"drawer\", \"transformation\", \"immutable\", \"listener\", \"engine\", \"pas\", \"androidxfragmentappfragmentmanagermovetostatefragmentmanagerjava\", \"collection\", \"dag\", \"marker\", \"googlemap\", \"outlinedbox\", \"modifierfillmaxwidth\", \"uipangesturerecognizer\", \"apiclientdiscovery\", \"upgrade\", \"setting\", \"comandroidbuildapiextensionandroidcomponentsextension\", \"occur\", \"transition\", \"contract\", \"function\", \"latlnglatitude\", \"cameraposition\", \"textalign\", \"box\", \"imagevector\", \"elevation\", \"textaligncenter\", \"uilongpressgesturerecognizer\", \"thread\", \"test\", \"map\", \"design\", \"title\", \"text\", \"material\", \"center\", \"icon\", \"run\", \"start\", \"click\", \"color\", \"object\", \"show\", \"something\", \"android\", \"navigation\", \"support\", \"error\", \"modifier\", \"change\", \"activity\", \"button\", \"way\", \"main\", \"action\", \"set\", \"fragment\", \"item\", \"actionbar\", \"method\", \"work\", \"null\", \"androidviewlayoutinflaterinflatelayoutinflaterjava\", \"androidviewlayoutinflaterrinflatelayoutinflaterjava\", \"webview\", \"androidviewlayoutinflatercreateviewlayoutinflaterjava\", \"textfield\", \"androidviewlayoutinflatercreateviewfromtaglayoutinflaterjava\", \"materialtheme\", \"outlinedtextfield\", \"espresso\", \"outline\", \"rememberscaffoldstate\", \"javalangreflectconstructornewinstanceconstructorjava\", \"androidsupportdesignwidgetcollapsingtoolbarlayout\", \"androidsupportvappappcompatdelegateimplvsetcontentviewappcompatdelegateimplvjava\", \"comtestandroiduiactivityrefreshableactivityoncreaterefreshableactivityjava\", \"androidsupportvappappcompatactivitysetcontentviewappcompatactivityjava\", \"javalangreflectconstructornewinstancenative\", \"floatingactionbutton\", \"typography\", \"javascript\", \"homepage\", \"login\", \"asset\", \"scrollto\", \"workaround\", \"acceleration\", \"due\", \"index\", \"androidbackgrounddrawablespinnerbackground\", \"actionbarsherlock\", \"background\", \"androidappactivitythreadperformlaunchactivityactivitythreadjava\", \"compile\", \"plugin\", \"color\", \"compose\", \"image\", \"nestedscrollview\", \"spinner\", \"apply\", \"javalangreflectmethodinvokenative\", \"inflate\", \"androidlayoutwidthwrapcontent\", \"problem\", \"jetpack\", \"method\", \"scroll\", \"last\", \"android\", \"cause\", \"work\", \"coordinatorlayout\", \"design\", \"javalangreflectmethodinvokemethodjava\", \"issue\", \"class\", \"error\", \"androidlayoutheightwrapcontent\", \"file\", \"implementation\", \"action\", \"set\", \"button\", \"xml\", \"page\"], \"Freq\": [9.0, 5.0, 6.0, 2.0, 2.0, 14.0, 1.0, 3.0, 2.0, 4.0, 3.0, 3.0, 1.0, 2.0, 2.0, 3.0, 1.0, 4.0, 1.0, 2.0, 3.0, 1.0, 1.0, 1.0, 1.0, 4.0, 1.0, 2.0, 1.0, 0.0, 1.8176935952061153, 1.7228108544503493, 0.868633667716658, 1.058053126342311, 2.9549864636895764, 0.6793270675488166, 0.5869151822678782, 0.5863109312101284, 0.5850187878010227, 0.5843533812083929, 0.4899068212055013, 0.48990288261718934, 0.4899883857889069, 0.48992576223474693, 0.48975622391059165, 0.9646285942010219, 0.4895323688730797, 0.489381019665856, 0.39658533685659225, 0.3967005226620426, 0.3964132563527083, 0.3953605075022725, 0.39516021238393567, 0.39511982395106404, 0.3951449593055639, 0.39508555823275004, 0.3951601407732391, 0.39491684343160544, 0.3950581313359596, 0.3949265108756439, 1.632232059780489, 2.0097670894684496, 1.153949946172359, 3.5288616961635553, 2.590335630530452, 1.0596050017479157, 1.059911137475799, 1.156458826927071, 0.6810203740801686, 2.0976660686508595, 2.282515762284899, 0.5844663470822493, 1.720642912222059, 5.980193230675242, 2.0048505854839913, 1.244140610866751, 2.6059940254448324, 1.6325434230892228, 2.0988275941494017, 2.9535857584644543, 0.9603918189485093, 1.1908957664165583, 1.355791425891115, 1.4714789358817444, 1.486458461392538, 1.2566931066490243, 1.235103484179634, 1.1555861073678395, 1.0348945851215294, 2.0010816699390594, 1.0504755324060178, 0.8759002214234005, 0.7916696233266562, 0.6176748139205432, 0.5321759041843456, 1.354321498969438, 0.4470843090397947, 0.44610850636381305, 0.4461430112811717, 0.4455834354617043, 0.4458825081878151, 0.4455983695271579, 0.44467146387193585, 0.533192203469269, 0.6404700389493595, 0.9628514088069583, 0.3608070213598321, 0.359790571529894, 0.3598772252403286, 0.3595670422921364, 0.359571137116535, 0.35948830724947256, 0.3594135164861927, 0.35948710288935537, 0.3591370255122799, 0.3591199235986153, 0.3593779577537315, 0.3466347136803438, 0.8773629770037805, 1.4796516689006867, 1.1354268798149174, 1.0484929147810358, 0.5306871344254334, 3.2336115294376784, 2.3781492389856425, 0.5314735213639779, 1.0783746549576314, 5.776665127882598, 1.6236190707740252, 0.5319372000091109, 0.6187324829754935, 0.9631330484203723, 0.9104157973690392, 1.033302200186419, 0.8790737705503039, 1.3105593880057704, 0.9660342315067644, 0.7913287894134806, 0.817258963827443, 1.0502329742784078, 1.099618242629416, 0.8778188875261574, 1.1869695184439173, 0.879421348880136, 1.1728517682777395, 1.087756981578878, 1.154944739874725, 0.9994363163060194, 1.0127659332114827, 1.6207814180364328, 1.4203079113779353, 1.2129512299925105, 0.7089824757211021, 0.5160925848147049, 0.4177094003118962, 0.41759465292680104, 0.4160507073959267, 0.41592363254538917, 0.415727134599992, 0.4157432622615482, 0.415594591174559, 0.4153957760364095, 0.41499559684808285, 0.4141991313552536, 0.4101236063986088, 0.5141141656427695, 0.3177124069167306, 0.31644631596878753, 0.31642571612521936, 0.3160957247053607, 0.31594408761164855, 0.3158241960586432, 0.31480581301592375, 0.3144730177928348, 0.7162503044449154, 1.0118162111470792, 0.6988126874819865, 0.21737200555567032, 0.2172052835371405, 0.6147848364868187, 0.6143194514944417, 1.7156519237021366, 1.314751254240188, 0.6142984113842506, 0.7110682272613251, 5.1140596051664575, 2.282031854876965, 0.7905620271980182, 0.7892958203904374, 0.8126516403305153, 1.9669017970792086, 2.2776835036456617, 1.109109202803774, 0.6881338583390403, 0.8668999959814642, 0.6880032613555193, 0.6158072746168547, 0.817272122678652, 0.6377611002540656, 0.7135543897091501, 1.407254330414696, 1.0219147225371332, 1.1271807110160288, 1.1205473296678021, 1.8813141509547404, 1.2139330709055258, 1.0469340088102503, 1.0149205079335144, 0.8905505628396377, 0.7170552045193632, 0.9572561871854488, 0.839005419705095, 1.0699086326180516, 0.7225611306823755, 0.7216459609409047, 0.7203680468027991, 0.7200811463794623, 0.48914143177898206, 0.4877393124823576, 0.48770696516977596, 0.4875720367528601, 0.4874612179135984, 0.4873380424719455, 0.6037401131031616, 0.3709985005097265, 0.370947369741211, 0.3707170682380226, 0.3704073365062444, 0.37047920364199116, 0.36988498599538944, 0.36984677994891535, 0.3697469329203976, 0.3697059927981071, 0.3696441387711946, 0.36963352203523203, 0.836803032866247, 0.2543407050209768, 0.2543276027615447, 0.2543222766398243, 0.2543160095699334, 0.4861389904427794, 1.8875465751754843, 0.6030345795126042, 0.7197057613206111, 1.1786488641096575, 0.7239893834829079, 0.4875636924954982, 0.7218401868463072, 0.8147972732916166, 0.8405200266924535, 0.6054510764446107, 0.4894317764276981, 0.6780062050877251, 0.6956762885371118, 0.4881340491167927, 0.49000156492934244, 0.490976316219125, 0.48990573024585404, 0.4887633481517926, 0.7087678017645248, 0.33563254354072525, 0.4490198272998026, 0.3341434931899065, 0.2713655628443905, 0.2713430080982793, 0.2708342732693278, 0.32507304667435916, 0.2630739253011515, 0.20690682309536268, 0.20690657540112242, 0.20680130534902097, 0.20657797256582217, 0.20637393079286315, 0.2062040708250571, 0.2708416166750384, 0.20595647857656432, 0.20600032045708658, 0.2059014758849819, 0.205369049830464, 0.20008382298349686, 0.19805743640410373, 0.14156167308201695, 0.14156117769353646, 0.14139378009788336, 0.14137011801281585, 0.14130774277502398, 0.14134209942317003, 0.14132299782617277, 0.14128566884714386, 0.46564066448930036, 0.7911348205125642, 0.2723680542858838, 0.7047305022106287, 0.7264158706790409, 0.5989926868215973, 0.3373465002616808, 0.2722454310667162, 0.6627194026692231, 0.5965479155299421, 0.6735266811973245, 0.5295290226840561, 0.4686372985482075, 0.3994748014662977, 0.730656221228935, 0.42539247770692096, 1.0824424797625667, 0.8865239122634233, 0.47358806531960523, 0.7547172397257265, 0.5987454588293402, 0.5327460171952791, 0.6540205557950316, 0.5966539286647643, 0.46592338560915875, 0.40154651609165454, 0.47029819042075427, 0.4660194618338725, 0.6661107739255743, 0.4796839954148738, 0.39910967101568695, 0.4589400690428608, 0.41989856117742796, 0.4054104879583812, 0.23172827166103427, 0.23163885729367673, 0.10736881836371646, 0.10716260330377202, 0.08688079093702004, 0.08642567784009976, 0.06606525878187423, 0.06591176041347999, 0.06592509239412425, 0.0658871246278715, 0.06584041308270853, 0.0657205324207915, 0.0657080775963611, 0.06570708533820062, 0.06570255667195617, 0.06570130245764132, 0.06566713702465952, 0.06559800838313491, 0.04520069319746995, 0.045200697166502594, 0.04520065747617617, 0.04520062572391504, 0.04515014359774225, 0.04506963970866585, 0.0450655079456856, 0.04502902062860827, 0.04502466263076743, 0.04502657967353348, 0.04500767517105994, 0.04500506354758155, 0.12831079199173645, 0.08656011691374743, 0.16974045964771092, 0.10670577558475043, 0.23288853103518625, 0.32432400919465626, 0.17029533041105363, 0.16997428329871267, 0.10726577433826652, 0.10700896205020266, 0.10721535174758336, 0.10725231931761035, 0.17003272333533254, 0.23243474359516839, 0.20922866704881693, 0.24385085630703948, 0.27525816087755467, 0.14917880666550656, 0.2746550584295471, 0.14875734302732463, 0.21249178342118907, 0.12834508443376277, 0.1401171082407016, 0.10731971349187043, 0.1498447627144318, 0.14902947578138637, 0.14878753942766448, 0.14936250937230597, 0.12794368822461846, 0.12714915139422506, 0.128456106214823, 0.1285782333492154, 0.13305760420825197, 0.11237511799629653, 0.10826547046592161], \"Total\": [9.0, 5.0, 6.0, 2.0, 2.0, 14.0, 1.0, 3.0, 2.0, 4.0, 3.0, 3.0, 1.0, 2.0, 2.0, 3.0, 1.0, 4.0, 1.0, 2.0, 3.0, 1.0, 1.0, 1.0, 1.0, 4.0, 1.0, 2.0, 1.0, 0.0, 1.8902638208465206, 1.7948293835854048, 0.9377774686790997, 1.1483819296532438, 3.2493504617095454, 0.7474467486702285, 0.6530457157097428, 0.6530524191589364, 0.6526976651058948, 0.6521745169332183, 0.5568665250206901, 0.5569357540447071, 0.5570369810775067, 0.5569885830759363, 0.5568879335048775, 1.0970772445453962, 0.5568510314914761, 0.5572860612381416, 0.46217924601462645, 0.46242015259803504, 0.46226128385547455, 0.46179946611595846, 0.46171163565169004, 0.4617202869561839, 0.4617939407371219, 0.4617400492527438, 0.46186318622829126, 0.46159051001970314, 0.4618508744593111, 0.4617428654320327, 1.9395487163582275, 2.404302440497327, 1.4099166043420348, 4.618549560799537, 3.8320793291419895, 1.449487901401939, 1.4763197849595058, 1.6378251273489604, 0.8823752520328372, 3.4267418785552644, 3.8073896638543228, 0.7384386766696848, 2.831191381041079, 14.33587030023801, 3.6098316443150584, 1.9521526718270978, 5.4016605429414, 3.2087322633104947, 5.274969679845512, 9.008614634054524, 1.5792091939973678, 2.385461163304413, 3.2537885537683593, 4.004318498831432, 4.1159619535864485, 3.8267161499783406, 4.037645889649933, 3.382950809171309, 3.7349543471785345, 2.074634378299867, 1.1210685584146394, 0.9467969725702793, 0.8605221735162182, 0.6872002458598513, 0.6006594939492397, 1.5570104691561242, 0.5141707531863229, 0.5136966717392756, 0.5141455862261695, 0.51402811198656, 0.5143746982577153, 0.5143896646017991, 0.5138068876630746, 0.6213932587993461, 0.7531632876280419, 1.1369481897817633, 0.42751479723929914, 0.4272637640518055, 0.4276954769810839, 0.42736054156989683, 0.42736542287117213, 0.42737183952551866, 0.42729373229447365, 0.4275567066862644, 0.42727234845429085, 0.4272862246676937, 0.4277272228890283, 0.41750986600676754, 1.0649796938543372, 1.8810381531802658, 1.4451863993563454, 1.3547022989358013, 0.666123051132932, 6.351521656567509, 4.485810396742017, 0.695854031345328, 1.709702032916805, 14.33587030023801, 2.9627623654918684, 0.7166104280458653, 0.8936956011417965, 1.7375359607182048, 1.6089938159022243, 2.0450440527379388, 1.6197590417298702, 3.382950809171309, 2.1182115305884506, 1.4663770758674812, 1.5688601059941067, 2.6665104338693717, 3.1073966611563835, 1.9279088391868973, 3.8267161499783406, 1.9359474572096742, 4.004318498831432, 4.037645889649933, 5.274969679845512, 3.2087322633104947, 4.331387665684164, 1.6863524946622144, 1.485683136969601, 1.28405793622092, 0.7825209223285491, 0.5821707368605595, 0.4823174721324511, 0.4823110447156894, 0.4817295602974949, 0.48205165410828515, 0.4819330645707186, 0.4819865446834901, 0.4819445473018819, 0.48182112616688205, 0.48194387336364686, 0.48172330024047316, 0.4810546344147424, 0.6032188822444525, 0.3819914929703366, 0.38166294161795833, 0.3817737288385033, 0.38151393249506044, 0.38140124940021214, 0.38168380861608897, 0.3814928760069762, 0.38150238293108873, 0.8777643032572404, 1.2943604019270336, 0.8981512195679322, 0.28164996446371393, 0.28164370085231194, 0.798657443887869, 0.7985995323865628, 2.431729854995537, 1.8265510958014084, 0.7987056377021949, 0.9551290060649407, 9.008614634054524, 3.822121412500454, 1.1142844376201162, 1.1140458148139314, 1.1573225802732037, 4.1159619535864485, 5.4016605429414, 1.9570831712411556, 0.9928099452438041, 1.409220607023145, 1.0142083469440841, 0.8782864017792299, 1.4055452151533487, 0.9494409226147563, 1.176229342743216, 4.331387665684164, 2.405470459059198, 3.081687199200681, 3.2537885537683593, 14.33587030023801, 5.274969679845512, 3.7349543471785345, 4.037645889649933, 6.351521656567509, 2.173307494083628, 1.0195038648003976, 0.9023319109239558, 1.1573148230633152, 0.7847072365611865, 0.784890554082226, 0.7846396783173134, 0.7846809553781124, 0.5507079892674983, 0.5502875934402089, 0.5502662068609544, 0.5502524058528704, 0.5501599551080186, 0.5501467667569743, 0.6885830029540694, 0.4328080593750955, 0.43278846405486465, 0.43296507646678506, 0.4328505024752753, 0.43311691655372375, 0.4328305837804494, 0.43281690736069445, 0.4328243427738545, 0.4328124670256793, 0.43278036349099747, 0.4327716258915051, 1.0327309281286914, 0.31583947160076187, 0.31583773563026474, 0.31583610040748517, 0.31583362347641825, 0.6127985882375906, 2.566662413717787, 0.7979041785545978, 0.9807321794042643, 2.303801521300982, 1.162170447643556, 0.6503838251978941, 1.7375359607182048, 2.505599009287634, 3.1558835931790723, 1.4402466216910448, 0.9330882692519543, 2.4439426236764863, 3.1073966611563835, 1.2331680119282968, 1.6352640539459793, 3.6098316443150584, 5.274969679845512, 1.9359474572096742, 0.8063119763069352, 0.40852651965276726, 0.5480549279867832, 0.40929809486092394, 0.3426493139687144, 0.3427717776391584, 0.34278243085318355, 0.41389093733886945, 0.3468584711726377, 0.2770159206696672, 0.27701575407956325, 0.27706275356213095, 0.27694989745254145, 0.2774395117675798, 0.2772445306133637, 0.3642887445508119, 0.2771930828693915, 0.2774348455634395, 0.2774645439996479, 0.27759453571892867, 0.2802676664769739, 0.2802487729069604, 0.21167058053152013, 0.21167023135483334, 0.2116183201175572, 0.21158900169038847, 0.21151857535707266, 0.21161525636925535, 0.21158930087788252, 0.21188932249107337, 0.7213741397516447, 1.300088156472318, 0.42889277363645056, 1.369881235183113, 1.7122207414693, 1.449698644002567, 0.6932283496335052, 0.5292751297054362, 1.855487936213744, 1.5980566657053132, 1.9975938130892557, 1.365258958561927, 1.145688375676353, 0.9089871116509443, 2.8154585694217222, 1.0782516017422024, 6.351521656567509, 4.485810396742017, 1.3752274606450574, 4.004318498831432, 2.566662413717787, 2.1182115305884506, 4.037645889649933, 3.7349543471785345, 1.9729151914439, 1.3277146599072793, 2.525280879536563, 2.5865690719330114, 14.33587030023801, 3.8073896638543228, 1.4055452151533487, 3.8267161499783406, 4.331387665684164, 3.1558835931790723, 0.31446214506761805, 0.3147319455808059, 0.18686836044111574, 0.18728659684040533, 0.16460676018137524, 0.16608699235942234, 0.14358764991247136, 0.14404214936733384, 0.1441520159698287, 0.14412893952271627, 0.1442949876329122, 0.1446858545070661, 0.1447062138428562, 0.1447083746898551, 0.14472358564864762, 0.14474290430094286, 0.14485212408528786, 0.14508460446334315, 0.12272310179273835, 0.12272319310547475, 0.12272319794620137, 0.12272319194730241, 0.12285446058045334, 0.12325710274637883, 0.12328602763067023, 0.12334838260311526, 0.12341270158701978, 0.12342659184660343, 0.12344964257681063, 0.12345808411533359, 0.4036475080682147, 0.2609236148602854, 0.6311545562445643, 0.385518834720785, 1.145688375676353, 2.505599009287634, 0.9364352295987735, 0.9414931677483421, 0.4700121671883244, 0.4735321089271594, 0.5051287046628584, 0.5154947371934853, 1.3957554103446428, 3.081687199200681, 2.4439426236764863, 3.8267161499783406, 5.4016605429414, 1.233585937243046, 6.351521656567509, 1.4663770758674812, 4.331387665684164, 0.9846172276213702, 1.369881235183113, 0.7029923613136566, 2.173307494083628, 3.8320793291419895, 4.004318498831432, 4.1159619535864485, 1.9359474572096742, 2.017764344882907, 2.525280879536563, 2.5865690719330114, 3.7349543471785345, 1.4980035246939216, 1.1369481897817633], \"Category\": [\"Default\", \"Default\", \"Default\", \"Default\", \"Default\", \"Default\", \"Default\", \"Default\", \"Default\", \"Default\", \"Default\", \"Default\", \"Default\", \"Default\", \"Default\", \"Default\", \"Default\", \"Default\", \"Default\", \"Default\", \"Default\", \"Default\", \"Default\", \"Default\", \"Default\", \"Default\", \"Default\", \"Default\", \"Default\", \"Default\", \"Topic1\", \"Topic1\", \"Topic1\", \"Topic1\", \"Topic1\", \"Topic1\", \"Topic1\", \"Topic1\", \"Topic1\", \"Topic1\", \"Topic1\", \"Topic1\", \"Topic1\", \"Topic1\", \"Topic1\", \"Topic1\", \"Topic1\", \"Topic1\", \"Topic1\", \"Topic1\", \"Topic1\", \"Topic1\", \"Topic1\", \"Topic1\", \"Topic1\", \"Topic1\", \"Topic1\", \"Topic1\", \"Topic1\", \"Topic1\", \"Topic1\", \"Topic1\", \"Topic1\", \"Topic1\", \"Topic1\", \"Topic1\", \"Topic1\", \"Topic1\", \"Topic1\", \"Topic1\", \"Topic1\", \"Topic1\", \"Topic1\", \"Topic1\", \"Topic1\", \"Topic1\", \"Topic1\", \"Topic1\", \"Topic1\", \"Topic1\", \"Topic1\", \"Topic1\", \"Topic1\", \"Topic1\", \"Topic1\", \"Topic1\", \"Topic1\", \"Topic1\", \"Topic1\", \"Topic2\", \"Topic2\", \"Topic2\", \"Topic2\", \"Topic2\", \"Topic2\", \"Topic2\", \"Topic2\", \"Topic2\", \"Topic2\", \"Topic2\", \"Topic2\", \"Topic2\", \"Topic2\", \"Topic2\", \"Topic2\", \"Topic2\", \"Topic2\", \"Topic2\", \"Topic2\", \"Topic2\", \"Topic2\", \"Topic2\", \"Topic2\", \"Topic2\", \"Topic2\", \"Topic2\", \"Topic2\", \"Topic2\", \"Topic2\", \"Topic2\", \"Topic2\", \"Topic2\", \"Topic2\", \"Topic2\", \"Topic2\", \"Topic2\", \"Topic2\", \"Topic2\", \"Topic2\", \"Topic2\", \"Topic2\", \"Topic2\", \"Topic2\", \"Topic2\", \"Topic2\", \"Topic2\", \"Topic2\", \"Topic2\", \"Topic2\", \"Topic2\", \"Topic2\", \"Topic2\", \"Topic2\", \"Topic2\", \"Topic2\", \"Topic2\", \"Topic2\", \"Topic2\", \"Topic2\", \"Topic3\", \"Topic3\", \"Topic3\", \"Topic3\", \"Topic3\", \"Topic3\", \"Topic3\", \"Topic3\", \"Topic3\", \"Topic3\", \"Topic3\", \"Topic3\", \"Topic3\", \"Topic3\", \"Topic3\", \"Topic3\", \"Topic3\", \"Topic3\", \"Topic3\", \"Topic3\", \"Topic3\", \"Topic3\", \"Topic3\", \"Topic3\", \"Topic3\", \"Topic3\", \"Topic3\", \"Topic3\", \"Topic3\", \"Topic3\", \"Topic3\", \"Topic3\", \"Topic3\", \"Topic3\", \"Topic3\", \"Topic3\", \"Topic3\", \"Topic3\", \"Topic3\", \"Topic3\", \"Topic3\", \"Topic3\", \"Topic3\", \"Topic3\", \"Topic3\", \"Topic3\", \"Topic3\", \"Topic3\", \"Topic3\", \"Topic3\", \"Topic3\", \"Topic3\", \"Topic3\", \"Topic3\", \"Topic3\", \"Topic3\", \"Topic3\", \"Topic3\", \"Topic3\", \"Topic3\", \"Topic3\", \"Topic4\", \"Topic4\", \"Topic4\", \"Topic4\", \"Topic4\", \"Topic4\", \"Topic4\", \"Topic4\", \"Topic4\", \"Topic4\", \"Topic4\", \"Topic4\", \"Topic4\", \"Topic4\", \"Topic4\", \"Topic4\", \"Topic4\", \"Topic4\", \"Topic4\", \"Topic4\", \"Topic4\", \"Topic4\", \"Topic4\", \"Topic4\", \"Topic4\", \"Topic4\", \"Topic4\", \"Topic4\", \"Topic4\", \"Topic4\", \"Topic4\", \"Topic4\", \"Topic4\", \"Topic4\", \"Topic4\", \"Topic4\", \"Topic4\", \"Topic4\", \"Topic4\", \"Topic4\", \"Topic4\", \"Topic4\", \"Topic4\", \"Topic4\", \"Topic4\", \"Topic4\", \"Topic4\", \"Topic4\", \"Topic4\", \"Topic5\", \"Topic5\", \"Topic5\", \"Topic5\", \"Topic5\", \"Topic5\", \"Topic5\", \"Topic5\", \"Topic5\", \"Topic5\", \"Topic5\", \"Topic5\", \"Topic5\", \"Topic5\", \"Topic5\", \"Topic5\", \"Topic5\", \"Topic5\", \"Topic5\", \"Topic5\", \"Topic5\", \"Topic5\", \"Topic5\", \"Topic5\", \"Topic5\", \"Topic5\", \"Topic5\", \"Topic5\", \"Topic5\", \"Topic5\", \"Topic5\", \"Topic5\", \"Topic5\", \"Topic5\", \"Topic5\", \"Topic5\", \"Topic5\", \"Topic5\", \"Topic5\", \"Topic5\", \"Topic5\", \"Topic5\", \"Topic5\", \"Topic5\", \"Topic5\", \"Topic5\", \"Topic5\", \"Topic5\", \"Topic5\", \"Topic5\", \"Topic5\", \"Topic5\", \"Topic5\", \"Topic5\", \"Topic5\", \"Topic5\", \"Topic5\", \"Topic5\", \"Topic5\", \"Topic5\", \"Topic5\", \"Topic5\", \"Topic5\", \"Topic5\", \"Topic6\", \"Topic6\", \"Topic6\", \"Topic6\", \"Topic6\", \"Topic6\", \"Topic6\", \"Topic6\", \"Topic6\", \"Topic6\", \"Topic6\", \"Topic6\", \"Topic6\", \"Topic6\", \"Topic6\", \"Topic6\", \"Topic6\", \"Topic6\", \"Topic6\", \"Topic6\", \"Topic6\", \"Topic6\", \"Topic6\", \"Topic6\", \"Topic6\", \"Topic6\", \"Topic6\", \"Topic6\", \"Topic6\", \"Topic6\", \"Topic6\", \"Topic6\", \"Topic6\", \"Topic6\", \"Topic6\", \"Topic6\", \"Topic6\", \"Topic6\", \"Topic6\", \"Topic6\", \"Topic6\", \"Topic6\", \"Topic6\", \"Topic6\", \"Topic6\", \"Topic6\", \"Topic6\", \"Topic6\", \"Topic6\", \"Topic6\", \"Topic6\", \"Topic6\", \"Topic6\", \"Topic6\", \"Topic6\", \"Topic6\", \"Topic6\", \"Topic6\", \"Topic6\", \"Topic6\", \"Topic6\", \"Topic6\", \"Topic6\", \"Topic6\", \"Topic6\"], \"logprob\": [30.0, 29.0, 28.0, 27.0, 26.0, 25.0, 24.0, 23.0, 22.0, 21.0, 20.0, 19.0, 18.0, 17.0, 16.0, 15.0, 14.0, 13.0, 12.0, 11.0, 10.0, 9.0, 8.0, 7.0, 6.0, 5.0, 4.0, 3.0, 2.0, 1.0, -5.1311, -5.1847, -5.8695, -5.6723, -4.6452, -6.1153, -6.2616, -6.2626, -6.2648, -6.2659, -6.4422, -6.4422, -6.4421, -6.4422, -6.4425, -5.7647, -6.443, -6.4433, -6.6536, -6.6533, -6.654, -6.6566, -6.6572, -6.6573, -6.6572, -6.6573, -6.6572, -6.6578, -6.6574, -6.6577, -5.2387, -5.0307, -5.5855, -4.4677, -4.7769, -5.6708, -5.6705, -5.5833, -6.1129, -4.9879, -4.9034, -6.2657, -5.186, -3.9402, -5.0331, -5.5102, -4.7709, -5.2385, -4.9873, -4.6457, -5.7691, -5.554, -5.4243, -5.3424, -5.3323, -5.5002, -5.5175, -5.5841, -5.6944, -4.8617, -5.5062, -5.6879, -5.789, -6.0372, -6.1862, -5.2521, -6.3604, -6.3626, -6.3625, -6.3638, -6.3631, -6.3638, -6.3658, -6.1843, -6.001, -5.5933, -6.5748, -6.5776, -6.5774, -6.5783, -6.5783, -6.5785, -6.5787, -6.5785, -6.5795, -6.5795, -6.5788, -6.6149, -5.6862, -5.1636, -5.4284, -5.5081, -6.189, -4.3818, -4.6891, -6.1875, -5.48, -3.8016, -5.0708, -6.1866, -6.0355, -5.593, -5.6493, -5.5227, -5.6843, -5.285, -5.59, -5.7895, -5.7572, -5.5064, -5.4605, -5.6857, -5.384, -5.6839, -5.396, -5.4713, -5.4114, -5.556, -5.5427, -4.8106, -4.9427, -5.1005, -5.6375, -5.955, -6.1665, -6.1668, -6.1705, -6.1708, -6.1713, -6.1712, -6.1716, -6.1721, -6.173, -6.1749, -6.1848, -5.9588, -6.4401, -6.4441, -6.4442, -6.4452, -6.4457, -6.4461, -6.4493, -6.4504, -5.6273, -5.2818, -5.6519, -6.8197, -6.8204, -5.78, -5.7808, -4.7537, -5.0199, -5.7808, -5.6345, -3.6615, -4.4685, -5.5285, -5.5301, -5.501, -4.6171, -4.4704, -5.19, -5.6673, -5.4364, -5.6675, -5.7784, -5.4953, -5.7433, -5.631, -4.9519, -5.2719, -5.1738, -5.1797, -4.6616, -5.0997, -5.2477, -5.2787, -5.4094, -5.6261, -5.0709, -5.2027, -4.9596, -5.3521, -5.3534, -5.3552, -5.3556, -5.7423, -5.7452, -5.7452, -5.7455, -5.7457, -5.746, -5.5318, -6.0187, -6.0189, -6.0195, -6.0203, -6.0201, -6.0218, -6.0219, -6.0221, -6.0222, -6.0224, -6.0224, -5.2054, -6.3963, -6.3963, -6.3963, -6.3964, -5.7484, -4.3919, -5.533, -5.3561, -4.8628, -5.3502, -5.7455, -5.3531, -5.232, -5.2009, -5.529, -5.7417, -5.4158, -5.3901, -5.7444, -5.7405, -5.7385, -5.7407, -5.7431, -5.1738, -5.9213, -5.6303, -5.9258, -6.1339, -6.1339, -6.1358, -5.9533, -6.1649, -6.4051, -6.4051, -6.4056, -6.4067, -6.4076, -6.4085, -6.1358, -6.4097, -6.4095, -6.4099, -6.4125, -6.4386, -6.4488, -6.7846, -6.7846, -6.7858, -6.7859, -6.7864, -6.7861, -6.7863, -6.7865, -5.5939, -5.0639, -6.1302, -5.1795, -5.1492, -5.3421, -5.9162, -6.1306, -5.241, -5.3462, -5.2248, -5.4653, -5.5875, -5.7472, -5.1434, -5.6843, -4.7504, -4.95, -5.577, -5.111, -5.3425, -5.4593, -5.2542, -5.346, -5.5933, -5.742, -5.584, -5.5931, -5.2359, -5.5642, -5.7481, -5.6084, -5.6973, -5.7324, -4.9913, -4.9917, -5.7606, -5.7625, -5.9723, -5.9776, -6.2462, -6.2486, -6.2483, -6.2489, -6.2496, -6.2515, -6.2516, -6.2517, -6.2517, -6.2518, -6.2523, -6.2533, -6.6258, -6.6258, -6.6258, -6.6258, -6.6269, -6.6287, -6.6288, -6.6296, -6.6297, -6.6296, -6.63, -6.6301, -5.5824, -5.976, -5.3026, -5.7668, -4.9863, -4.6551, -5.2993, -5.3012, -5.7616, -5.764, -5.762, -5.7617, -5.3009, -4.9883, -5.0934, -4.9403, -4.8192, -5.4317, -4.8214, -5.4346, -5.078, -5.5821, -5.4944, -5.7611, -5.4273, -5.4327, -5.4343, -5.4305, -5.5853, -5.5915, -5.5813, -5.5803, -5.5461, -5.715, -5.7523], \"loglift\": [30.0, 29.0, 28.0, 27.0, 26.0, 25.0, 24.0, 23.0, 22.0, 21.0, 20.0, 19.0, 18.0, 17.0, 16.0, 15.0, 14.0, 13.0, 12.0, 11.0, 10.0, 9.0, 8.0, 7.0, 6.0, 5.0, 4.0, 3.0, 2.0, 1.0, 1.2141, 1.2123, 1.1767, 1.1713, 1.1583, 1.1577, 1.1465, 1.1454, 1.1438, 1.1434, 1.1251, 1.125, 1.125, 1.125, 1.1248, 1.1246, 1.1244, 1.1233, 1.1002, 1.1, 1.0996, 1.0979, 1.0976, 1.0975, 1.0974, 1.0973, 1.0973, 1.0972, 1.097, 1.0969, 1.0807, 1.074, 1.0529, 0.9841, 0.8616, 0.9399, 0.9219, 0.9052, 0.9942, 0.7625, 0.7416, 1.0194, 0.7552, 0.3789, 0.6652, 0.8028, 0.5244, 0.5775, 0.3317, 0.1381, 0.7559, 0.5586, 0.3778, 0.2521, 0.2348, 0.1397, 0.0687, 0.1791, -0.0302, 1.3904, 1.3615, 1.3487, 1.3431, 1.3199, 1.3055, 1.2871, 1.2867, 1.2854, 1.2847, 1.2836, 1.2836, 1.283, 1.282, 1.2734, 1.2644, 1.2603, 1.2569, 1.2546, 1.2539, 1.2538, 1.2538, 1.2535, 1.2535, 1.2531, 1.2528, 1.2527, 1.2524, 1.2405, 1.2327, 1.1865, 1.1853, 1.1703, 1.1992, 0.7514, 0.7919, 1.157, 0.9657, 0.5176, 0.8251, 1.1285, 1.0588, 0.8365, 0.8571, 0.7439, 0.8154, 0.4782, 0.6414, 0.8097, 0.7744, 0.4948, 0.3877, 0.6398, 0.2559, 0.6374, 0.1986, 0.115, -0.0924, 0.2601, -0.0267, 1.6487, 1.6434, 1.6314, 1.5897, 1.5679, 1.5446, 1.5443, 1.5418, 1.5409, 1.5406, 1.5406, 1.5403, 1.5401, 1.5388, 1.5374, 1.5289, 1.5286, 1.5042, 1.501, 1.5007, 1.5003, 1.5001, 1.499, 1.4963, 1.4952, 1.4851, 1.4421, 1.4374, 1.4293, 1.4286, 1.4267, 1.4261, 1.3396, 1.3596, 1.4259, 1.3933, 1.1222, 1.1727, 1.3452, 1.3438, 1.3348, 0.95, 0.8249, 1.1205, 1.3218, 1.2025, 1.3003, 1.3334, 1.1462, 1.2905, 1.1886, 0.5642, 0.8323, 0.6826, 0.6224, -0.3424, 0.2193, 0.4165, 0.3076, -0.2762, 0.5795, 1.8917, 1.882, 1.8762, 1.8722, 1.8707, 1.8693, 1.8688, 1.8362, 1.8341, 1.8341, 1.8338, 1.8337, 1.8335, 1.8233, 1.8007, 1.8006, 1.7995, 1.799, 1.7985, 1.7976, 1.7975, 1.7972, 1.7972, 1.7971, 1.797, 1.7444, 1.7382, 1.7381, 1.7381, 1.7381, 1.7232, 1.6474, 1.6747, 1.6453, 1.2846, 1.4815, 1.6666, 1.0763, 0.8314, 0.6317, 1.0882, 1.3095, 0.6725, 0.4581, 1.028, 0.7496, -0.0403, -0.4218, 0.5783, 2.0234, 1.9558, 1.9531, 1.9495, 1.9191, 1.9187, 1.9168, 1.9108, 1.8759, 1.8606, 1.8606, 1.8599, 1.8592, 1.8564, 1.8563, 1.8559, 1.8553, 1.8547, 1.8541, 1.851, 1.8154, 1.8052, 1.7501, 1.7501, 1.7491, 1.7491, 1.749, 1.7488, 1.7488, 1.7471, 1.7146, 1.6556, 1.6983, 1.4877, 1.2949, 1.2685, 1.4321, 1.4876, 1.1228, 1.167, 1.0652, 1.2053, 1.2584, 1.3302, 0.8034, 1.2223, 0.3829, 0.531, 1.0863, 0.4836, 0.6968, 0.7721, 0.3321, 0.3182, 0.7091, 0.9565, 0.4716, 0.4385, -0.9167, 0.0808, 0.8934, 0.0315, -0.1813, 0.1002, 3.1475, 3.1463, 2.8987, 2.8945, 2.8138, 2.7996, 2.6765, 2.671, 2.6705, 2.6701, 2.6682, 2.6637, 2.6633, 2.6633, 2.6631, 2.663, 2.6617, 2.659, 2.454, 2.454, 2.454, 2.454, 2.4518, 2.4468, 2.4464, 2.4451, 2.4445, 2.4444, 2.4438, 2.4437, 2.3067, 2.3494, 2.1395, 2.1683, 1.8596, 1.4083, 1.7483, 1.741, 1.9754, 1.9655, 1.9028, 1.8829, 1.3476, 0.8682, 0.9949, 0.6996, 0.4761, 1.3403, 0.3119, 1.1646, 0.4381, 1.4153, 1.1728, 1.5733, 0.7784, 0.2058, 0.1602, 0.1366, 0.7361, 0.6884, 0.4743, 0.4513, 0.1181, 0.8628, 1.1013]}, \"token.table\": {\"Topic\": [3, 1, 3, 3, 1, 2, 3, 5, 2, 1, 2, 3, 5, 3, 3, 3, 3, 1, 3, 1, 3, 1, 3, 3, 3, 2, 4, 1, 2, 3, 3, 2, 2, 2, 1, 1, 2, 3, 5, 2, 2, 2, 5, 1, 5, 1, 2, 3, 3, 1, 1, 1, 2, 1, 4, 1, 3, 4, 1, 2, 4, 5, 2, 3, 5, 2, 2, 1, 2, 5, 1, 1, 2, 2, 4, 4, 1, 2, 3, 5, 2, 3, 5, 1, 3, 2, 1, 2, 3, 2, 1, 1, 2, 3, 1, 2, 1, 2, 4, 1, 1, 1, 2, 2, 1, 2, 4, 4, 1, 3, 3, 3, 3, 3, 3, 3, 1, 3, 3, 2, 3, 4, 1, 1, 2, 4, 1, 4, 5, 2, 1, 2, 5, 1, 2, 3, 1, 3, 4, 3, 1, 2, 2, 3, 2, 1, 1, 2, 3, 4, 1, 3, 1, 1, 5, 1, 1, 2, 4, 1, 3, 2, 4, 2, 1, 1, 2, 3, 5, 1, 2, 5, 1, 2, 3, 5, 5, 1, 5, 4, 1, 3, 4, 4, 2, 1, 2, 3, 4, 1, 1, 2, 3, 1, 2, 1, 2, 1, 2, 1, 2, 3, 2, 1, 3, 3], \"Freq\": [1.1385807613259218, 0.3959955536445193, 0.3959955536445193, 0.7114676847239648, 0.24766906938604782, 0.24766906938604782, 0.24766906938604782, 0.24766906938604782, 0.48898702140972633, 0.15744258684310625, 0.47232776052931874, 0.15744258684310625, 0.15744258684310625, 0.778781059477017, 1.6577730396621657, 1.1133982543396908, 0.6115220337577572, 0.26163480749969015, 0.5232696149993803, 0.24295657036592594, 0.4859131407318519, 0.3330145779196001, 0.5550242965326668, 0.716457907014724, 1.2521920680463774, 0.6374054615700429, 1.27447034305547, 0.3375228508527322, 0.6750457017054644, 0.3375228508527322, 0.5474798938275772, 1.664836750394405, 1.1620851045753477, 1.5012241331375864, 0.6773600206322705, 0.2677408897261145, 0.2677408897261145, 0.2677408897261145, 0.2677408897261145, 0.8920061065793794, 0.6819528322266077, 0.4720963820465063, 0.4720963820465063, 0.7828647954090517, 0.7324617749099654, 0.2955999233831487, 0.2955999233831487, 0.8640633277577067, 1.1859916632676557, 1.5321029221665108, 1.531286364712125, 0.3750219715243719, 0.3750219715243719, 0.39910616036055574, 0.39910616036055574, 1.0663510623778831, 0.772582349175089, 1.2532833225807871, 0.6232991212350548, 0.3116495606175274, 1.1082396487297401, 0.7299902899000797, 0.6919522633518959, 0.6730910347678404, 1.240214742412972, 1.4370830015407858, 0.964025286054968, 0.24973038490615243, 0.24973038490615243, 0.24973038490615243, 0.7092618080532994, 0.6332283295975205, 0.5165429445287338, 0.43406517043850595, 0.43406517043850595, 0.6943255307385234, 0.4185305722178852, 0.4185305722178852, 0.13951019073929508, 0.06975509536964754, 1.056192646333976, 0.5389417955691869, 0.5389417955691869, 1.5312706463715362, 1.0678795162677313, 0.49559801298700773, 0.41920615409004175, 0.41920615409004175, 0.41920615409004175, 0.6422564393815442, 1.0311677057306805, 0.4601281699539938, 0.4601281699539938, 0.4601281699539938, 0.5252942768078396, 0.2626471384039198, 0.4091749087364719, 0.4091749087364719, 0.4091749087364719, 0.8106447794264827, 0.7064163918387476, 0.9115128446715501, 1.6092868498963064, 1.118949224682753, 0.5122550169521628, 0.5316213274618077, 1.274360619359506, 0.9808692585935257, 1.0580533669127392, 0.8976291519635757, 0.8974369256523008, 1.2520257186075598, 1.2521012702667547, 0.9859907020220299, 1.0072421260389675, 1.139257994759143, 0.3073340456748042, 0.3073340456748042, 0.8501743356170559, 0.7381695600469262, 0.8224597793588675, 1.2744033012985925, 1.1143120445268955, 0.2613206626275795, 0.2613206626275795, 1.274062982155903, 1.133304677002416, 0.7792220703863498, 0.3896110351931749, 1.3277333301113599, 0.22292515990561848, 0.44585031981123696, 0.22292515990561848, 0.6173757788887043, 0.6173757788887043, 1.06214259885877, 0.31686846820375025, 0.31686846820375025, 0.31686846820375025, 1.053251420052555, 0.5836447771325024, 0.2918223885662512, 0.8795475545741003, 1.2779211027665536, 0.9389850395934171, 0.9232614442031108, 0.3244975675206027, 0.3244975675206027, 0.3244975675206027, 0.8604589817505887, 0.6898988249800525, 1.7177091473072756, 0.831842103685717, 0.5540424587805082, 0.6257600380889142, 1.3542085911723116, 0.8707904349400134, 1.3954583423058935, 1.4522577462846598, 0.5553847703222001, 0.3702565135481334, 0.5755276567551749, 0.5755276567551749, 1.4551799217544832, 0.3866125250050537, 0.3551819269730521, 0.3551819269730521, 0.3551819269730521, 0.3551819269730521, 1.5333319135227703, 0.5006022713163651, 0.5006022713163651, 0.5186967244891899, 0.5186967244891899, 1.0469789878122584, 0.7691786091747944, 0.6897985344312906, 0.6105657944194776, 0.5840368451218939, 0.9683064317750222, 0.5109644877104602, 0.5109644877104602, 1.0196463631971777, 0.8640691193715846, 0.6215064285000137, 0.32181279348735, 0.32181279348735, 0.32181279348735, 0.32181279348735, 1.3378879522575826, 0.37914909874108965, 0.18957454937054483, 0.18957454937054483, 0.5848972398389027, 0.5848972398389027, 0.866072767509188, 0.216518191877297, 0.5068641593601085, 0.5068641593601085, 0.23087289275042183, 0.23087289275042183, 0.23087289275042183, 0.6675551716103767, 0.41571909404828417, 0.41571909404828417, 0.7096121040355863], \"Term\": [\"access\", \"action\", \"action\", \"actionbar\", \"activity\", \"activity\", \"activity\", \"activity\", \"also\", \"android\", \"android\", \"android\", \"android\", \"androidfitssystemwindowstrue\", \"androidididappbar\", \"androidlayoutheightattractionbarsize\", \"androidlayoutheightdp\", \"androidlayoutheightmatchparent\", \"androidlayoutheightmatchparent\", \"androidlayoutheightwrapcontent\", \"androidlayoutheightwrapcontent\", \"androidlayoutwidthmatchparent\", \"androidlayoutwidthmatchparent\", \"androidlayoutwidthwrapcontent\", \"applayoutcollapsemodepin\", \"architecture\", \"aws\", \"back\", \"back\", \"back\", \"bar\", \"bluetooth\", \"bluetoothservice\", \"bottomnavigationview\", \"bundle\", \"button\", \"button\", \"button\", \"button\", \"camera\", \"cause\", \"change\", \"change\", \"class\", \"click\", \"code\", \"code\", \"collapsingtoolbarlayout\", \"comappdebug\", \"comment\", \"complexity\", \"component\", \"component\", \"compose\", \"compose\", \"container\", \"content\", \"contentdescription\", \"data\", \"data\", \"dbcontext\", \"design\", \"device\", \"dfragmentmanager\", \"drawer\", \"e\", \"eresolveractivity\", \"error\", \"error\", \"error\", \"extends\", \"false\", \"file\", \"find\", \"find\", \"found\", \"fragment\", \"fragment\", \"fragment\", \"fragment\", \"gcm\", \"icon\", \"icon\", \"idatadelete\", \"image\", \"implementation\", \"inside\", \"inside\", \"inside\", \"intent\", \"interface\", \"issue\", \"issue\", \"issue\", \"item\", \"item\", \"jetpack\", \"jetpack\", \"jetpack\", \"last\", \"layout\", \"lazycolumn\", \"level\", \"line\", \"list\", \"livedata\", \"location\", \"locationrequest\", \"logdtest\", \"ltandroidsupportdesignwidgetappbarlayout\", \"ltandroidsupportdesignwidgetappbarlayoutgt\", \"ltandroidsupportdesignwidgetcollapsingtoolbarlayout\", \"ltandroidsupportdesignwidgetcollapsingtoolbarlayoutgt\", \"ltandroidsupportdesignwidgetcoordinatorlayout\", \"ltandroidsupportvwidgettoolbar\", \"ltimageview\", \"ltitem\", \"ltitem\", \"lttextview\", \"ltusespermission\", \"menu\", \"menuexpanded\", \"menufragment\", \"method\", \"method\", \"migration\", \"model\", \"modifier\", \"modifier\", \"navhostfragment\", \"navigation\", \"navigation\", \"navigation\", \"nest\", \"nest\", \"nestedscrollview\", \"null\", \"null\", \"null\", \"option\", \"override\", \"override\", \"page\", \"parallax\", \"permission\", \"private\", \"problem\", \"problem\", \"problem\", \"project\", \"protect\", \"reach\", \"recyclerview\", \"return\", \"run\", \"runnable\", \"savedinstancestate\", \"say\", \"scaffold\", \"scroll\", \"scroll\", \"service\", \"service\", \"servicenotavailable\", \"set\", \"show\", \"show\", \"show\", \"show\", \"somecustomdata\", \"start\", \"start\", \"state\", \"state\", \"status\", \"test\", \"text\", \"textinputlayout\", \"title\", \"todo\", \"toolbar\", \"toolbar\", \"topappbar\", \"unit\", \"update\", \"user\", \"user\", \"user\", \"user\", \"vertical\", \"view\", \"view\", \"view\", \"viewmodel\", \"viewmodel\", \"void\", \"void\", \"way\", \"way\", \"work\", \"work\", \"work\", \"xml\", \"xmlnsandroidhttpschemasandroidcomapkresandroid\", \"xmlnsandroidhttpschemasandroidcomapkresandroid\", \"xmlnsapphttpschemasandroidcomapkresauto\"]}, \"R\": 30, \"lambda.step\": 0.01, \"plot.opts\": {\"xlab\": \"PC1\", \"ylab\": \"PC2\"}, \"topic.order\": [6, 5, 1, 2, 4, 3]};\n",
       "\n",
       "function LDAvis_load_lib(url, callback){\n",
       "  var s = document.createElement('script');\n",
       "  s.src = url;\n",
       "  s.async = true;\n",
       "  s.onreadystatechange = s.onload = callback;\n",
       "  s.onerror = function(){console.warn(\"failed to load library \" + url);};\n",
       "  document.getElementsByTagName(\"head\")[0].appendChild(s);\n",
       "}\n",
       "\n",
       "if(typeof(LDAvis) !== \"undefined\"){\n",
       "   // already loaded: just create the visualization\n",
       "   !function(LDAvis){\n",
       "       new LDAvis(\"#\" + \"ldavis_el13711404143625685123750317230\", ldavis_el13711404143625685123750317230_data);\n",
       "   }(LDAvis);\n",
       "}else if(typeof define === \"function\" && define.amd){\n",
       "   // require.js is available: use it to load d3/LDAvis\n",
       "   require.config({paths: {d3: \"https://d3js.org/d3.v5\"}});\n",
       "   require([\"d3\"], function(d3){\n",
       "      window.d3 = d3;\n",
       "      LDAvis_load_lib(\"https://cdn.jsdelivr.net/gh/bmabey/pyLDAvis@3.4.0/pyLDAvis/js/ldavis.v3.0.0.js\", function(){\n",
       "        new LDAvis(\"#\" + \"ldavis_el13711404143625685123750317230\", ldavis_el13711404143625685123750317230_data);\n",
       "      });\n",
       "    });\n",
       "}else{\n",
       "    // require.js not available: dynamically load d3 & LDAvis\n",
       "    LDAvis_load_lib(\"https://d3js.org/d3.v5.js\", function(){\n",
       "         LDAvis_load_lib(\"https://cdn.jsdelivr.net/gh/bmabey/pyLDAvis@3.4.0/pyLDAvis/js/ldavis.v3.0.0.js\", function(){\n",
       "                 new LDAvis(\"#\" + \"ldavis_el13711404143625685123750317230\", ldavis_el13711404143625685123750317230_data);\n",
       "            })\n",
       "         });\n",
       "}\n",
       "</script>"
      ],
      "text/plain": [
       "<IPython.core.display.HTML object>"
      ]
     },
     "execution_count": 205,
     "metadata": {},
     "output_type": "execute_result"
    }
   ],
   "source": [
    "import pyLDAvis.gensim_models\n",
    "import pyLDAvis\n",
    "# Assurez-vous d'appeler pyLDAvis.enable_notebook() dans un environnement Jupyter pour l'interaction inline\n",
    "pyLDAvis.enable_notebook()\n",
    "\n",
    "# Préparation des données pour PyLDAVis\n",
    "vis = pyLDAvis.gensim_models.prepare(lda.model, test_corpus, dictionary=lda.dictionary)\n",
    "\n",
    "# Visualisation\n",
    "pyLDAvis.display(vis)"
   ]
  },
  {
   "cell_type": "code",
   "execution_count": null,
   "metadata": {},
   "outputs": [
    {
     "name": "stdout",
     "output_type": "stream",
     "text": [
      "matrix of document/topic distribution shape: (13, 6)\n"
     ]
    },
    {
     "data": {
      "text/html": [
       "<div>\n",
       "<style scoped>\n",
       "    .dataframe tbody tr th:only-of-type {\n",
       "        vertical-align: middle;\n",
       "    }\n",
       "\n",
       "    .dataframe tbody tr th {\n",
       "        vertical-align: top;\n",
       "    }\n",
       "\n",
       "    .dataframe thead th {\n",
       "        text-align: right;\n",
       "    }\n",
       "</style>\n",
       "<table border=\"1\" class=\"dataframe\">\n",
       "  <thead>\n",
       "    <tr style=\"text-align: right;\">\n",
       "      <th></th>\n",
       "      <th>0</th>\n",
       "      <th>1</th>\n",
       "      <th>2</th>\n",
       "      <th>3</th>\n",
       "      <th>4</th>\n",
       "      <th>5</th>\n",
       "    </tr>\n",
       "  </thead>\n",
       "  <tbody>\n",
       "    <tr>\n",
       "      <th>0</th>\n",
       "      <td>0.163807</td>\n",
       "      <td>0.181148</td>\n",
       "      <td>0.003108</td>\n",
       "      <td>0.091383</td>\n",
       "      <td>0.178526</td>\n",
       "      <td>0.382027</td>\n",
       "    </tr>\n",
       "    <tr>\n",
       "      <th>1</th>\n",
       "      <td>0.200293</td>\n",
       "      <td>0.013912</td>\n",
       "      <td>0.118389</td>\n",
       "      <td>0.140211</td>\n",
       "      <td>0.013961</td>\n",
       "      <td>0.513235</td>\n",
       "    </tr>\n",
       "    <tr>\n",
       "      <th>2</th>\n",
       "      <td>0.080581</td>\n",
       "      <td>0.125457</td>\n",
       "      <td>0.069569</td>\n",
       "      <td>0.181734</td>\n",
       "      <td>0.258566</td>\n",
       "      <td>0.284094</td>\n",
       "    </tr>\n",
       "    <tr>\n",
       "      <th>3</th>\n",
       "      <td>0.015186</td>\n",
       "      <td>0.015170</td>\n",
       "      <td>0.015192</td>\n",
       "      <td>0.015216</td>\n",
       "      <td>0.015158</td>\n",
       "      <td>0.924077</td>\n",
       "    </tr>\n",
       "    <tr>\n",
       "      <th>4</th>\n",
       "      <td>0.231940</td>\n",
       "      <td>0.479067</td>\n",
       "      <td>0.001148</td>\n",
       "      <td>0.087057</td>\n",
       "      <td>0.001156</td>\n",
       "      <td>0.199631</td>\n",
       "    </tr>\n",
       "  </tbody>\n",
       "</table>\n",
       "</div>"
      ],
      "text/plain": [
       "          0         1         2         3         4         5\n",
       "0  0.163807  0.181148  0.003108  0.091383  0.178526  0.382027\n",
       "1  0.200293  0.013912  0.118389  0.140211  0.013961  0.513235\n",
       "2  0.080581  0.125457  0.069569  0.181734  0.258566  0.284094\n",
       "3  0.015186  0.015170  0.015192  0.015216  0.015158  0.924077\n",
       "4  0.231940  0.479067  0.001148  0.087057  0.001156  0.199631"
      ]
     },
     "metadata": {},
     "output_type": "display_data"
    }
   ],
   "source": [
    "# obtain topic distributions for each document\n",
    "topic_dist = pd.DataFrame(test_documents_topics)\n",
    "for topic in topic_dist.columns:\n",
    "    topic_dist[topic] = topic_dist[topic].apply(lambda x : x[1])\n",
    "\n",
    "print('matrix of document/topic distribution shape:', topic_dist.shape)\n",
    "display(topic_dist.head())\n"
   ]
  },
  {
   "cell_type": "code",
   "execution_count": null,
   "metadata": {},
   "outputs": [
    {
     "data": {
      "text/plain": [
       "(20, 166)"
      ]
     },
     "metadata": {},
     "output_type": "display_data"
    }
   ],
   "source": [
    "\n",
    "from sklearn.preprocessing import MultiLabelBinarizer\n",
    "\n",
    "\n",
    "mlb = MultiLabelBinarizer()\n",
    "\n",
    "# Adapter MultiLabelBinarizer et transformer les étiquettes\n",
    "y_binarized = mlb.fit_transform(y_train)\n",
    "y_test_binarized = mlb.transform(y_test) \n",
    "display(y_test_binarized.shape)\n"
   ]
  },
  {
   "cell_type": "code",
   "execution_count": null,
   "metadata": {},
   "outputs": [
    {
     "data": {
      "text/plain": [
       "'topic_tag = np.matmul(topic_dist.T, y_binarized)\\n# normalizing \\ntopic_tag = topic_tag/np.sum(y_test_binarized,axis=0)'"
      ]
     },
     "execution_count": 212,
     "metadata": {},
     "output_type": "execute_result"
    }
   ],
   "source": [
    "'''topic_tag = np.matmul(topic_dist.T, y_binarized)\n",
    "# normalizing \n",
    "topic_tag = topic_tag/np.sum(y_test_binarized,axis=0)'''"
   ]
  },
  {
   "cell_type": "code",
   "execution_count": null,
   "metadata": {},
   "outputs": [
    {
     "ename": "ValueError",
     "evalue": "Found input variables with inconsistent numbers of samples: [13, 80]",
     "output_type": "error",
     "traceback": [
      "\u001b[0;31m---------------------------------------------------------------------------\u001b[0m",
      "\u001b[0;31mValueError\u001b[0m                                Traceback (most recent call last)",
      "Cell \u001b[0;32mIn[217], line 7\u001b[0m\n\u001b[1;32m      3\u001b[0m \u001b[38;5;28;01mfrom\u001b[39;00m \u001b[38;5;21;01msklearn\u001b[39;00m\u001b[38;5;21;01m.\u001b[39;00m\u001b[38;5;21;01mmulticlass\u001b[39;00m \u001b[38;5;28;01mimport\u001b[39;00m OneVsRestClassifier\n\u001b[1;32m      6\u001b[0m time1 \u001b[38;5;241m=\u001b[39mtime\u001b[38;5;241m.\u001b[39mtime()\n\u001b[0;32m----> 7\u001b[0m x_train, x_test, y_train_lr, y_test_lr \u001b[38;5;241m=\u001b[39m \u001b[43mtrain_test_split\u001b[49m\u001b[43m(\u001b[49m\u001b[43mtopic_dist\u001b[49m\u001b[43m,\u001b[49m\u001b[43m \u001b[49m\u001b[43my_binarized\u001b[49m\u001b[43m,\u001b[49m\u001b[43m \u001b[49m\u001b[43mtest_size\u001b[49m\u001b[38;5;241;43m=\u001b[39;49m\u001b[38;5;241;43m0.2\u001b[39;49m\u001b[43m,\u001b[49m\u001b[43m \u001b[49m\u001b[43mrandom_state\u001b[49m\u001b[38;5;241;43m=\u001b[39;49m\u001b[38;5;241;43m100\u001b[39;49m\u001b[43m)\u001b[49m\n\u001b[1;32m      8\u001b[0m \u001b[38;5;28mprint\u001b[39m(\u001b[38;5;124m\"\u001b[39m\u001b[38;5;124mx_train shape:\u001b[39m\u001b[38;5;124m\"\u001b[39m, x_train\u001b[38;5;241m.\u001b[39mshape)\n\u001b[1;32m      9\u001b[0m \u001b[38;5;28mprint\u001b[39m(\u001b[38;5;124m\"\u001b[39m\u001b[38;5;124mx_test shape:\u001b[39m\u001b[38;5;124m\"\u001b[39m, x_test\u001b[38;5;241m.\u001b[39mshape)\n",
      "File \u001b[0;32m~/opt/anaconda3/lib/python3.9/site-packages/sklearn/utils/_param_validation.py:211\u001b[0m, in \u001b[0;36mvalidate_params.<locals>.decorator.<locals>.wrapper\u001b[0;34m(*args, **kwargs)\u001b[0m\n\u001b[1;32m    205\u001b[0m \u001b[38;5;28;01mtry\u001b[39;00m:\n\u001b[1;32m    206\u001b[0m     \u001b[38;5;28;01mwith\u001b[39;00m config_context(\n\u001b[1;32m    207\u001b[0m         skip_parameter_validation\u001b[38;5;241m=\u001b[39m(\n\u001b[1;32m    208\u001b[0m             prefer_skip_nested_validation \u001b[38;5;129;01mor\u001b[39;00m global_skip_validation\n\u001b[1;32m    209\u001b[0m         )\n\u001b[1;32m    210\u001b[0m     ):\n\u001b[0;32m--> 211\u001b[0m         \u001b[38;5;28;01mreturn\u001b[39;00m \u001b[43mfunc\u001b[49m\u001b[43m(\u001b[49m\u001b[38;5;241;43m*\u001b[39;49m\u001b[43margs\u001b[49m\u001b[43m,\u001b[49m\u001b[43m \u001b[49m\u001b[38;5;241;43m*\u001b[39;49m\u001b[38;5;241;43m*\u001b[39;49m\u001b[43mkwargs\u001b[49m\u001b[43m)\u001b[49m\n\u001b[1;32m    212\u001b[0m \u001b[38;5;28;01mexcept\u001b[39;00m InvalidParameterError \u001b[38;5;28;01mas\u001b[39;00m e:\n\u001b[1;32m    213\u001b[0m     \u001b[38;5;66;03m# When the function is just a wrapper around an estimator, we allow\u001b[39;00m\n\u001b[1;32m    214\u001b[0m     \u001b[38;5;66;03m# the function to delegate validation to the estimator, but we replace\u001b[39;00m\n\u001b[1;32m    215\u001b[0m     \u001b[38;5;66;03m# the name of the estimator by the name of the function in the error\u001b[39;00m\n\u001b[1;32m    216\u001b[0m     \u001b[38;5;66;03m# message to avoid confusion.\u001b[39;00m\n\u001b[1;32m    217\u001b[0m     msg \u001b[38;5;241m=\u001b[39m re\u001b[38;5;241m.\u001b[39msub(\n\u001b[1;32m    218\u001b[0m         \u001b[38;5;124mr\u001b[39m\u001b[38;5;124m\"\u001b[39m\u001b[38;5;124mparameter of \u001b[39m\u001b[38;5;124m\\\u001b[39m\u001b[38;5;124mw+ must be\u001b[39m\u001b[38;5;124m\"\u001b[39m,\n\u001b[1;32m    219\u001b[0m         \u001b[38;5;124mf\u001b[39m\u001b[38;5;124m\"\u001b[39m\u001b[38;5;124mparameter of \u001b[39m\u001b[38;5;132;01m{\u001b[39;00mfunc\u001b[38;5;241m.\u001b[39m\u001b[38;5;18m__qualname__\u001b[39m\u001b[38;5;132;01m}\u001b[39;00m\u001b[38;5;124m must be\u001b[39m\u001b[38;5;124m\"\u001b[39m,\n\u001b[1;32m    220\u001b[0m         \u001b[38;5;28mstr\u001b[39m(e),\n\u001b[1;32m    221\u001b[0m     )\n",
      "File \u001b[0;32m~/opt/anaconda3/lib/python3.9/site-packages/sklearn/model_selection/_split.py:2614\u001b[0m, in \u001b[0;36mtrain_test_split\u001b[0;34m(test_size, train_size, random_state, shuffle, stratify, *arrays)\u001b[0m\n\u001b[1;32m   2611\u001b[0m \u001b[38;5;28;01mif\u001b[39;00m n_arrays \u001b[38;5;241m==\u001b[39m \u001b[38;5;241m0\u001b[39m:\n\u001b[1;32m   2612\u001b[0m     \u001b[38;5;28;01mraise\u001b[39;00m \u001b[38;5;167;01mValueError\u001b[39;00m(\u001b[38;5;124m\"\u001b[39m\u001b[38;5;124mAt least one array required as input\u001b[39m\u001b[38;5;124m\"\u001b[39m)\n\u001b[0;32m-> 2614\u001b[0m arrays \u001b[38;5;241m=\u001b[39m \u001b[43mindexable\u001b[49m\u001b[43m(\u001b[49m\u001b[38;5;241;43m*\u001b[39;49m\u001b[43marrays\u001b[49m\u001b[43m)\u001b[49m\n\u001b[1;32m   2616\u001b[0m n_samples \u001b[38;5;241m=\u001b[39m _num_samples(arrays[\u001b[38;5;241m0\u001b[39m])\n\u001b[1;32m   2617\u001b[0m n_train, n_test \u001b[38;5;241m=\u001b[39m _validate_shuffle_split(\n\u001b[1;32m   2618\u001b[0m     n_samples, test_size, train_size, default_test_size\u001b[38;5;241m=\u001b[39m\u001b[38;5;241m0.25\u001b[39m\n\u001b[1;32m   2619\u001b[0m )\n",
      "File \u001b[0;32m~/opt/anaconda3/lib/python3.9/site-packages/sklearn/utils/validation.py:455\u001b[0m, in \u001b[0;36mindexable\u001b[0;34m(*iterables)\u001b[0m\n\u001b[1;32m    436\u001b[0m \u001b[38;5;250m\u001b[39m\u001b[38;5;124;03m\"\"\"Make arrays indexable for cross-validation.\u001b[39;00m\n\u001b[1;32m    437\u001b[0m \n\u001b[1;32m    438\u001b[0m \u001b[38;5;124;03mChecks consistent length, passes through None, and ensures that everything\u001b[39;00m\n\u001b[0;32m   (...)\u001b[0m\n\u001b[1;32m    451\u001b[0m \u001b[38;5;124;03m    sparse matrix, or dataframe) or `None`.\u001b[39;00m\n\u001b[1;32m    452\u001b[0m \u001b[38;5;124;03m\"\"\"\u001b[39;00m\n\u001b[1;32m    454\u001b[0m result \u001b[38;5;241m=\u001b[39m [_make_indexable(X) \u001b[38;5;28;01mfor\u001b[39;00m X \u001b[38;5;129;01min\u001b[39;00m iterables]\n\u001b[0;32m--> 455\u001b[0m \u001b[43mcheck_consistent_length\u001b[49m\u001b[43m(\u001b[49m\u001b[38;5;241;43m*\u001b[39;49m\u001b[43mresult\u001b[49m\u001b[43m)\u001b[49m\n\u001b[1;32m    456\u001b[0m \u001b[38;5;28;01mreturn\u001b[39;00m result\n",
      "File \u001b[0;32m~/opt/anaconda3/lib/python3.9/site-packages/sklearn/utils/validation.py:409\u001b[0m, in \u001b[0;36mcheck_consistent_length\u001b[0;34m(*arrays)\u001b[0m\n\u001b[1;32m    407\u001b[0m uniques \u001b[38;5;241m=\u001b[39m np\u001b[38;5;241m.\u001b[39munique(lengths)\n\u001b[1;32m    408\u001b[0m \u001b[38;5;28;01mif\u001b[39;00m \u001b[38;5;28mlen\u001b[39m(uniques) \u001b[38;5;241m>\u001b[39m \u001b[38;5;241m1\u001b[39m:\n\u001b[0;32m--> 409\u001b[0m     \u001b[38;5;28;01mraise\u001b[39;00m \u001b[38;5;167;01mValueError\u001b[39;00m(\n\u001b[1;32m    410\u001b[0m         \u001b[38;5;124m\"\u001b[39m\u001b[38;5;124mFound input variables with inconsistent numbers of samples: \u001b[39m\u001b[38;5;132;01m%r\u001b[39;00m\u001b[38;5;124m\"\u001b[39m\n\u001b[1;32m    411\u001b[0m         \u001b[38;5;241m%\u001b[39m [\u001b[38;5;28mint\u001b[39m(l) \u001b[38;5;28;01mfor\u001b[39;00m l \u001b[38;5;129;01min\u001b[39;00m lengths]\n\u001b[1;32m    412\u001b[0m     )\n",
      "\u001b[0;31mValueError\u001b[0m: Found input variables with inconsistent numbers of samples: [13, 80]"
     ]
    }
   ],
   "source": [
    "from sklearn.linear_model import LogisticRegression\n",
    "from sklearn.metrics import precision_score, recall_score, f1_score\n",
    "from sklearn.multiclass import OneVsRestClassifier\n",
    "\n",
    "\n",
    "time1 =time.time()\n",
    "x_train, x_test, y_train_lr, y_test_lr = train_test_split(topic_dist, y_binarized, test_size=0.2, random_state=100)\n",
    "print(\"x_train shape:\", x_train.shape)\n",
    "print(\"x_test shape:\", x_test.shape)\n",
    "print(\"y_train shape:\", y_train_lr.shape)\n",
    "print(\"y_test shape:\", y_test_lr.shape)\n",
    "\n",
    "\n",
    "\n",
    "# Adapter MultiLabelBinarizer et transformer les étiquettes\n",
    "\n",
    "\n",
    "lr = OneVsRestClassifier(LogisticRegression()).fit(x_train, y_train_lr)\n",
    "y_pred_lr = lr.predict_proba(x_test)\n",
    "fit_time = np.round(time.time() - time1,1)\n",
    "#score of prediction\n",
    "\n"
   ]
  },
  {
   "cell_type": "code",
   "execution_count": null,
   "metadata": {},
   "outputs": [
    {
     "name": "stdout",
     "output_type": "stream",
     "text": [
      "(3, 84) (3, 84)\n"
     ]
    }
   ],
   "source": [
    "probabilities = y_pred_lr\n",
    "\n",
    "print(probabilities.shape, y_test_lr.shape)\n",
    "# Définir un seuil personnalisé pour sélectionner les tags\n",
    "threshold = 0.15  # baisser le seuil pour inclure plus de tags\n",
    "\n",
    "def select_top_n_tags(probabilities, threshold, top_n=5):\n",
    "    # Créer une matrice de zéros de la même forme que probabilities\n",
    "    final_tags = np.zeros(probabilities.shape)\n",
    "    \n",
    "    for i in range(probabilities.shape[0]):\n",
    "        # Trouver les indices qui satisfont le seuil\n",
    "        eligible_indices = np.where(probabilities[i] >= threshold)[0]\n",
    "        \n",
    "        # Trier ces indices en fonction de leur probabilité\n",
    "        top_indices = eligible_indices[np.argsort(probabilities[i][eligible_indices])][::-1]\n",
    "        \n",
    "        # Sélectionner les top N indices\n",
    "        top_n_indices = top_indices[:top_n]\n",
    "        \n",
    "        # Mettre à 1 les positions correspondant aux tags sélectionnés\n",
    "        final_tags[i, top_n_indices] = 1\n",
    "    \n",
    "    return final_tags\n",
    "\n",
    "# Utiliser la fonction pour obtenir les tags prédits\n",
    "\n",
    "binary_predictions = select_top_n_tags(probabilities, threshold, top_n=7)"
   ]
  },
  {
   "cell_type": "code",
   "execution_count": null,
   "metadata": {},
   "outputs": [
    {
     "name": "stdout",
     "output_type": "stream",
     "text": [
      "Shape of true values: (3, 84)\n",
      "Shape of predictions: (3, 84)\n"
     ]
    }
   ],
   "source": [
    "print(\"Shape of true values:\", y_test_lr.shape)\n",
    "print(\"Shape of predictions:\", binary_predictions.shape)"
   ]
  },
  {
   "cell_type": "code",
   "execution_count": null,
   "metadata": {},
   "outputs": [
    {
     "name": "stdout",
     "output_type": "stream",
     "text": [
      "jaccord score: 0.18835978835978837\n",
      "Precision: 0.6333333333333333\n",
      "Recall: 0.23809523809523805\n",
      "F1 Score: 0.3156565656565657\n"
     ]
    }
   ],
   "source": [
    "from sklearn.metrics import jaccard_score\n",
    "\n",
    "\n",
    "print(\"jaccord score:\", jaccard_score(binary_predictions, y_test_lr, average='samples'))\n",
    "print(\"Precision:\", precision_score(binary_predictions, y_test_lr, average='samples'))\n",
    "print(\"Recall:\", recall_score(binary_predictions, y_test_lr, average='samples'))\n",
    "print(\"F1 Score:\", f1_score(binary_predictions, y_test_lr, average='samples'))\n"
   ]
  },
  {
   "cell_type": "code",
   "execution_count": null,
   "metadata": {},
   "outputs": [
    {
     "name": "stdout",
     "output_type": "stream",
     "text": [
      "[('android',), ('android', 'android-compose-button', 'android-jetpack-compose', 'android-jetpack-compose-button'), ('android', 'android-5.0-lollipop', 'android-6.0-marshmallow', 'floating-action-button', 'material-design')]\n",
      "[('android', 'android-architecture-navigation', 'android-fragments', 'android-jetpack-compose', 'android-navigation', 'floating-action-button', 'kotlin'), ('android', 'android-architecture-navigation', 'android-fragments', 'android-jetpack-compose', 'android-navigation', 'floating-action-button', 'kotlin'), ('android', 'android-architecture-navigation', 'android-fragments', 'android-jetpack-compose', 'android-navigation', 'floating-action-button', 'kotlin')]\n"
     ]
    }
   ],
   "source": [
    "# Afficher les labels des prédictions\n",
    "predictions_labels =mlb.inverse_transform(y_test_lr)\n",
    "true_labels = mlb.inverse_transform(binary_predictions)\n",
    "print(predictions_labels)\n",
    "print(true_labels)"
   ]
  },
  {
   "cell_type": "code",
   "execution_count": null,
   "metadata": {},
   "outputs": [
    {
     "data": {
      "text/html": [
       "<div>\n",
       "<style scoped>\n",
       "    .dataframe tbody tr th:only-of-type {\n",
       "        vertical-align: middle;\n",
       "    }\n",
       "\n",
       "    .dataframe tbody tr th {\n",
       "        vertical-align: top;\n",
       "    }\n",
       "\n",
       "    .dataframe thead th {\n",
       "        text-align: right;\n",
       "    }\n",
       "</style>\n",
       "<table border=\"1\" class=\"dataframe\">\n",
       "  <thead>\n",
       "    <tr style=\"text-align: right;\">\n",
       "      <th></th>\n",
       "      <th>Predicted Labels</th>\n",
       "      <th>True Labels</th>\n",
       "    </tr>\n",
       "  </thead>\n",
       "  <tbody>\n",
       "    <tr>\n",
       "      <th>0</th>\n",
       "      <td>(android,)</td>\n",
       "      <td>(android, android-architecture-navigation, and...</td>\n",
       "    </tr>\n",
       "    <tr>\n",
       "      <th>1</th>\n",
       "      <td>(android, android-compose-button, android-jetp...</td>\n",
       "      <td>(android, android-architecture-navigation, and...</td>\n",
       "    </tr>\n",
       "    <tr>\n",
       "      <th>2</th>\n",
       "      <td>(android, android-5.0-lollipop, android-6.0-ma...</td>\n",
       "      <td>(android, android-architecture-navigation, and...</td>\n",
       "    </tr>\n",
       "  </tbody>\n",
       "</table>\n",
       "</div>"
      ],
      "text/plain": [
       "                                    Predicted Labels  \\\n",
       "0                                         (android,)   \n",
       "1  (android, android-compose-button, android-jetp...   \n",
       "2  (android, android-5.0-lollipop, android-6.0-ma...   \n",
       "\n",
       "                                         True Labels  \n",
       "0  (android, android-architecture-navigation, and...  \n",
       "1  (android, android-architecture-navigation, and...  \n",
       "2  (android, android-architecture-navigation, and...  "
      ]
     },
     "metadata": {},
     "output_type": "display_data"
    }
   ],
   "source": [
    "\n",
    "\n",
    "# Créer un DataFrame à partir des labels de prédiction et des vrais labels\n",
    "df = pd.DataFrame({\n",
    "    'Predicted Labels': predictions_labels,\n",
    "    'True Labels': true_labels\n",
    "})\n",
    "\n",
    "display(df)"
   ]
  }
 ],
 "metadata": {
  "kernelspec": {
   "display_name": "Python 3",
   "language": "python",
   "name": "python3"
  },
  "language_info": {
   "codemirror_mode": {
    "name": "ipython",
    "version": 3
   },
   "file_extension": ".py",
   "mimetype": "text/x-python",
   "name": "python",
   "nbconvert_exporter": "python",
   "pygments_lexer": "ipython3",
   "version": "3.9.18"
  }
 },
 "nbformat": 4,
 "nbformat_minor": 2
}
